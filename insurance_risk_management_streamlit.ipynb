{
 "cells": [
  {
   "cell_type": "code",
   "execution_count": 3,
   "id": "d8982c21-74c2-40cc-988b-ccc53a0c0b9c",
   "metadata": {},
   "outputs": [
    {
     "name": "stdout",
     "output_type": "stream",
     "text": [
      "Requirement already satisfied: streamlit in c:\\users\\mvska\\appdata\\local\\programs\\python\\python311\\lib\\site-packages (1.42.0)\n",
      "Requirement already satisfied: pandas in c:\\users\\mvska\\appdata\\local\\programs\\python\\python311\\lib\\site-packages (2.2.2)\n",
      "Requirement already satisfied: numpy in c:\\users\\mvska\\appdata\\local\\programs\\python\\python311\\lib\\site-packages (1.26.4)\n",
      "Requirement already satisfied: scikit-learn in c:\\users\\mvska\\appdata\\local\\programs\\python\\python311\\lib\\site-packages (1.5.0)\n",
      "Requirement already satisfied: plotly in c:\\users\\mvska\\appdata\\local\\programs\\python\\python311\\lib\\site-packages (6.2.0)\n",
      "Requirement already satisfied: streamlit-extras in c:\\users\\mvska\\appdata\\local\\programs\\python\\python311\\lib\\site-packages (0.7.5)\n",
      "Requirement already satisfied: altair<6,>=4.0 in c:\\users\\mvska\\appdata\\local\\programs\\python\\python311\\lib\\site-packages (from streamlit) (5.5.0)\n",
      "Requirement already satisfied: blinker<2,>=1.0.0 in c:\\users\\mvska\\appdata\\local\\programs\\python\\python311\\lib\\site-packages (from streamlit) (1.9.0)\n",
      "Requirement already satisfied: cachetools<6,>=4.0 in c:\\users\\mvska\\appdata\\local\\programs\\python\\python311\\lib\\site-packages (from streamlit) (5.5.1)\n",
      "Requirement already satisfied: click<9,>=7.0 in c:\\users\\mvska\\appdata\\local\\programs\\python\\python311\\lib\\site-packages (from streamlit) (8.1.7)\n",
      "Requirement already satisfied: packaging<25,>=20 in c:\\users\\mvska\\appdata\\local\\programs\\python\\python311\\lib\\site-packages (from streamlit) (24.0)\n",
      "Requirement already satisfied: pillow<12,>=7.1.0 in c:\\users\\mvska\\appdata\\local\\programs\\python\\python311\\lib\\site-packages (from streamlit) (10.3.0)\n",
      "Requirement already satisfied: protobuf<6,>=3.20 in c:\\users\\mvska\\appdata\\local\\programs\\python\\python311\\lib\\site-packages (from streamlit) (5.29.5)\n",
      "Requirement already satisfied: pyarrow>=7.0 in c:\\users\\mvska\\appdata\\local\\programs\\python\\python311\\lib\\site-packages (from streamlit) (16.1.0)\n",
      "Requirement already satisfied: requests<3,>=2.27 in c:\\users\\mvska\\appdata\\local\\programs\\python\\python311\\lib\\site-packages (from streamlit) (2.31.0)\n",
      "Requirement already satisfied: rich<14,>=10.14.0 in c:\\users\\mvska\\appdata\\local\\programs\\python\\python311\\lib\\site-packages (from streamlit) (13.7.1)\n",
      "Requirement already satisfied: tenacity<10,>=8.1.0 in c:\\users\\mvska\\appdata\\local\\programs\\python\\python311\\lib\\site-packages (from streamlit) (8.4.1)\n",
      "Requirement already satisfied: toml<2,>=0.10.1 in c:\\users\\mvska\\appdata\\local\\programs\\python\\python311\\lib\\site-packages (from streamlit) (0.10.2)\n",
      "Requirement already satisfied: typing-extensions<5,>=4.4.0 in c:\\users\\mvska\\appdata\\local\\programs\\python\\python311\\lib\\site-packages (from streamlit) (4.13.0)\n",
      "Requirement already satisfied: watchdog<7,>=2.1.5 in c:\\users\\mvska\\appdata\\local\\programs\\python\\python311\\lib\\site-packages (from streamlit) (6.0.0)\n",
      "Requirement already satisfied: gitpython!=3.1.19,<4,>=3.0.7 in c:\\users\\mvska\\appdata\\local\\programs\\python\\python311\\lib\\site-packages (from streamlit) (3.1.44)\n",
      "Requirement already satisfied: pydeck<1,>=0.8.0b4 in c:\\users\\mvska\\appdata\\local\\programs\\python\\python311\\lib\\site-packages (from streamlit) (0.9.1)\n",
      "Requirement already satisfied: tornado<7,>=6.0.3 in c:\\users\\mvska\\appdata\\local\\programs\\python\\python311\\lib\\site-packages (from streamlit) (6.4)\n",
      "Requirement already satisfied: python-dateutil>=2.8.2 in c:\\users\\mvska\\appdata\\local\\programs\\python\\python311\\lib\\site-packages (from pandas) (2.9.0.post0)\n",
      "Requirement already satisfied: pytz>=2020.1 in c:\\users\\mvska\\appdata\\local\\programs\\python\\python311\\lib\\site-packages (from pandas) (2024.1)\n",
      "Requirement already satisfied: tzdata>=2022.7 in c:\\users\\mvska\\appdata\\local\\programs\\python\\python311\\lib\\site-packages (from pandas) (2024.1)\n",
      "Requirement already satisfied: scipy>=1.6.0 in c:\\users\\mvska\\appdata\\local\\programs\\python\\python311\\lib\\site-packages (from scikit-learn) (1.13.1)\n",
      "Requirement already satisfied: joblib>=1.2.0 in c:\\users\\mvska\\appdata\\local\\programs\\python\\python311\\lib\\site-packages (from scikit-learn) (1.4.2)\n",
      "Requirement already satisfied: threadpoolctl>=3.1.0 in c:\\users\\mvska\\appdata\\local\\programs\\python\\python311\\lib\\site-packages (from scikit-learn) (3.5.0)\n",
      "Requirement already satisfied: narwhals>=1.15.1 in c:\\users\\mvska\\appdata\\local\\programs\\python\\python311\\lib\\site-packages (from plotly) (1.26.0)\n",
      "Requirement already satisfied: altex>=0.2.0 in c:\\users\\mvska\\appdata\\local\\programs\\python\\python311\\lib\\site-packages (from streamlit-extras) (0.2.0)\n",
      "Requirement already satisfied: entrypoints>=0.4 in c:\\users\\mvska\\appdata\\local\\programs\\python\\python311\\lib\\site-packages (from streamlit-extras) (0.4)\n",
      "Requirement already satisfied: htbuilder>=0.6.2 in c:\\users\\mvska\\appdata\\local\\programs\\python\\python311\\lib\\site-packages (from streamlit-extras) (0.9.0)\n",
      "Requirement already satisfied: markdownlit>=0.0.7 in c:\\users\\mvska\\appdata\\local\\programs\\python\\python311\\lib\\site-packages (from streamlit-extras) (0.0.7)\n",
      "Requirement already satisfied: prometheus-client>=0.20.0 in c:\\users\\mvska\\appdata\\local\\programs\\python\\python311\\lib\\site-packages (from streamlit-extras) (0.20.0)\n",
      "Requirement already satisfied: snowflake-snowpark-python>=1.30.0 in c:\\users\\mvska\\appdata\\local\\programs\\python\\python311\\lib\\site-packages (from snowflake-snowpark-python[pandas]>=1.30.0->streamlit-extras) (1.33.0)\n",
      "Requirement already satisfied: st-annotated-text>=4.0.1 in c:\\users\\mvska\\appdata\\local\\programs\\python\\python311\\lib\\site-packages (from streamlit-extras) (4.0.2)\n",
      "Requirement already satisfied: st-theme>=1.2.3 in c:\\users\\mvska\\appdata\\local\\programs\\python\\python311\\lib\\site-packages (from streamlit-extras) (1.2.3)\n",
      "Requirement already satisfied: streamlit-avatar>=0.1.3 in c:\\users\\mvska\\appdata\\local\\programs\\python\\python311\\lib\\site-packages (from streamlit-extras) (0.1.3)\n",
      "Requirement already satisfied: streamlit-camera-input-live>=0.2.0 in c:\\users\\mvska\\appdata\\local\\programs\\python\\python311\\lib\\site-packages (from streamlit-extras) (0.2.0)\n",
      "Requirement already satisfied: streamlit-card>=1.0.2 in c:\\users\\mvska\\appdata\\local\\programs\\python\\python311\\lib\\site-packages (from streamlit-extras) (1.0.2)\n",
      "Requirement already satisfied: streamlit-embedcode>=0.1.2 in c:\\users\\mvska\\appdata\\local\\programs\\python\\python311\\lib\\site-packages (from streamlit-extras) (0.1.2)\n",
      "Requirement already satisfied: streamlit-faker>=0.0.3 in c:\\users\\mvska\\appdata\\local\\programs\\python\\python311\\lib\\site-packages (from streamlit-extras) (0.0.4)\n",
      "Requirement already satisfied: streamlit-image-coordinates>=0.1.9 in c:\\users\\mvska\\appdata\\local\\programs\\python\\python311\\lib\\site-packages (from streamlit-extras) (0.3.1)\n",
      "Requirement already satisfied: streamlit-keyup>=0.2.4 in c:\\users\\mvska\\appdata\\local\\programs\\python\\python311\\lib\\site-packages (from streamlit-extras) (0.3.0)\n",
      "Requirement already satisfied: streamlit-toggle-switch>=1.0.2 in c:\\users\\mvska\\appdata\\local\\programs\\python\\python311\\lib\\site-packages (from streamlit-extras) (1.0.2)\n",
      "Requirement already satisfied: streamlit-vertical-slider>=2.5.5 in c:\\users\\mvska\\appdata\\local\\programs\\python\\python311\\lib\\site-packages (from streamlit-extras) (2.5.5)\n",
      "Requirement already satisfied: validators>=0.33.0 in c:\\users\\mvska\\appdata\\local\\programs\\python\\python311\\lib\\site-packages (from streamlit-extras) (0.35.0)\n",
      "Requirement already satisfied: jinja2 in c:\\users\\mvska\\appdata\\local\\programs\\python\\python311\\lib\\site-packages (from altair<6,>=4.0->streamlit) (3.1.3)\n",
      "Requirement already satisfied: jsonschema>=3.0 in c:\\users\\mvska\\appdata\\local\\programs\\python\\python311\\lib\\site-packages (from altair<6,>=4.0->streamlit) (4.21.1)\n",
      "Requirement already satisfied: colorama in c:\\users\\mvska\\appdata\\local\\programs\\python\\python311\\lib\\site-packages (from click<9,>=7.0->streamlit) (0.4.6)\n",
      "Requirement already satisfied: gitdb<5,>=4.0.1 in c:\\users\\mvska\\appdata\\local\\programs\\python\\python311\\lib\\site-packages (from gitpython!=3.1.19,<4,>=3.0.7->streamlit) (4.0.12)\n",
      "Requirement already satisfied: markdown in c:\\users\\mvska\\appdata\\local\\programs\\python\\python311\\lib\\site-packages (from markdownlit>=0.0.7->streamlit-extras) (3.6)\n",
      "Requirement already satisfied: lxml in c:\\users\\mvska\\appdata\\local\\programs\\python\\python311\\lib\\site-packages (from markdownlit>=0.0.7->streamlit-extras) (6.0.0)\n",
      "Requirement already satisfied: favicon in c:\\users\\mvska\\appdata\\local\\programs\\python\\python311\\lib\\site-packages (from markdownlit>=0.0.7->streamlit-extras) (0.7.0)\n",
      "Requirement already satisfied: pymdown-extensions in c:\\users\\mvska\\appdata\\local\\programs\\python\\python311\\lib\\site-packages (from markdownlit>=0.0.7->streamlit-extras) (10.16)\n",
      "Requirement already satisfied: six>=1.5 in c:\\users\\mvska\\appdata\\local\\programs\\python\\python311\\lib\\site-packages (from python-dateutil>=2.8.2->pandas) (1.16.0)\n",
      "Requirement already satisfied: charset-normalizer<4,>=2 in c:\\users\\mvska\\appdata\\local\\programs\\python\\python311\\lib\\site-packages (from requests<3,>=2.27->streamlit) (3.3.2)\n",
      "Requirement already satisfied: idna<4,>=2.5 in c:\\users\\mvska\\appdata\\local\\programs\\python\\python311\\lib\\site-packages (from requests<3,>=2.27->streamlit) (3.7)\n",
      "Requirement already satisfied: urllib3<3,>=1.21.1 in c:\\users\\mvska\\appdata\\local\\programs\\python\\python311\\lib\\site-packages (from requests<3,>=2.27->streamlit) (2.2.1)\n",
      "Requirement already satisfied: certifi>=2017.4.17 in c:\\users\\mvska\\appdata\\local\\programs\\python\\python311\\lib\\site-packages (from requests<3,>=2.27->streamlit) (2024.2.2)\n",
      "Requirement already satisfied: markdown-it-py>=2.2.0 in c:\\users\\mvska\\appdata\\local\\programs\\python\\python311\\lib\\site-packages (from rich<14,>=10.14.0->streamlit) (3.0.0)\n",
      "Requirement already satisfied: pygments<3.0.0,>=2.13.0 in c:\\users\\mvska\\appdata\\local\\programs\\python\\python311\\lib\\site-packages (from rich<14,>=10.14.0->streamlit) (2.17.2)\n",
      "Requirement already satisfied: setuptools>=40.6.0 in c:\\users\\mvska\\appdata\\local\\programs\\python\\python311\\lib\\site-packages (from snowflake-snowpark-python>=1.30.0->snowflake-snowpark-python[pandas]>=1.30.0->streamlit-extras) (65.5.0)\n",
      "Requirement already satisfied: wheel in c:\\users\\mvska\\appdata\\local\\programs\\python\\python311\\lib\\site-packages (from snowflake-snowpark-python>=1.30.0->snowflake-snowpark-python[pandas]>=1.30.0->streamlit-extras) (0.43.0)\n",
      "Requirement already satisfied: snowflake-connector-python<4.0.0,>=3.14.0 in c:\\users\\mvska\\appdata\\local\\programs\\python\\python311\\lib\\site-packages (from snowflake-snowpark-python>=1.30.0->snowflake-snowpark-python[pandas]>=1.30.0->streamlit-extras) (3.16.0)\n",
      "Requirement already satisfied: pyyaml in c:\\users\\mvska\\appdata\\local\\programs\\python\\python311\\lib\\site-packages (from snowflake-snowpark-python>=1.30.0->snowflake-snowpark-python[pandas]>=1.30.0->streamlit-extras) (6.0.1)\n",
      "Requirement already satisfied: cloudpickle!=2.1.0,!=2.2.0,<=3.0.0,>=1.6.0 in c:\\users\\mvska\\appdata\\local\\programs\\python\\python311\\lib\\site-packages (from snowflake-snowpark-python>=1.30.0->snowflake-snowpark-python[pandas]>=1.30.0->streamlit-extras) (3.0.0)\n",
      "Requirement already satisfied: tzlocal in c:\\users\\mvska\\appdata\\local\\programs\\python\\python311\\lib\\site-packages (from snowflake-snowpark-python>=1.30.0->snowflake-snowpark-python[pandas]>=1.30.0->streamlit-extras) (5.3.1)\n",
      "Requirement already satisfied: faker in c:\\users\\mvska\\appdata\\local\\programs\\python\\python311\\lib\\site-packages (from streamlit-faker>=0.0.3->streamlit-extras) (37.4.0)\n",
      "Requirement already satisfied: matplotlib in c:\\users\\mvska\\appdata\\local\\programs\\python\\python311\\lib\\site-packages (from streamlit-faker>=0.0.3->streamlit-extras) (3.9.0)\n",
      "Requirement already satisfied: smmap<6,>=3.0.1 in c:\\users\\mvska\\appdata\\local\\programs\\python\\python311\\lib\\site-packages (from gitdb<5,>=4.0.1->gitpython!=3.1.19,<4,>=3.0.7->streamlit) (5.0.2)\n",
      "Requirement already satisfied: MarkupSafe>=2.0 in c:\\users\\mvska\\appdata\\local\\programs\\python\\python311\\lib\\site-packages (from jinja2->altair<6,>=4.0->streamlit) (2.1.5)\n",
      "Requirement already satisfied: attrs>=22.2.0 in c:\\users\\mvska\\appdata\\local\\programs\\python\\python311\\lib\\site-packages (from jsonschema>=3.0->altair<6,>=4.0->streamlit) (23.2.0)\n",
      "Requirement already satisfied: jsonschema-specifications>=2023.03.6 in c:\\users\\mvska\\appdata\\local\\programs\\python\\python311\\lib\\site-packages (from jsonschema>=3.0->altair<6,>=4.0->streamlit) (2023.12.1)\n",
      "Requirement already satisfied: referencing>=0.28.4 in c:\\users\\mvska\\appdata\\local\\programs\\python\\python311\\lib\\site-packages (from jsonschema>=3.0->altair<6,>=4.0->streamlit) (0.35.0)\n",
      "Requirement already satisfied: rpds-py>=0.7.1 in c:\\users\\mvska\\appdata\\local\\programs\\python\\python311\\lib\\site-packages (from jsonschema>=3.0->altair<6,>=4.0->streamlit) (0.18.0)\n",
      "Requirement already satisfied: mdurl~=0.1 in c:\\users\\mvska\\appdata\\local\\programs\\python\\python311\\lib\\site-packages (from markdown-it-py>=2.2.0->rich<14,>=10.14.0->streamlit) (0.1.2)\n",
      "Requirement already satisfied: asn1crypto<2.0.0,>0.24.0 in c:\\users\\mvska\\appdata\\local\\programs\\python\\python311\\lib\\site-packages (from snowflake-connector-python<4.0.0,>=3.14.0->snowflake-snowpark-python>=1.30.0->snowflake-snowpark-python[pandas]>=1.30.0->streamlit-extras) (1.5.1)\n",
      "Requirement already satisfied: boto3>=1.24 in c:\\users\\mvska\\appdata\\local\\programs\\python\\python311\\lib\\site-packages (from snowflake-connector-python<4.0.0,>=3.14.0->snowflake-snowpark-python>=1.30.0->snowflake-snowpark-python[pandas]>=1.30.0->streamlit-extras) (1.39.3)\n",
      "Requirement already satisfied: botocore>=1.24 in c:\\users\\mvska\\appdata\\local\\programs\\python\\python311\\lib\\site-packages (from snowflake-connector-python<4.0.0,>=3.14.0->snowflake-snowpark-python>=1.30.0->snowflake-snowpark-python[pandas]>=1.30.0->streamlit-extras) (1.39.3)\n",
      "Requirement already satisfied: cffi<2.0.0,>=1.9 in c:\\users\\mvska\\appdata\\local\\programs\\python\\python311\\lib\\site-packages (from snowflake-connector-python<4.0.0,>=3.14.0->snowflake-snowpark-python>=1.30.0->snowflake-snowpark-python[pandas]>=1.30.0->streamlit-extras) (1.16.0)\n",
      "Requirement already satisfied: cryptography>=3.1.0 in c:\\users\\mvska\\appdata\\local\\programs\\python\\python311\\lib\\site-packages (from snowflake-connector-python<4.0.0,>=3.14.0->snowflake-snowpark-python>=1.30.0->snowflake-snowpark-python[pandas]>=1.30.0->streamlit-extras) (45.0.5)\n",
      "Requirement already satisfied: pyOpenSSL<26.0.0,>=22.0.0 in c:\\users\\mvska\\appdata\\local\\programs\\python\\python311\\lib\\site-packages (from snowflake-connector-python<4.0.0,>=3.14.0->snowflake-snowpark-python>=1.30.0->snowflake-snowpark-python[pandas]>=1.30.0->streamlit-extras) (25.1.0)\n",
      "Requirement already satisfied: pyjwt<3.0.0 in c:\\users\\mvska\\appdata\\local\\programs\\python\\python311\\lib\\site-packages (from snowflake-connector-python<4.0.0,>=3.14.0->snowflake-snowpark-python>=1.30.0->snowflake-snowpark-python[pandas]>=1.30.0->streamlit-extras) (2.10.1)\n",
      "Requirement already satisfied: filelock<4,>=3.5 in c:\\users\\mvska\\appdata\\local\\programs\\python\\python311\\lib\\site-packages (from snowflake-connector-python<4.0.0,>=3.14.0->snowflake-snowpark-python>=1.30.0->snowflake-snowpark-python[pandas]>=1.30.0->streamlit-extras) (3.15.4)\n",
      "Requirement already satisfied: sortedcontainers>=2.4.0 in c:\\users\\mvska\\appdata\\local\\programs\\python\\python311\\lib\\site-packages (from snowflake-connector-python<4.0.0,>=3.14.0->snowflake-snowpark-python>=1.30.0->snowflake-snowpark-python[pandas]>=1.30.0->streamlit-extras) (2.4.0)\n",
      "Requirement already satisfied: platformdirs<5.0.0,>=2.6.0 in c:\\users\\mvska\\appdata\\local\\programs\\python\\python311\\lib\\site-packages (from snowflake-connector-python<4.0.0,>=3.14.0->snowflake-snowpark-python>=1.30.0->snowflake-snowpark-python[pandas]>=1.30.0->streamlit-extras) (4.2.1)\n",
      "Requirement already satisfied: tomlkit in c:\\users\\mvska\\appdata\\local\\programs\\python\\python311\\lib\\site-packages (from snowflake-connector-python<4.0.0,>=3.14.0->snowflake-snowpark-python>=1.30.0->snowflake-snowpark-python[pandas]>=1.30.0->streamlit-extras) (0.13.2)\n",
      "Requirement already satisfied: beautifulsoup4>=4.7.0 in c:\\users\\mvska\\appdata\\local\\programs\\python\\python311\\lib\\site-packages (from favicon->markdownlit>=0.0.7->streamlit-extras) (4.12.3)\n",
      "Requirement already satisfied: contourpy>=1.0.1 in c:\\users\\mvska\\appdata\\local\\programs\\python\\python311\\lib\\site-packages (from matplotlib->streamlit-faker>=0.0.3->streamlit-extras) (1.2.1)\n",
      "Requirement already satisfied: cycler>=0.10 in c:\\users\\mvska\\appdata\\local\\programs\\python\\python311\\lib\\site-packages (from matplotlib->streamlit-faker>=0.0.3->streamlit-extras) (0.12.1)\n",
      "Requirement already satisfied: fonttools>=4.22.0 in c:\\users\\mvska\\appdata\\local\\programs\\python\\python311\\lib\\site-packages (from matplotlib->streamlit-faker>=0.0.3->streamlit-extras) (4.52.4)\n",
      "Requirement already satisfied: kiwisolver>=1.3.1 in c:\\users\\mvska\\appdata\\local\\programs\\python\\python311\\lib\\site-packages (from matplotlib->streamlit-faker>=0.0.3->streamlit-extras) (1.4.5)\n",
      "Requirement already satisfied: pyparsing>=2.3.1 in c:\\users\\mvska\\appdata\\local\\programs\\python\\python311\\lib\\site-packages (from matplotlib->streamlit-faker>=0.0.3->streamlit-extras) (3.1.2)\n",
      "Requirement already satisfied: soupsieve>1.2 in c:\\users\\mvska\\appdata\\local\\programs\\python\\python311\\lib\\site-packages (from beautifulsoup4>=4.7.0->favicon->markdownlit>=0.0.7->streamlit-extras) (2.5)\n",
      "Requirement already satisfied: jmespath<2.0.0,>=0.7.1 in c:\\users\\mvska\\appdata\\local\\programs\\python\\python311\\lib\\site-packages (from boto3>=1.24->snowflake-connector-python<4.0.0,>=3.14.0->snowflake-snowpark-python>=1.30.0->snowflake-snowpark-python[pandas]>=1.30.0->streamlit-extras) (1.0.1)\n",
      "Requirement already satisfied: s3transfer<0.14.0,>=0.13.0 in c:\\users\\mvska\\appdata\\local\\programs\\python\\python311\\lib\\site-packages (from boto3>=1.24->snowflake-connector-python<4.0.0,>=3.14.0->snowflake-snowpark-python>=1.30.0->snowflake-snowpark-python[pandas]>=1.30.0->streamlit-extras) (0.13.0)\n",
      "Requirement already satisfied: pycparser in c:\\users\\mvska\\appdata\\local\\programs\\python\\python311\\lib\\site-packages (from cffi<2.0.0,>=1.9->snowflake-connector-python<4.0.0,>=3.14.0->snowflake-snowpark-python>=1.30.0->snowflake-snowpark-python[pandas]>=1.30.0->streamlit-extras) (2.22)\n"
     ]
    },
    {
     "name": "stderr",
     "output_type": "stream",
     "text": [
      "\n",
      "[notice] A new release of pip is available: 24.2 -> 25.1.1\n",
      "[notice] To update, run: python.exe -m pip install --upgrade pip\n"
     ]
    }
   ],
   "source": [
    "!pip install streamlit pandas numpy scikit-learn plotly streamlit-extras\n",
    "\n",
    "import pandas as pd\n",
    "import numpy as np\n",
    "from sklearn.preprocessing import StandardScaler\n",
    "from sklearn.cluster import KMeans\n",
    "import plotly.express as px\n",
    "import plotly.graph_objects as go\n",
    "import streamlit as st\n",
    "from streamlit_extras.stylable_container import stylable_container\n",
    "import time\n",
    "import uuid"
   ]
  },
  {
   "cell_type": "code",
   "execution_count": 4,
   "id": "a74ff030-bc78-4675-9381-0133846bb243",
   "metadata": {},
   "outputs": [
    {
     "name": "stderr",
     "output_type": "stream",
     "text": [
      "2025-07-08 12:23:12.102 WARNING streamlit.runtime.scriptrunner_utils.script_run_context: Thread 'MainThread': missing ScriptRunContext! This warning can be ignored when running in bare mode.\n",
      "2025-07-08 12:23:12.107 WARNING streamlit.runtime.state.session_state_proxy: Session state does not function when running a script without `streamlit run`\n",
      "2025-07-08 12:23:12.167 WARNING streamlit.runtime.scriptrunner_utils.script_run_context: Thread 'MainThread': missing ScriptRunContext! This warning can be ignored when running in bare mode.\n",
      "2025-07-08 12:23:12.168 WARNING streamlit.runtime.scriptrunner_utils.script_run_context: Thread 'MainThread': missing ScriptRunContext! This warning can be ignored when running in bare mode.\n",
      "2025-07-08 12:23:12.170 WARNING streamlit.runtime.scriptrunner_utils.script_run_context: Thread 'MainThread': missing ScriptRunContext! This warning can be ignored when running in bare mode.\n",
      "2025-07-08 12:23:12.171 WARNING streamlit.runtime.scriptrunner_utils.script_run_context: Thread 'MainThread': missing ScriptRunContext! This warning can be ignored when running in bare mode.\n",
      "2025-07-08 12:23:12.171 WARNING streamlit.runtime.caching.cache_data_api: No runtime found, using MemoryCacheStorageManager\n",
      "2025-07-08 12:23:12.174 WARNING streamlit.runtime.caching.cache_data_api: No runtime found, using MemoryCacheStorageManager\n",
      "2025-07-08 12:23:12.174 WARNING streamlit.runtime.scriptrunner_utils.script_run_context: Thread 'MainThread': missing ScriptRunContext! This warning can be ignored when running in bare mode.\n",
      "2025-07-08 12:23:12.332 \n",
      "  \u001b[33m\u001b[1mWarning:\u001b[0m to view this Streamlit app on a browser, run it with the following\n",
      "  command:\n",
      "\n",
      "    streamlit run C:\\Users\\mvska\\AppData\\Local\\Programs\\Python\\Python311\\Lib\\site-packages\\ipykernel_launcher.py [ARGUMENTS]\n",
      "2025-07-08 12:23:12.333 Thread 'MainThread': missing ScriptRunContext! This warning can be ignored when running in bare mode.\n",
      "2025-07-08 12:23:12.333 Thread 'MainThread': missing ScriptRunContext! This warning can be ignored when running in bare mode.\n",
      "2025-07-08 12:23:12.334 Thread 'MainThread': missing ScriptRunContext! This warning can be ignored when running in bare mode.\n",
      "2025-07-08 12:23:12.336 Thread 'MainThread': missing ScriptRunContext! This warning can be ignored when running in bare mode.\n",
      "2025-07-08 12:23:12.337 Thread 'MainThread': missing ScriptRunContext! This warning can be ignored when running in bare mode.\n",
      "2025-07-08 12:23:12.338 Thread 'MainThread': missing ScriptRunContext! This warning can be ignored when running in bare mode.\n",
      "2025-07-08 12:23:12.342 Thread 'MainThread': missing ScriptRunContext! This warning can be ignored when running in bare mode.\n",
      "C:\\Users\\mvska\\AppData\\Local\\Temp\\ipykernel_20240\\1706498906.py:32: FutureWarning: The behavior of DataFrame concatenation with empty or all-NA entries is deprecated. In a future version, this will no longer exclude empty or all-NA columns when determining the result dtypes. To retain the old behavior, exclude the relevant entries before the concat operation.\n",
      "  st.session_state.claims = pd.concat([st.session_state.claims, new_claims], ignore_index=True)\n",
      "2025-07-08 12:23:12.346 Thread 'MainThread': missing ScriptRunContext! This warning can be ignored when running in bare mode.\n",
      "2025-07-08 12:23:12.348 Thread 'MainThread': missing ScriptRunContext! This warning can be ignored when running in bare mode.\n"
     ]
    },
    {
     "data": {
      "text/html": [
       "<div>\n",
       "<style scoped>\n",
       "    .dataframe tbody tr th:only-of-type {\n",
       "        vertical-align: middle;\n",
       "    }\n",
       "\n",
       "    .dataframe tbody tr th {\n",
       "        vertical-align: top;\n",
       "    }\n",
       "\n",
       "    .dataframe thead th {\n",
       "        text-align: right;\n",
       "    }\n",
       "</style>\n",
       "<table border=\"1\" class=\"dataframe\">\n",
       "  <thead>\n",
       "    <tr style=\"text-align: right;\">\n",
       "      <th></th>\n",
       "      <th>policy_id</th>\n",
       "      <th>policy_type</th>\n",
       "      <th>region</th>\n",
       "      <th>coverage_amount</th>\n",
       "      <th>premium</th>\n",
       "      <th>risk_score</th>\n",
       "      <th>claims</th>\n",
       "      <th>last_updated</th>\n",
       "    </tr>\n",
       "  </thead>\n",
       "  <tbody>\n",
       "    <tr>\n",
       "      <th>0</th>\n",
       "      <td>b7120ed7-e4bb-4420-9057-1948c3cec491</td>\n",
       "      <td>Health</td>\n",
       "      <td>South</td>\n",
       "      <td>225876.282397</td>\n",
       "      <td>3355.351154</td>\n",
       "      <td>0.672703</td>\n",
       "      <td>0.0</td>\n",
       "      <td>1.751958e+09</td>\n",
       "    </tr>\n",
       "    <tr>\n",
       "      <th>1</th>\n",
       "      <td>1a5d2179-fc7e-43f8-8f5b-e0e8a2d9758c</td>\n",
       "      <td>Commercial</td>\n",
       "      <td>East</td>\n",
       "      <td>564805.900009</td>\n",
       "      <td>3222.809192</td>\n",
       "      <td>0.796681</td>\n",
       "      <td>0.0</td>\n",
       "      <td>1.751958e+09</td>\n",
       "    </tr>\n",
       "    <tr>\n",
       "      <th>2</th>\n",
       "      <td>96058dc7-fbbf-435a-a2ba-00070a4d80af</td>\n",
       "      <td>Auto</td>\n",
       "      <td>North</td>\n",
       "      <td>879298.544083</td>\n",
       "      <td>9156.291225</td>\n",
       "      <td>0.250468</td>\n",
       "      <td>0.0</td>\n",
       "      <td>1.751958e+09</td>\n",
       "    </tr>\n",
       "    <tr>\n",
       "      <th>3</th>\n",
       "      <td>93fd2d8f-21d5-47fc-ab85-a96e26192151</td>\n",
       "      <td>Health</td>\n",
       "      <td>North</td>\n",
       "      <td>745613.642089</td>\n",
       "      <td>3245.915799</td>\n",
       "      <td>0.624874</td>\n",
       "      <td>0.0</td>\n",
       "      <td>1.751958e+09</td>\n",
       "    </tr>\n",
       "    <tr>\n",
       "      <th>4</th>\n",
       "      <td>c1244a1d-0f73-4788-b52a-8039a8e3c1e0</td>\n",
       "      <td>Health</td>\n",
       "      <td>North</td>\n",
       "      <td>816233.090468</td>\n",
       "      <td>3447.547535</td>\n",
       "      <td>0.571746</td>\n",
       "      <td>0.0</td>\n",
       "      <td>1.751958e+09</td>\n",
       "    </tr>\n",
       "  </tbody>\n",
       "</table>\n",
       "</div>"
      ],
      "text/plain": [
       "                              policy_id policy_type region  coverage_amount  \\\n",
       "0  b7120ed7-e4bb-4420-9057-1948c3cec491      Health  South    225876.282397   \n",
       "1  1a5d2179-fc7e-43f8-8f5b-e0e8a2d9758c  Commercial   East    564805.900009   \n",
       "2  96058dc7-fbbf-435a-a2ba-00070a4d80af        Auto  North    879298.544083   \n",
       "3  93fd2d8f-21d5-47fc-ab85-a96e26192151      Health  North    745613.642089   \n",
       "4  c1244a1d-0f73-4788-b52a-8039a8e3c1e0      Health  North    816233.090468   \n",
       "\n",
       "       premium  risk_score  claims  last_updated  \n",
       "0  3355.351154    0.672703     0.0  1.751958e+09  \n",
       "1  3222.809192    0.796681     0.0  1.751958e+09  \n",
       "2  9156.291225    0.250468     0.0  1.751958e+09  \n",
       "3  3245.915799    0.624874     0.0  1.751958e+09  \n",
       "4  3447.547535    0.571746     0.0  1.751958e+09  "
      ]
     },
     "execution_count": 4,
     "metadata": {},
     "output_type": "execute_result"
    }
   ],
   "source": [
    "# Simulate initial policy data\n",
    "np.random.seed(42)\n",
    "n_policies = 1000\n",
    "\n",
    "# Initialize session state for policies and claims\n",
    "if 'policies' not in st.session_state:\n",
    "    policies = pd.DataFrame({\n",
    "        'policy_id': [str(uuid.uuid4()) for _ in range(n_policies)],\n",
    "        'policy_type': np.random.choice(['Auto', 'Home', 'Health', 'Commercial'], n_policies),\n",
    "        'region': np.random.choice(['North', 'South', 'East', 'West'], n_policies),\n",
    "        'coverage_amount': np.random.uniform(50000, 1000000, n_policies),\n",
    "        'premium': np.random.uniform(1000, 10000, n_policies),\n",
    "        'risk_score': np.random.uniform(0, 1, n_policies),\n",
    "        'claims': np.zeros(n_policies),\n",
    "        'last_updated': [time.time()] * n_policies\n",
    "    })\n",
    "    policies.to_csv('streamlit_insurance_policies.csv', index=False)\n",
    "    st.session_state.policies = policies\n",
    "    st.session_state.claims = pd.DataFrame(columns=['policy_id', 'claim_amount', 'claim_time'])\n",
    "\n",
    "@st.cache_data\n",
    "def get_policies():\n",
    "    return st.session_state.policies\n",
    "\n",
    "def simulate_real_time_claims():\n",
    "    policies = st.session_state.policies\n",
    "    new_claims = pd.DataFrame({\n",
    "        'policy_id': np.random.choice(policies['policy_id'], size=5),\n",
    "        'claim_amount': np.random.uniform(10000, 200000, 5),\n",
    "        'claim_time': [time.time()] * 5\n",
    "    })\n",
    "    st.session_state.claims = pd.concat([st.session_state.claims, new_claims], ignore_index=True)\n",
    "    for policy_id, claim_amount in zip(new_claims['policy_id'], new_claims['claim_amount']):\n",
    "        policies.loc[policies['policy_id'] == policy_id, 'claims'] += claim_amount\n",
    "    policies.to_csv('streamlit_insurance_policies.csv', index=False)\n",
    "    return new_claims\n",
    "\n",
    "# Generate and display initial data\n",
    "policies = get_policies()\n",
    "new_claims = simulate_real_time_claims()\n",
    "policies.head()"
   ]
  },
  {
   "cell_type": "code",
   "execution_count": 5,
   "id": "d0b33d02-372b-4ac5-a3d7-a8b388658ad1",
   "metadata": {},
   "outputs": [
    {
     "data": {
      "text/html": [
       "<div>\n",
       "<style scoped>\n",
       "    .dataframe tbody tr th:only-of-type {\n",
       "        vertical-align: middle;\n",
       "    }\n",
       "\n",
       "    .dataframe tbody tr th {\n",
       "        vertical-align: top;\n",
       "    }\n",
       "\n",
       "    .dataframe thead th {\n",
       "        text-align: right;\n",
       "    }\n",
       "</style>\n",
       "<table border=\"1\" class=\"dataframe\">\n",
       "  <thead>\n",
       "    <tr style=\"text-align: right;\">\n",
       "      <th></th>\n",
       "      <th>policy_id</th>\n",
       "      <th>policy_type</th>\n",
       "      <th>region</th>\n",
       "      <th>coverage_amount</th>\n",
       "      <th>premium</th>\n",
       "      <th>risk_score</th>\n",
       "      <th>claims</th>\n",
       "      <th>last_updated</th>\n",
       "    </tr>\n",
       "  </thead>\n",
       "  <tbody>\n",
       "    <tr>\n",
       "      <th>0</th>\n",
       "      <td>33b05725-45a2-4402-bc2c-41293af40dd8</td>\n",
       "      <td>Health</td>\n",
       "      <td>South</td>\n",
       "      <td>225876.282397</td>\n",
       "      <td>3355.351154</td>\n",
       "      <td>0.672703</td>\n",
       "      <td>0.0</td>\n",
       "      <td>1.751958e+09</td>\n",
       "    </tr>\n",
       "    <tr>\n",
       "      <th>1</th>\n",
       "      <td>b4e69318-34ec-4d60-b646-d984aa1f8827</td>\n",
       "      <td>Commercial</td>\n",
       "      <td>East</td>\n",
       "      <td>564805.900009</td>\n",
       "      <td>3222.809192</td>\n",
       "      <td>0.796681</td>\n",
       "      <td>0.0</td>\n",
       "      <td>1.751958e+09</td>\n",
       "    </tr>\n",
       "    <tr>\n",
       "      <th>2</th>\n",
       "      <td>cdfd59c3-bf34-428c-9678-2ebe8118dc5a</td>\n",
       "      <td>Auto</td>\n",
       "      <td>North</td>\n",
       "      <td>879298.544083</td>\n",
       "      <td>9156.291225</td>\n",
       "      <td>0.250468</td>\n",
       "      <td>0.0</td>\n",
       "      <td>1.751958e+09</td>\n",
       "    </tr>\n",
       "    <tr>\n",
       "      <th>3</th>\n",
       "      <td>ffc9db2c-5119-4c00-abb8-7aee845bfa76</td>\n",
       "      <td>Health</td>\n",
       "      <td>North</td>\n",
       "      <td>745613.642089</td>\n",
       "      <td>3245.915799</td>\n",
       "      <td>0.624874</td>\n",
       "      <td>0.0</td>\n",
       "      <td>1.751958e+09</td>\n",
       "    </tr>\n",
       "    <tr>\n",
       "      <th>4</th>\n",
       "      <td>afe884dd-bec0-4e50-802d-65ed9b62e066</td>\n",
       "      <td>Health</td>\n",
       "      <td>North</td>\n",
       "      <td>816233.090468</td>\n",
       "      <td>3447.547535</td>\n",
       "      <td>0.571746</td>\n",
       "      <td>0.0</td>\n",
       "      <td>1.751958e+09</td>\n",
       "    </tr>\n",
       "  </tbody>\n",
       "</table>\n",
       "</div>"
      ],
      "text/plain": [
       "                              policy_id policy_type region  coverage_amount  \\\n",
       "0  33b05725-45a2-4402-bc2c-41293af40dd8      Health  South    225876.282397   \n",
       "1  b4e69318-34ec-4d60-b646-d984aa1f8827  Commercial   East    564805.900009   \n",
       "2  cdfd59c3-bf34-428c-9678-2ebe8118dc5a        Auto  North    879298.544083   \n",
       "3  ffc9db2c-5119-4c00-abb8-7aee845bfa76      Health  North    745613.642089   \n",
       "4  afe884dd-bec0-4e50-802d-65ed9b62e066      Health  North    816233.090468   \n",
       "\n",
       "       premium  risk_score  claims  last_updated  \n",
       "0  3355.351154    0.672703     0.0  1.751958e+09  \n",
       "1  3222.809192    0.796681     0.0  1.751958e+09  \n",
       "2  9156.291225    0.250468     0.0  1.751958e+09  \n",
       "3  3245.915799    0.624874     0.0  1.751958e+09  \n",
       "4  3447.547535    0.571746     0.0  1.751958e+09  "
      ]
     },
     "execution_count": 5,
     "metadata": {},
     "output_type": "execute_result"
    }
   ],
   "source": [
    "import pandas as pd\n",
    "import numpy as np\n",
    "import time\n",
    "import uuid\n",
    "\n",
    "# Simulate initial policy data\n",
    "np.random.seed(42)\n",
    "n_policies = 1000\n",
    "\n",
    "# Initialize state for policies and claims\n",
    "global_state = {}\n",
    "if 'policies' not in global_state:\n",
    "    policies = pd.DataFrame({\n",
    "        'policy_id': [str(uuid.uuid4()) for _ in range(n_policies)],\n",
    "        'policy_type': np.random.choice(['Auto', 'Home', 'Health', 'Commercial'], n_policies),\n",
    "        'region': np.random.choice(['North', 'South', 'East', 'West'], n_policies),\n",
    "        'coverage_amount': np.random.uniform(50000, 1000000, n_policies),\n",
    "        'premium': np.random.uniform(1000, 10000, n_policies),\n",
    "        'risk_score': np.random.uniform(0, 1, n_policies),\n",
    "        'claims': np.zeros(n_policies),\n",
    "        'last_updated': [time.time()] * n_policies\n",
    "    })\n",
    "    policies.to_csv('streamlit_insurance_policies.csv', index=False)\n",
    "    global_state['policies'] = policies\n",
    "    global_state['claims'] = pd.DataFrame({\n",
    "        'policy_id': pd.Series(dtype='str'),\n",
    "        'claim_amount': pd.Series(dtype='float64'),\n",
    "        'claim_time': pd.Series(dtype='float64')\n",
    "    })\n",
    "\n",
    "def get_policies():\n",
    "    return global_state['policies']\n",
    "\n",
    "def simulate_real_time_claims():\n",
    "    policies = global_state['policies']\n",
    "    new_claims = pd.DataFrame({\n",
    "        'policy_id': np.random.choice(policies['policy_id'], size=5),\n",
    "        'claim_amount': np.random.uniform(10000, 200000, 5),\n",
    "        'claim_time': [time.time()] * 5\n",
    "    })\n",
    "    global_state['claims'] = pd.concat([global_state['claims'], new_claims], ignore_index=True)\n",
    "    for policy_id, claim_amount in zip(new_claims['policy_id'], new_claims['claim_amount']):\n",
    "        policies.loc[policies['policy_id'] == policy_id, 'claims'] += claim_amount\n",
    "    policies.to_csv('streamlit_insurance_policies.csv', index=False)\n",
    "    return new_claims\n",
    "\n",
    "# Generate and display initial data\n",
    "policies = get_policies()\n",
    "new_claims = simulate_real_time_claims()\n",
    "policies.head()"
   ]
  },
  {
   "cell_type": "code",
   "execution_count": 6,
   "id": "db099d32-5ab8-4821-8ed0-39bd8df26129",
   "metadata": {},
   "outputs": [
    {
     "name": "stdout",
     "output_type": "stream",
     "text": [
      "Policy Type Aggregation:\n"
     ]
    },
    {
     "data": {
      "text/html": [
       "<div>\n",
       "<style scoped>\n",
       "    .dataframe tbody tr th:only-of-type {\n",
       "        vertical-align: middle;\n",
       "    }\n",
       "\n",
       "    .dataframe tbody tr th {\n",
       "        vertical-align: top;\n",
       "    }\n",
       "\n",
       "    .dataframe thead th {\n",
       "        text-align: right;\n",
       "    }\n",
       "</style>\n",
       "<table border=\"1\" class=\"dataframe\">\n",
       "  <thead>\n",
       "    <tr style=\"text-align: right;\">\n",
       "      <th></th>\n",
       "      <th>policy_type</th>\n",
       "      <th>coverage_amount</th>\n",
       "      <th>premium</th>\n",
       "      <th>risk_score</th>\n",
       "      <th>claims</th>\n",
       "      <th>exposure_ratio</th>\n",
       "    </tr>\n",
       "  </thead>\n",
       "  <tbody>\n",
       "    <tr>\n",
       "      <th>0</th>\n",
       "      <td>Auto</td>\n",
       "      <td>1.375139e+08</td>\n",
       "      <td>1.448871e+06</td>\n",
       "      <td>0.483583</td>\n",
       "      <td>149442.021630</td>\n",
       "      <td>94.911088</td>\n",
       "    </tr>\n",
       "    <tr>\n",
       "      <th>1</th>\n",
       "      <td>Commercial</td>\n",
       "      <td>1.497308e+08</td>\n",
       "      <td>1.538066e+06</td>\n",
       "      <td>0.494674</td>\n",
       "      <td>183052.507484</td>\n",
       "      <td>97.350052</td>\n",
       "    </tr>\n",
       "    <tr>\n",
       "      <th>2</th>\n",
       "      <td>Health</td>\n",
       "      <td>1.153512e+08</td>\n",
       "      <td>1.232844e+06</td>\n",
       "      <td>0.508601</td>\n",
       "      <td>0.000000</td>\n",
       "      <td>93.565147</td>\n",
       "    </tr>\n",
       "    <tr>\n",
       "      <th>3</th>\n",
       "      <td>Home</td>\n",
       "      <td>1.290705e+08</td>\n",
       "      <td>1.301871e+06</td>\n",
       "      <td>0.474377</td>\n",
       "      <td>277320.980464</td>\n",
       "      <td>99.142332</td>\n",
       "    </tr>\n",
       "  </tbody>\n",
       "</table>\n",
       "</div>"
      ],
      "text/plain": [
       "  policy_type  coverage_amount       premium  risk_score         claims  \\\n",
       "0        Auto     1.375139e+08  1.448871e+06    0.483583  149442.021630   \n",
       "1  Commercial     1.497308e+08  1.538066e+06    0.494674  183052.507484   \n",
       "2      Health     1.153512e+08  1.232844e+06    0.508601       0.000000   \n",
       "3        Home     1.290705e+08  1.301871e+06    0.474377  277320.980464   \n",
       "\n",
       "   exposure_ratio  \n",
       "0       94.911088  \n",
       "1       97.350052  \n",
       "2       93.565147  \n",
       "3       99.142332  "
      ]
     },
     "metadata": {},
     "output_type": "display_data"
    },
    {
     "name": "stdout",
     "output_type": "stream",
     "text": [
      "Region Aggregation:\n"
     ]
    },
    {
     "data": {
      "text/html": [
       "<div>\n",
       "<style scoped>\n",
       "    .dataframe tbody tr th:only-of-type {\n",
       "        vertical-align: middle;\n",
       "    }\n",
       "\n",
       "    .dataframe tbody tr th {\n",
       "        vertical-align: top;\n",
       "    }\n",
       "\n",
       "    .dataframe thead th {\n",
       "        text-align: right;\n",
       "    }\n",
       "</style>\n",
       "<table border=\"1\" class=\"dataframe\">\n",
       "  <thead>\n",
       "    <tr style=\"text-align: right;\">\n",
       "      <th></th>\n",
       "      <th>region</th>\n",
       "      <th>coverage_amount</th>\n",
       "      <th>premium</th>\n",
       "      <th>risk_score</th>\n",
       "      <th>claims</th>\n",
       "      <th>exposure_ratio</th>\n",
       "    </tr>\n",
       "  </thead>\n",
       "  <tbody>\n",
       "    <tr>\n",
       "      <th>0</th>\n",
       "      <td>East</td>\n",
       "      <td>1.329122e+08</td>\n",
       "      <td>1.479989e+06</td>\n",
       "      <td>0.489772</td>\n",
       "      <td>114008.819672</td>\n",
       "      <td>89.806213</td>\n",
       "    </tr>\n",
       "    <tr>\n",
       "      <th>1</th>\n",
       "      <td>North</td>\n",
       "      <td>1.423631e+08</td>\n",
       "      <td>1.441342e+06</td>\n",
       "      <td>0.462911</td>\n",
       "      <td>408340.693480</td>\n",
       "      <td>98.771235</td>\n",
       "    </tr>\n",
       "    <tr>\n",
       "      <th>2</th>\n",
       "      <td>South</td>\n",
       "      <td>1.382725e+08</td>\n",
       "      <td>1.473703e+06</td>\n",
       "      <td>0.500980</td>\n",
       "      <td>87465.996426</td>\n",
       "      <td>93.826604</td>\n",
       "    </tr>\n",
       "    <tr>\n",
       "      <th>3</th>\n",
       "      <td>West</td>\n",
       "      <td>1.181187e+08</td>\n",
       "      <td>1.126619e+06</td>\n",
       "      <td>0.512650</td>\n",
       "      <td>0.000000</td>\n",
       "      <td>104.843517</td>\n",
       "    </tr>\n",
       "  </tbody>\n",
       "</table>\n",
       "</div>"
      ],
      "text/plain": [
       "  region  coverage_amount       premium  risk_score         claims  \\\n",
       "0   East     1.329122e+08  1.479989e+06    0.489772  114008.819672   \n",
       "1  North     1.423631e+08  1.441342e+06    0.462911  408340.693480   \n",
       "2  South     1.382725e+08  1.473703e+06    0.500980   87465.996426   \n",
       "3   West     1.181187e+08  1.126619e+06    0.512650       0.000000   \n",
       "\n",
       "   exposure_ratio  \n",
       "0       89.806213  \n",
       "1       98.771235  \n",
       "2       93.826604  \n",
       "3      104.843517  "
      ]
     },
     "metadata": {},
     "output_type": "display_data"
    }
   ],
   "source": [
    "def aggregate_risk(df):\n",
    "    type_agg = df.groupby('policy_type').agg({\n",
    "        'coverage_amount': 'sum',\n",
    "        'premium': 'sum',\n",
    "        'risk_score': 'mean',\n",
    "        'claims': 'sum'\n",
    "    }).reset_index()\n",
    "    type_agg['exposure_ratio'] = type_agg['coverage_amount'] / type_agg['premium']\n",
    "    \n",
    "    region_agg = df.groupby('region').agg({\n",
    "        'coverage_amount': 'sum',\n",
    "        'premium': 'sum',\n",
    "        'risk_score': 'mean',\n",
    "        'claims': 'sum'\n",
    "    }).reset_index()\n",
    "    region_agg['exposure_ratio'] = region_agg['coverage_amount'] / region_agg['premium']\n",
    "    \n",
    "    return type_agg, region_agg\n",
    "\n",
    "# Aggregate data\n",
    "policies = get_policies()\n",
    "type_agg, region_agg = aggregate_risk(policies)\n",
    "print(\"Policy Type Aggregation:\")\n",
    "display(type_agg)\n",
    "print(\"Region Aggregation:\")\n",
    "display(region_agg)"
   ]
  },
  {
   "cell_type": "code",
   "execution_count": 7,
   "id": "83cf3c73-269d-461e-b26c-06314394a140",
   "metadata": {},
   "outputs": [
    {
     "data": {
      "application/vnd.plotly.v1+json": {
       "config": {
        "plotlyServerURL": "https://plot.ly"
       },
       "data": [
        {
         "coloraxis": "coloraxis",
         "hovertemplate": "region: %{x}<br>region: %{y}<br>color: %{z}<extra></extra>",
         "name": "0",
         "type": "heatmap",
         "x": [
          "East",
          "North",
          "South",
          "West"
         ],
         "xaxis": "x",
         "y": [
          "East",
          "North",
          "South",
          "West"
         ],
         "yaxis": "y",
         "z": {
          "_inputArray": [
           {
            "0": 1,
            "1": -0.700332058922966,
            "2": 0.7057200701616716,
            "3": 0.4006602800966282
           },
           {
            "0": -0.700332058922966,
            "1": 1,
            "2": -0.49563887110647586,
            "3": 0.29857703919989015
           },
           {
            "0": 0.7057200701616716,
            "1": -0.49563887110647586,
            "2": 1,
            "3": -0.0203780791923909
           },
           {
            "0": 0.4006602800966282,
            "1": 0.29857703919989015,
            "2": -0.0203780791923909,
            "3": 1
           }
          ],
          "bdata": "AAAAAAAA8D90Qy3HHmnmv+E0r0FCleY/1Y70A2uk2T90Qy3HHmnmvwAAAAAAAPA/yNWBGYy4379tzaze4hvTP+E0r0FCleY/yNWBGYy4378AAAAAAADwP4cYv7793ZS/1Y70A2uk2T9tzaze4hvTP4cYv7793ZS/AAAAAAAA8D8=",
          "dtype": "f8",
          "shape": "4, 4"
         }
        }
       ],
       "layout": {
        "autosize": true,
        "coloraxis": {
         "cmax": 1,
         "cmin": -1,
         "colorscale": [
          [
           0,
           "rgb(103,0,31)"
          ],
          [
           0.1,
           "rgb(178,24,43)"
          ],
          [
           0.2,
           "rgb(214,96,77)"
          ],
          [
           0.3,
           "rgb(244,165,130)"
          ],
          [
           0.4,
           "rgb(253,219,199)"
          ],
          [
           0.5,
           "rgb(247,247,247)"
          ],
          [
           0.6,
           "rgb(209,229,240)"
          ],
          [
           0.7,
           "rgb(146,197,222)"
          ],
          [
           0.8,
           "rgb(67,147,195)"
          ],
          [
           0.9,
           "rgb(33,102,172)"
          ],
          [
           1,
           "rgb(5,48,97)"
          ]
         ]
        },
        "template": {
         "data": {
          "candlestick": [
           {
            "decreasing": {
             "line": {
              "color": "#000033"
             }
            },
            "increasing": {
             "line": {
              "color": "#000032"
             }
            },
            "type": "candlestick"
           }
          ],
          "contour": [
           {
            "colorscale": [
             [
              0,
              "#000011"
             ],
             [
              0.1111111111111111,
              "#000012"
             ],
             [
              0.2222222222222222,
              "#000013"
             ],
             [
              0.3333333333333333,
              "#000014"
             ],
             [
              0.4444444444444444,
              "#000015"
             ],
             [
              0.5555555555555556,
              "#000016"
             ],
             [
              0.6666666666666666,
              "#000017"
             ],
             [
              0.7777777777777778,
              "#000018"
             ],
             [
              0.8888888888888888,
              "#000019"
             ],
             [
              1,
              "#000020"
             ]
            ],
            "type": "contour"
           }
          ],
          "contourcarpet": [
           {
            "colorscale": [
             [
              0,
              "#000011"
             ],
             [
              0.1111111111111111,
              "#000012"
             ],
             [
              0.2222222222222222,
              "#000013"
             ],
             [
              0.3333333333333333,
              "#000014"
             ],
             [
              0.4444444444444444,
              "#000015"
             ],
             [
              0.5555555555555556,
              "#000016"
             ],
             [
              0.6666666666666666,
              "#000017"
             ],
             [
              0.7777777777777778,
              "#000018"
             ],
             [
              0.8888888888888888,
              "#000019"
             ],
             [
              1,
              "#000020"
             ]
            ],
            "type": "contourcarpet"
           }
          ],
          "heatmap": [
           {
            "colorscale": [
             [
              0,
              "#000011"
             ],
             [
              0.1111111111111111,
              "#000012"
             ],
             [
              0.2222222222222222,
              "#000013"
             ],
             [
              0.3333333333333333,
              "#000014"
             ],
             [
              0.4444444444444444,
              "#000015"
             ],
             [
              0.5555555555555556,
              "#000016"
             ],
             [
              0.6666666666666666,
              "#000017"
             ],
             [
              0.7777777777777778,
              "#000018"
             ],
             [
              0.8888888888888888,
              "#000019"
             ],
             [
              1,
              "#000020"
             ]
            ],
            "type": "heatmap"
           }
          ],
          "histogram2d": [
           {
            "colorscale": [
             [
              0,
              "#000011"
             ],
             [
              0.1111111111111111,
              "#000012"
             ],
             [
              0.2222222222222222,
              "#000013"
             ],
             [
              0.3333333333333333,
              "#000014"
             ],
             [
              0.4444444444444444,
              "#000015"
             ],
             [
              0.5555555555555556,
              "#000016"
             ],
             [
              0.6666666666666666,
              "#000017"
             ],
             [
              0.7777777777777778,
              "#000018"
             ],
             [
              0.8888888888888888,
              "#000019"
             ],
             [
              1,
              "#000020"
             ]
            ],
            "type": "histogram2d"
           }
          ],
          "icicle": [
           {
            "textfont": {
             "color": "white"
            },
            "type": "icicle"
           }
          ],
          "sankey": [
           {
            "textfont": {
             "color": "#000036"
            },
            "type": "sankey"
           }
          ],
          "scatter": [
           {
            "marker": {
             "line": {
              "width": 0
             }
            },
            "type": "scatter"
           }
          ],
          "table": [
           {
            "cells": {
             "fill": {
              "color": "#000038"
             },
             "font": {
              "color": "#000037"
             },
             "line": {
              "color": "#000039"
             }
            },
            "header": {
             "fill": {
              "color": "#000040"
             },
             "font": {
              "color": "#000036"
             },
             "line": {
              "color": "#000039"
             }
            },
            "type": "table"
           }
          ],
          "waterfall": [
           {
            "connector": {
             "line": {
              "color": "#000036",
              "width": 2
             }
            },
            "decreasing": {
             "marker": {
              "color": "#000033"
             }
            },
            "increasing": {
             "marker": {
              "color": "#000032"
             }
            },
            "totals": {
             "marker": {
              "color": "#000034"
             }
            },
            "type": "waterfall"
           }
          ]
         },
         "layout": {
          "coloraxis": {
           "colorscale": [
            [
             0,
             "#000011"
            ],
            [
             0.1111111111111111,
             "#000012"
            ],
            [
             0.2222222222222222,
             "#000013"
            ],
            [
             0.3333333333333333,
             "#000014"
            ],
            [
             0.4444444444444444,
             "#000015"
            ],
            [
             0.5555555555555556,
             "#000016"
            ],
            [
             0.6666666666666666,
             "#000017"
            ],
            [
             0.7777777777777778,
             "#000018"
            ],
            [
             0.8888888888888888,
             "#000019"
            ],
            [
             1,
             "#000020"
            ]
           ]
          },
          "colorscale": {
           "diverging": [
            [
             0,
             "#000021"
            ],
            [
             0.1,
             "#000022"
            ],
            [
             0.2,
             "#000023"
            ],
            [
             0.3,
             "#000024"
            ],
            [
             0.4,
             "#000025"
            ],
            [
             0.5,
             "#000026"
            ],
            [
             0.6,
             "#000027"
            ],
            [
             0.7,
             "#000028"
            ],
            [
             0.8,
             "#000029"
            ],
            [
             0.9,
             "#000030"
            ],
            [
             1,
             "#000031"
            ]
           ],
           "sequential": [
            [
             0,
             "#000011"
            ],
            [
             0.1111111111111111,
             "#000012"
            ],
            [
             0.2222222222222222,
             "#000013"
            ],
            [
             0.3333333333333333,
             "#000014"
            ],
            [
             0.4444444444444444,
             "#000015"
            ],
            [
             0.5555555555555556,
             "#000016"
            ],
            [
             0.6666666666666666,
             "#000017"
            ],
            [
             0.7777777777777778,
             "#000018"
            ],
            [
             0.8888888888888888,
             "#000019"
            ],
            [
             1,
             "#000020"
            ]
           ],
           "sequentialminus": [
            [
             0,
             "#000011"
            ],
            [
             0.1111111111111111,
             "#000012"
            ],
            [
             0.2222222222222222,
             "#000013"
            ],
            [
             0.3333333333333333,
             "#000014"
            ],
            [
             0.4444444444444444,
             "#000015"
            ],
            [
             0.5555555555555556,
             "#000016"
            ],
            [
             0.6666666666666666,
             "#000017"
            ],
            [
             0.7777777777777778,
             "#000018"
            ],
            [
             0.8888888888888888,
             "#000019"
            ],
            [
             1,
             "#000020"
            ]
           ]
          },
          "colorway": [
           "#000001",
           "#000002",
           "#000003",
           "#000004",
           "#000005",
           "#000006",
           "#000007",
           "#000008",
           "#000009",
           "#000010"
          ]
         }
        },
        "title": {
         "text": "Correlation of Coverage Amount by Region"
        },
        "xaxis": {
         "anchor": "y",
         "autorange": true,
         "constrain": "domain",
         "domain": [
          0.4013157894736842,
          0.5986842105263158
         ],
         "range": [
          -0.5,
          3.5
         ],
         "scaleanchor": "y",
         "title": {
          "text": "region"
         },
         "type": "category"
        },
        "yaxis": {
         "anchor": "x",
         "autorange": true,
         "constrain": "domain",
         "domain": [
          0,
          1
         ],
         "range": [
          3.5,
          -0.5
         ],
         "title": {
          "text": "region"
         },
         "type": "category"
        }
       }
      },
      "image/png": "[encoded data removed]"
     },
     "metadata": {},
     "output_type": "display_data"
    }
   ],
   "source": [
    "def correlation_analysis(df):\n",
    "    pivot = df.pivot_table(values='coverage_amount', index='policy_type', columns='region', aggfunc='sum').fillna(0)\n",
    "    corr_matrix = pivot.corr()\n",
    "    fig = px.imshow(corr_matrix, color_continuous_scale='RdBu', zmin=-1, zmax=1, title='Correlation of Coverage Amount by Region')\n",
    "    fig.show()\n",
    "    return fig, corr_matrix\n",
    "\n",
    "# Run correlation analysis\n",
    "policies = get_policies()\n",
    "fig_corr, corr_matrix = correlation_analysis(policies)"
   ]
  },
  {
   "cell_type": "code",
   "execution_count": 8,
   "id": "4b71300b-9db5-4753-90fb-1419ae2fd150",
   "metadata": {},
   "outputs": [
    {
     "data": {
      "application/vnd.plotly.v1+json": {
       "config": {
        "plotlyServerURL": "https://plot.ly"
       },
       "data": [
        {
         "customdata": [
          [
           "33b05725-45a2-4402-bc2c-41293af40dd8",
           "Health",
           "South"
          ],
          [
           "b4e69318-34ec-4d60-b646-d984aa1f8827",
           "Commercial",
           "East"
          ],
          [
           "cdfd59c3-bf34-428c-9678-2ebe8118dc5a",
           "Auto",
           "North"
          ],
          [
           "ffc9db2c-5119-4c00-abb8-7aee845bfa76",
           "Health",
           "North"
          ],
          [
           "afe884dd-bec0-4e50-802d-65ed9b62e066",
           "Health",
           "North"
          ],
          [
           "cb234140-ee65-49e7-a341-a54101c2f62f",
           "Commercial",
           "North"
          ],
          [
           "4906d199-a0ee-4c07-8642-baaf1334f139",
           "Auto",
           "West"
          ],
          [
           "48218b32-a415-4f8a-8d15-a9873fd5faae",
           "Auto",
           "North"
          ],
          [
           "24aa56ef-5245-4179-9a43-1430b8262eb5",
           "Health",
           "West"
          ],
          [
           "b1f44599-a05e-4911-8eb7-7666237af04b",
           "Home",
           "West"
          ],
          [
           "48109794-a378-4a6e-9c02-bb8c35bd339d",
           "Health",
           "North"
          ],
          [
           "74e08aef-04da-44d6-ab4a-7b039f759c93",
           "Health",
           "North"
          ],
          [
           "9ed71004-0ff1-4a01-8b8b-78aa2018d475",
           "Health",
           "South"
          ],
          [
           "87be4ffd-6788-4d1f-b2f9-edcad132663e",
           "Health",
           "East"
          ],
          [
           "fd742cc6-b5eb-4264-8579-c31ec8561829",
           "Commercial",
           "North"
          ],
          [
           "98dfb56a-c8e0-4b01-b4d6-a9dec60798ce",
           "Auto",
           "South"
          ],
          [
           "a47433ee-eeba-45bf-ab91-cc34ee09ff9b",
           "Commercial",
           "South"
          ],
          [
           "327e73a5-88f5-4c71-bdb6-688534e0dc03",
           "Commercial",
           "East"
          ],
          [
           "5b08e3c0-747e-4847-a62c-5d137b8912fc",
           "Commercial",
           "West"
          ],
          [
           "de0aa694-a8b9-4a65-b642-d3a8f6155992",
           "Health",
           "North"
          ],
          [
           "ee5876f7-b6c9-4305-ad92-82052f9fc3ba",
           "Home",
           "East"
          ],
          [
           "a95d9183-f9cd-447c-a6f7-f675115f0961",
           "Auto",
           "North"
          ],
          [
           "87cc94d3-83f4-4b3a-947e-c8b23a685364",
           "Home",
           "South"
          ],
          [
           "b1870859-bc71-4739-8d51-102ab37fecaa",
           "Commercial",
           "South"
          ],
          [
           "fd918d9f-a010-440f-9c2c-c6498e176ddd",
           "Commercial",
           "West"
          ],
          [
           "9918c61b-9fcd-4863-b60e-032aecccb0ed",
           "Home",
           "South"
          ],
          [
           "62061f24-a80b-4b63-be69-798b0dd37b31",
           "Home",
           "South"
          ],
          [
           "7cee8c14-7e6d-4e4e-8977-3b0eb9eaac73",
           "Home",
           "East"
          ],
          [
           "5927c420-6425-4bbc-8910-cd5987feb5fb",
           "Commercial",
           "North"
          ],
          [
           "dffd5705-8012-4b24-b73c-364f30ecdffa",
           "Commercial",
           "North"
          ],
          [
           "1acb3869-7845-4db6-b25b-31d9b005b2bf",
           "Auto",
           "East"
          ],
          [
           "fa78fc29-9069-42ab-99ff-cb23335fb87e",
           "Auto",
           "West"
          ],
          [
           "4e95bb94-af58-4ab4-8ca0-09c2fabe88d7",
           "Commercial",
           "North"
          ],
          [
           "032ad495-83a6-4920-b833-b9eeb250a167",
           "Home",
           "South"
          ],
          [
           "9d77f788-39db-4576-8aaf-c5cdea5300aa",
           "Home",
           "North"
          ],
          [
           "c0e80c66-0a35-434c-b8af-c5625d26e2ef",
           "Auto",
           "South"
          ],
          [
           "ef25e37b-36b7-4f1a-9500-172a2fa44c7e",
           "Commercial",
           "West"
          ],
          [
           "b539d1fc-6e2e-41d7-b937-5d691d135ba9",
           "Auto",
           "East"
          ],
          [
           "250f5af3-7231-4698-b084-4578f9a760ce",
           "Auto",
           "North"
          ],
          [
           "81b4ab1e-31e4-4b8e-b64d-c0ce30817377",
           "Health",
           "East"
          ],
          [
           "dca0c980-25eb-42cf-80c7-c435352519ac",
           "Health",
           "North"
          ],
          [
           "f8150640-e22c-4e01-92d2-d3bd10ea32ee",
           "Health",
           "South"
          ],
          [
           "2b0359a3-eb5c-42bc-ba9f-081ef930b17b",
           "Home",
           "East"
          ],
          [
           "b87f00a4-2911-4463-b73f-0beca6cc418b",
           "Commercial",
           "North"
          ],
          [
           "ecea6b06-d9c2-4cd3-bb06-86786c6bbbe7",
           "Commercial",
           "South"
          ],
          [
           "7ead591c-3c21-4fd4-81e2-83af9f3fbb62",
           "Commercial",
           "East"
          ],
          [
           "0f76438d-2512-48a8-b382-5ab0abbbbba8",
           "Commercial",
           "East"
          ],
          [
           "645a04d9-4b9f-456a-b774-c6a4aeb30474",
           "Health",
           "North"
          ],
          [
           "93f0149c-22bd-4dff-ad43-5ff89024e912",
           "Home",
           "North"
          ],
          [
           "3c022729-6104-44f8-a613-4b5aea4bb264",
           "Home",
           "North"
          ],
          [
           "438b0f00-f0f1-41f9-ad40-9d1eafe6c4a0",
           "Health",
           "South"
          ],
          [
           "b6307ef6-1c69-4dad-bada-dc3a34d535ab",
           "Home",
           "North"
          ],
          [
           "9deb97e4-e6be-4169-b6e8-f31c82a95503",
           "Health",
           "East"
          ],
          [
           "994d3efa-4e45-44f9-93a8-5f7c9a3b530a",
           "Commercial",
           "East"
          ],
          [
           "6d8c6e0b-7602-407d-abb1-5bce05312e5b",
           "Health",
           "North"
          ],
          [
           "595f8779-9573-48e1-a2cf-68b8d79ced4a",
           "Commercial",
           "North"
          ],
          [
           "ffb37693-d8c5-4a4d-a37d-9aa11c71ac9d",
           "Commercial",
           "West"
          ],
          [
           "f0fbc8c6-8186-4c6f-a880-986a1a9aa327",
           "Auto",
           "East"
          ],
          [
           "553bef83-ffdc-445b-a272-e7fcc77812ef",
           "Health",
           "South"
          ],
          [
           "ee3cd9b3-4b2d-4cb5-b62f-aaed7167aab4",
           "Auto",
           "West"
          ],
          [
           "f4597e71-2acb-4382-b0d0-dc3c3dfddc1e",
           "Health",
           "North"
          ],
          [
           "ad9ecd41-c1c7-439e-90cd-c7175900e061",
           "Health",
           "North"
          ],
          [
           "6690e8ff-f753-47a7-aabf-bfac62646d94",
           "Auto",
           "East"
          ],
          [
           "5ff16a90-9e49-493f-aca9-e7f2e149e73a",
           "Auto",
           "North"
          ],
          [
           "e81d9d87-abcb-40c3-ba57-60fef4d71aa2",
           "Health",
           "South"
          ],
          [
           "a53a86c6-0b1c-49f3-99c4-d75ed00cdc00",
           "Home",
           "East"
          ],
          [
           "8fe63ad5-8768-4c55-8f73-fca64e732518",
           "Commercial",
           "North"
          ],
          [
           "3993b253-4e98-43f0-b027-62b76f1797a8",
           "Auto",
           "East"
          ],
          [
           "c5aea825-d53b-4d55-a8ec-e70312c201bb",
           "Commercial",
           "North"
          ],
          [
           "8a6da05e-ff32-4a53-844a-99175be021c7",
           "Home",
           "North"
          ],
          [
           "9c64125d-8cec-47d9-b14f-d8763db74c0d",
           "Home",
           "North"
          ],
          [
           "47d61817-17fd-4fc0-8e3d-51a3913b9dc9",
           "Home",
           "South"
          ],
          [
           "6c76b55d-35f1-40d5-9825-58372647e8c7",
           "Auto",
           "South"
          ],
          [
           "6b4e6540-6297-4a2b-b8a8-5b45492979e0",
           "Home",
           "East"
          ],
          [
           "b1c55fb1-72cf-491f-9ee7-101637d7fa13",
           "Auto",
           "North"
          ],
          [
           "5129bf22-e600-4655-80b6-0b1020b8ed2c",
           "Home",
           "North"
          ],
          [
           "ad0e62ea-db73-467a-8140-f499821eb872",
           "Commercial",
           "South"
          ],
          [
           "d6fbeded-7055-4155-86a7-cea7510e2e7a",
           "Commercial",
           "North"
          ],
          [
           "1607034e-a31b-45d4-86db-c77baea499cc",
           "Health",
           "South"
          ],
          [
           "f63abf30-fc61-4826-9b05-3462d1484c08",
           "Commercial",
           "North"
          ],
          [
           "3cbb291a-f9d5-48cc-95b5-b56b036238a0",
           "Health",
           "East"
          ],
          [
           "79f013ed-7408-4816-9647-924e3f989a08",
           "Commercial",
           "North"
          ],
          [
           "017acb42-bf44-4520-b020-f8cbb2943eaf",
           "Auto",
           "North"
          ],
          [
           "4e08abf6-6583-4f2c-a5df-706863f525f0",
           "Commercial",
           "West"
          ],
          [
           "2c180c28-3b80-40ad-a479-703a21b0c572",
           "Health",
           "South"
          ],
          [
           "95931daf-3fd6-453a-81c7-a623487f05c6",
           "Health",
           "North"
          ],
          [
           "ba7c50eb-4269-4748-9f34-aa9605cdaed1",
           "Home",
           "North"
          ],
          [
           "533cffae-73e9-40e3-84f9-79d0c49ae1e9",
           "Auto",
           "West"
          ],
          [
           "17eaa04f-82b7-45c1-89da-6bcb9032a5e7",
           "Commercial",
           "West"
          ],
          [
           "72c6b643-76c9-4ef6-8bb2-2aacd70c3043",
           "Home",
           "South"
          ],
          [
           "8417e7ce-f96f-483d-a4e2-6229d4efc7de",
           "Commercial",
           "West"
          ],
          [
           "c7293b45-749a-4a83-9c60-89ba7fcba4ad",
           "Commercial",
           "East"
          ],
          [
           "af01bcca-7881-4539-9f67-3d07cd66b6e0",
           "Home",
           "West"
          ],
          [
           "c5ac7290-f158-4a16-a939-d399219f112d",
           "Home",
           "East"
          ],
          [
           "bda49147-9a62-4c1d-9175-9c09697575a5",
           "Home",
           "South"
          ],
          [
           "2221a8de-f928-4da2-84b9-9c8e27954da1",
           "Home",
           "South"
          ],
          [
           "9994725b-5b93-4d50-8833-4c84a620edf1",
           "Home",
           "South"
          ],
          [
           "aee28466-fdc0-4f6f-8fa7-ffa2705c2186",
           "Commercial",
           "South"
          ],
          [
           "ee6b0a5d-3384-4673-acbf-609d878dde91",
           "Home",
           "South"
          ],
          [
           "83d391e5-c4c5-4582-92d1-ca97ceed9b73",
           "Auto",
           "East"
          ],
          [
           "c4aee6fb-d4ea-4df2-b6c9-684c23b3601f",
           "Health",
           "East"
          ],
          [
           "a373bc1a-df14-4827-9df8-6cb314e8d58d",
           "Home",
           "South"
          ],
          [
           "632de69f-5cf8-44ae-9f03-154e9ea2bcf8",
           "Home",
           "West"
          ],
          [
           "cf8c9138-b769-4226-bb6b-3a85feaf7853",
           "Commercial",
           "North"
          ],
          [
           "1cd20bbc-db25-4e23-a5c2-5cc9d7139591",
           "Home",
           "South"
          ],
          [
           "ba42ed6d-2d96-45a0-8a2c-724b04653cca",
           "Home",
           "West"
          ],
          [
           "adb401d6-8dc0-4e58-ac85-d3a9e637d49f",
           "Home",
           "North"
          ],
          [
           "35506ed5-eef5-4c7d-8e3a-99b635a2605f",
           "Commercial",
           "South"
          ],
          [
           "0a67ab38-3fac-45a6-9349-7ca819b62dcc",
           "Home",
           "South"
          ],
          [
           "eff7b90d-152e-46b0-9963-af466ae93d99",
           "Health",
           "East"
          ],
          [
           "eb43206b-30de-407a-9f5d-83fce64ebe2e",
           "Commercial",
           "North"
          ],
          [
           "9425d966-8b21-4d37-a978-c091fa54c26c",
           "Health",
           "North"
          ],
          [
           "d11f9c48-23ae-4a80-893a-af1aab66cfc7",
           "Commercial",
           "West"
          ],
          [
           "8f5d102d-ce81-4be2-b97d-7cec0fdf1644",
           "Home",
           "East"
          ],
          [
           "f80be615-8dde-4c96-bf28-d9c4a2e6aa08",
           "Health",
           "East"
          ],
          [
           "0c9d878f-3cfd-4644-b315-32f388309c38",
           "Commercial",
           "East"
          ],
          [
           "74968bd2-93b8-4f9f-82be-a5b7c9470391",
           "Auto",
           "East"
          ],
          [
           "d355fd15-756c-423b-9fcb-7d8047681fb3",
           "Home",
           "North"
          ],
          [
           "2d956f0e-f72b-430d-810a-ce206dcd81cf",
           "Commercial",
           "North"
          ],
          [
           "e6ac76ff-4969-40b9-ba7c-f4d8444bdeda",
           "Auto",
           "South"
          ],
          [
           "51ef56a1-6a12-499c-aee8-1e491516203d",
           "Commercial",
           "South"
          ],
          [
           "4da16e3e-b150-48e4-80a0-0703afc1ac52",
           "Auto",
           "East"
          ],
          [
           "35fd46a6-8c0c-456e-9331-c6aa35f7a95e",
           "Home",
           "East"
          ],
          [
           "0ad5bdc9-e3d3-470b-9a40-7af4e2ffe219",
           "Health",
           "East"
          ],
          [
           "d49c1c1e-4107-4e56-873b-66186b5d1192",
           "Auto",
           "South"
          ],
          [
           "8cacf19f-9f44-41a4-8483-97cbad43f7f3",
           "Commercial",
           "West"
          ],
          [
           "78cdd80b-4da2-4435-8a55-7c7e8c1e887d",
           "Home",
           "West"
          ],
          [
           "7279d6be-e64b-4e80-b65c-3aed914995a5",
           "Auto",
           "South"
          ],
          [
           "9369293d-8ce9-4120-8b25-85527b02582a",
           "Commercial",
           "South"
          ],
          [
           "8c70e365-e268-4b0a-ad3a-63fb033247ae",
           "Commercial",
           "South"
          ],
          [
           "92ea1e88-f15f-4ef7-b32c-31109b4eade9",
           "Commercial",
           "South"
          ],
          [
           "be2f2e34-2763-4daa-b16d-13ca293b0c5b",
           "Auto",
           "South"
          ],
          [
           "3eb8e5dd-dda3-421a-b39a-dc27da26fe9e",
           "Auto",
           "South"
          ],
          [
           "5625af75-c15e-435a-9387-36b19d2dac2e",
           "Auto",
           "East"
          ],
          [
           "81e4c6e7-6be7-4d82-b122-7de6d3ae14d4",
           "Health",
           "East"
          ],
          [
           "7825390f-5cd5-4232-9a53-0a2e96b74d12",
           "Auto",
           "East"
          ],
          [
           "537dabc8-e74d-4a7d-9be0-aab77d5b4b50",
           "Auto",
           "East"
          ],
          [
           "ee947d61-11b0-4689-b7c3-4752be630b97",
           "Auto",
           "South"
          ],
          [
           "1deb16d4-a4f4-4f85-a7c4-25da5de0e92a",
           "Health",
           "West"
          ],
          [
           "1615146b-8b5f-4cd8-af23-710ac2218128",
           "Auto",
           "North"
          ],
          [
           "19959dac-4d58-430d-8a7a-bcc6e3e7c387",
           "Commercial",
           "South"
          ],
          [
           "5f36d1ac-85b4-4cc0-a235-6fc8b1da0df0",
           "Auto",
           "North"
          ],
          [
           "61e376b4-3416-40cf-9d39-1920a37dcc97",
           "Commercial",
           "West"
          ],
          [
           "9815f23b-0cf7-4dfd-9439-64eb5630f306",
           "Commercial",
           "East"
          ],
          [
           "76b33dd1-c20d-4186-82c5-3640a81d67c3",
           "Commercial",
           "West"
          ],
          [
           "180b4169-6696-4794-a820-31e0f16bb293",
           "Health",
           "South"
          ],
          [
           "b0a407cf-a613-43e2-bb77-f819f8ae584a",
           "Health",
           "East"
          ],
          [
           "320ac0f6-cf48-454c-88e9-3bc817e61548",
           "Health",
           "South"
          ],
          [
           "b9c73e7c-b349-4195-8150-7e63abdcd73a",
           "Auto",
           "East"
          ],
          [
           "0d1efee1-f02a-4814-8db3-24508f71ef5f",
           "Commercial",
           "North"
          ],
          [
           "ad3d0e9d-2fd1-43f2-9d33-fff717c2ca2a",
           "Health",
           "North"
          ],
          [
           "a0eed86b-2d72-4ebd-b92a-e407d8d2ece5",
           "Health",
           "North"
          ],
          [
           "53cb995a-27f4-4bdc-bcd0-21849782d84c",
           "Auto",
           "West"
          ],
          [
           "9991cf35-604a-4254-afe3-c23efdc89a79",
           "Health",
           "South"
          ],
          [
           "a5c05110-0ab1-416d-aa39-54f8c6d94533",
           "Auto",
           "West"
          ],
          [
           "3083abf1-4e64-4ff2-a113-795d3a324803",
           "Home",
           "North"
          ],
          [
           "869f51da-95c6-4cd8-99da-4c9d3f8ca58d",
           "Health",
           "South"
          ],
          [
           "3693ea9a-5b3d-41d4-a889-6b134dbb410b",
           "Home",
           "North"
          ],
          [
           "1f937fb8-e39e-4a54-98fa-42e2cf568ca6",
           "Auto",
           "West"
          ],
          [
           "a33228ef-68b5-47cc-b3fc-61172baf5bfd",
           "Commercial",
           "West"
          ],
          [
           "de5b6522-b67b-4b39-8a22-f7412b9543ce",
           "Health",
           "West"
          ],
          [
           "fd4964c5-6379-42b5-8cb7-2334fdec8345",
           "Auto",
           "North"
          ],
          [
           "09be4dbe-4a98-414c-85bb-f40753971e09",
           "Commercial",
           "South"
          ],
          [
           "93c43a60-b52f-49b7-ace8-9d9535a87f98",
           "Commercial",
           "South"
          ],
          [
           "97c0fc76-7d02-41de-add9-aee531f508f9",
           "Home",
           "North"
          ],
          [
           "c2d5d360-02a4-4f29-b1db-04703a340802",
           "Auto",
           "South"
          ],
          [
           "34917cb2-b187-41a6-a810-dd311da87760",
           "Commercial",
           "North"
          ],
          [
           "cc9502ad-5ab4-4b5b-ae3c-67d5a4b2e945",
           "Health",
           "South"
          ],
          [
           "1e2d5df6-c6fc-4d97-ae06-8442afa7e124",
           "Health",
           "East"
          ],
          [
           "10c28dc3-a70e-4f9f-aba1-4f93375f1453",
           "Home",
           "East"
          ],
          [
           "c4b61246-3e26-43df-8ace-5ea1119d11ce",
           "Commercial",
           "West"
          ],
          [
           "3ccee0cb-0030-476e-8603-a9424276cf4f",
           "Auto",
           "East"
          ],
          [
           "0be3cc23-df2c-42e8-98f8-c0980a556f8a",
           "Health",
           "East"
          ],
          [
           "89bf9709-58b4-4515-9ef4-700e2e073abe",
           "Commercial",
           "East"
          ],
          [
           "27a46795-b929-44fc-881f-404ad10bf55f",
           "Commercial",
           "North"
          ],
          [
           "1a20ec9b-f044-4f3c-a65d-825256992968",
           "Home",
           "East"
          ],
          [
           "90c0896c-40e7-4d39-96da-3ecfa7d8b678",
           "Health",
           "East"
          ],
          [
           "5e39bc8d-ba92-44c0-aae3-caf5b324a2af",
           "Health",
           "West"
          ],
          [
           "ca256807-c072-40c4-bb2b-6a3fab2a053f",
           "Auto",
           "East"
          ],
          [
           "048ef300-4930-478d-ad8c-06c241d93d4a",
           "Health",
           "East"
          ],
          [
           "4c904424-c5fc-4d47-a57d-6adfdb5f0969",
           "Auto",
           "South"
          ],
          [
           "b11b0f81-4af8-4468-bd07-17ba0b9a190f",
           "Health",
           "West"
          ],
          [
           "8e10deb1-810b-4ed0-a179-3e53bb754d7b",
           "Home",
           "West"
          ],
          [
           "8583416e-56de-47f7-8c5d-936974a72859",
           "Health",
           "West"
          ],
          [
           "78f19c5c-881a-4c03-8bbf-29dbdf4215a3",
           "Auto",
           "West"
          ],
          [
           "0537fa16-ce64-41c1-8423-205ced95ffce",
           "Auto",
           "West"
          ],
          [
           "e1a31140-d9ea-4747-a1f4-ac4b8509d48e",
           "Home",
           "West"
          ],
          [
           "c3a235b7-56d4-41ae-aecf-56102487279e",
           "Health",
           "North"
          ],
          [
           "d2e40655-0a22-4b3e-b663-983c9fda4cba",
           "Health",
           "East"
          ],
          [
           "e19c28aa-5811-4998-9d16-b92181120632",
           "Home",
           "West"
          ],
          [
           "493d14d8-2496-4f16-a179-e517ce53e1a3",
           "Health",
           "East"
          ],
          [
           "c2c99580-66c0-4696-80a9-91477116d880",
           "Health",
           "East"
          ],
          [
           "daa843eb-4c7f-4e9d-a522-7abd26dec0af",
           "Auto",
           "North"
          ],
          [
           "14e3d0de-67d4-45fa-ab72-06c1daa0050e",
           "Health",
           "West"
          ],
          [
           "a869e2b9-30cf-4570-952b-163b5ed30e87",
           "Health",
           "South"
          ],
          [
           "fde4f5c1-cb40-4eef-a19b-48f8fd01bc80",
           "Home",
           "North"
          ],
          [
           "4080ba15-f23f-402a-b896-e20ca5604efd",
           "Home",
           "South"
          ],
          [
           "86c17a83-994b-4782-b8b5-9315006c0194",
           "Commercial",
           "East"
          ],
          [
           "a8bf5cd9-c0e7-42ea-8b6b-eabd96fc1326",
           "Auto",
           "East"
          ],
          [
           "5179e9a1-4d8a-4f8c-9b0e-e8ffbc64de8c",
           "Health",
           "North"
          ],
          [
           "c51e648f-0358-4c68-b1e0-173971bb314a",
           "Health",
           "North"
          ],
          [
           "43bf1a76-ad76-40b0-b650-843d4ace55d8",
           "Commercial",
           "South"
          ],
          [
           "9b598353-5739-4a0d-b632-4f8178b343bb",
           "Health",
           "West"
          ],
          [
           "7bd294df-eb8b-497d-8482-7be29c3eefc4",
           "Auto",
           "South"
          ],
          [
           "7150bcf4-1485-4191-b0cc-e5e07339ce29",
           "Commercial",
           "North"
          ],
          [
           "81ec86a7-35dd-4452-8398-34c30843bbf9",
           "Auto",
           "South"
          ],
          [
           "23b746eb-b884-45fa-b87f-fcdcbc162dd5",
           "Commercial",
           "North"
          ],
          [
           "5141598f-b606-4814-9622-a0634d0b1017",
           "Commercial",
           "South"
          ],
          [
           "95a6db04-1a57-412e-a512-734661b9c293",
           "Home",
           "North"
          ],
          [
           "62a3ceba-78b9-49aa-a667-c80d56039890",
           "Auto",
           "North"
          ],
          [
           "b6be22d9-f602-42a9-a686-51964159f792",
           "Health",
           "North"
          ],
          [
           "ea50780e-f275-41ca-8bcd-456e2e1a8393",
           "Health",
           "West"
          ],
          [
           "a5af4616-7176-424b-ad5b-0a4a1a6b3205",
           "Auto",
           "South"
          ],
          [
           "1cc30fa3-e66e-4f7b-bfb4-7e6dc7c1bd4e",
           "Health",
           "South"
          ],
          [
           "bc184d6b-4a04-46df-ab04-c042cc2e4339",
           "Health",
           "South"
          ],
          [
           "e190c009-e372-4be3-8654-add5003b90a3",
           "Auto",
           "North"
          ],
          [
           "7c2b7de3-bf8d-4d4a-9165-541b73c0fd04",
           "Commercial",
           "South"
          ],
          [
           "a98afc66-9e4e-41da-abc5-87023309fb6b",
           "Auto",
           "South"
          ],
          [
           "56dbdf97-9d65-43fa-ab84-bab1ce50560d",
           "Commercial",
           "North"
          ],
          [
           "37d10291-3689-473b-811a-3d4c053c6827",
           "Health",
           "East"
          ],
          [
           "e63fe320-7a44-4fd4-ac87-d7d527f12a9e",
           "Health",
           "North"
          ],
          [
           "181647bc-ef2a-455b-a9c1-8cf6547dc173",
           "Health",
           "South"
          ],
          [
           "de3e00dc-6ff7-464f-b90b-68d90c36ff54",
           "Home",
           "North"
          ],
          [
           "3b5041af-7cb7-41b0-b5aa-b7734e859e73",
           "Commercial",
           "East"
          ],
          [
           "f1c660ed-070a-473e-95f6-0e9dfe15b9c0",
           "Home",
           "North"
          ],
          [
           "b7de9ad7-9b8c-494c-944b-4ddc4c9a4aa1",
           "Home",
           "South"
          ],
          [
           "cd71813b-0c11-4801-a892-cb79d263fee2",
           "Auto",
           "East"
          ],
          [
           "87bcc1ed-f0e6-404e-b1ba-19042d8e7582",
           "Home",
           "West"
          ],
          [
           "d5d2aac2-18df-41a9-9175-b863d8efccd9",
           "Auto",
           "South"
          ],
          [
           "70285d23-ec4d-4bac-918e-8800d1c599d3",
           "Auto",
           "East"
          ],
          [
           "b568f6ce-15fc-4281-a436-a1551206f69a",
           "Home",
           "East"
          ],
          [
           "1d773237-5d9a-41ef-a092-5c17916c73c4",
           "Commercial",
           "West"
          ],
          [
           "89e0ce9e-475d-43a3-90e0-747de7926c88",
           "Commercial",
           "North"
          ],
          [
           "00007625-9e69-44bd-9c77-4b2860448455",
           "Commercial",
           "North"
          ],
          [
           "53fe8636-c207-4e1d-ae2c-53855633f09f",
           "Commercial",
           "South"
          ],
          [
           "96bcc7f5-dda8-430d-a32b-67f8c25d802e",
           "Commercial",
           "West"
          ],
          [
           "3cc5a466-7d2d-42b3-85ec-22dadaebdae0",
           "Home",
           "North"
          ],
          [
           "40b15534-0ba7-48bc-8f75-5918cd630732",
           "Home",
           "West"
          ],
          [
           "1c48101d-ac31-4e07-b5b5-71de84766594",
           "Health",
           "North"
          ],
          [
           "f6e8e00d-cc7f-45a4-b210-cd7994ab7e46",
           "Commercial",
           "East"
          ],
          [
           "9b98f033-b7f7-4fa3-b216-07590d39d078",
           "Home",
           "North"
          ],
          [
           "603a2e50-974c-4450-a94f-313471ad5c65",
           "Health",
           "West"
          ],
          [
           "38cc0bc7-05d9-44ed-80cf-a8db5df61e90",
           "Commercial",
           "East"
          ],
          [
           "1ef9ccb1-9c8e-4d35-98d5-1549ea499c5c",
           "Auto",
           "East"
          ],
          [
           "ab744df1-55c8-4aa2-92cc-291ee8b969d2",
           "Health",
           "East"
          ],
          [
           "44ce51b0-71a6-4d67-a28d-ae49de86c916",
           "Home",
           "West"
          ],
          [
           "726ac27f-fa39-4eca-9355-c817be225cfb",
           "Auto",
           "South"
          ],
          [
           "edab038f-34f3-4ab1-b415-e2cc13dcdc90",
           "Auto",
           "South"
          ],
          [
           "1c61785e-4cf4-45be-a119-599b22c97e04",
           "Auto",
           "South"
          ],
          [
           "548eb99b-18a8-44e0-87c5-816c332365c7",
           "Health",
           "West"
          ],
          [
           "5ad33cdf-2624-42ea-8201-16fcf57c0720",
           "Home",
           "East"
          ],
          [
           "0653d8e6-210f-4ec4-bc6f-4408ba663bb2",
           "Auto",
           "South"
          ],
          [
           "9e051e57-cab3-4ae4-9f60-385f51a257ba",
           "Commercial",
           "West"
          ],
          [
           "618f1cf0-7053-4f38-9ef4-3466c13f6be4",
           "Auto",
           "South"
          ],
          [
           "57281601-8af7-468f-8d2b-3b1be53c95a8",
           "Auto",
           "North"
          ],
          [
           "2915514c-e379-4db0-baa0-3197cd492329",
           "Health",
           "South"
          ],
          [
           "db1a381a-0f2c-41c8-ab31-2b606748a7b6",
           "Health",
           "South"
          ],
          [
           "7b7a4e71-24da-4634-8391-602f236a98a4",
           "Home",
           "East"
          ],
          [
           "8e6fbc21-cdfc-4058-959d-f6e4c54019ac",
           "Commercial",
           "West"
          ],
          [
           "c6b5c394-4253-4d06-9d7a-1c4c1b58aa53",
           "Health",
           "East"
          ],
          [
           "213ab350-591f-4426-a223-8ea8738d3c72",
           "Auto",
           "East"
          ],
          [
           "7d15391e-3d87-4e2e-a58f-64bdf19f7613",
           "Home",
           "East"
          ],
          [
           "c6aa64a6-1b9c-4ae9-b39a-f2ad7b188e65",
           "Auto",
           "East"
          ],
          [
           "dc6763a8-e103-4e0f-b42d-d5d0e325069f",
           "Auto",
           "East"
          ],
          [
           "45e18ea1-f3c3-4d32-b4af-93049a5ba879",
           "Health",
           "South"
          ],
          [
           "7e6665e7-c0a5-466f-9f31-8e178a34b7b3",
           "Home",
           "East"
          ],
          [
           "0dea936a-9d7c-47b4-b2d2-6d0054913d54",
           "Commercial",
           "East"
          ],
          [
           "8af26990-afea-4016-af23-711b19a53e49",
           "Commercial",
           "West"
          ],
          [
           "8ee83347-9659-431b-a2a3-a6976bb96eda",
           "Health",
           "North"
          ],
          [
           "3312db6d-5c2d-4592-8ca9-00b14d130862",
           "Health",
           "South"
          ],
          [
           "326b8d97-385b-485b-9a99-745e6d7f2871",
           "Home",
           "South"
          ],
          [
           "de7479e8-7a24-48b2-bb0c-0bf14826d66c",
           "Commercial",
           "South"
          ],
          [
           "d12aca2f-4356-4bfc-a4b0-34a860518f50",
           "Commercial",
           "East"
          ],
          [
           "f9276dd7-6960-4d38-8400-fb1c376a2e80",
           "Commercial",
           "East"
          ],
          [
           "24f0fc7e-86e6-4dd5-b9a7-50f696311a78",
           "Auto",
           "East"
          ],
          [
           "7b9a6a5d-da09-4ed8-84cc-2ab0c792b8fa",
           "Commercial",
           "West"
          ],
          [
           "f64683e1-8de2-4b0f-952c-1ee053f31d74",
           "Auto",
           "North"
          ],
          [
           "7baa9002-1885-4841-9294-eb5455c6a274",
           "Home",
           "East"
          ],
          [
           "0a5ade4f-24e4-4c1d-8e5a-1f1feec17aa6",
           "Auto",
           "North"
          ],
          [
           "759b0c1c-6361-4bce-9184-041aacaccf2f",
           "Home",
           "West"
          ],
          [
           "58b25f93-abec-4d45-9c13-3450784b14c1",
           "Commercial",
           "South"
          ],
          [
           "159017b3-fa51-4599-a8fe-f8fa79c3556b",
           "Commercial",
           "East"
          ],
          [
           "8b68a09e-8df4-4fa4-bc65-a00a5d7a3a0c",
           "Home",
           "North"
          ],
          [
           "1de624db-ab20-4307-ba86-4fa114e73628",
           "Health",
           "North"
          ],
          [
           "a59fc03f-2a74-490d-8b21-569a943a56a8",
           "Home",
           "East"
          ],
          [
           "af8cb4d7-3eb4-44ad-9460-3de02d7fd9d7",
           "Health",
           "South"
          ],
          [
           "08f31fdb-db41-4c02-a0fa-58eb1c329c34",
           "Auto",
           "South"
          ],
          [
           "99bbb432-7ca4-4b20-9f62-e246c630589f",
           "Auto",
           "South"
          ],
          [
           "3f4cbc3e-a674-4c83-b670-bfef5087ed1f",
           "Auto",
           "West"
          ],
          [
           "0db987c8-b1d6-4b1d-b22b-6cfbec058254",
           "Commercial",
           "North"
          ],
          [
           "950deef1-a82e-4a42-b2b1-7a62a2e5a3e5",
           "Auto",
           "North"
          ],
          [
           "faa0af0d-27de-430a-a16f-5d08fda7ce8f",
           "Health",
           "North"
          ],
          [
           "f8e34157-8a9c-4ed9-a43f-2d5565158904",
           "Auto",
           "West"
          ],
          [
           "5754a8f7-afe5-476d-a314-3e93aab2448b",
           "Home",
           "North"
          ],
          [
           "c9a0b24d-5afe-4cb8-9ec8-e2e66d1cb526",
           "Home",
           "West"
          ],
          [
           "3e18ac89-113a-46f2-b96d-bfc4834cd10c",
           "Commercial",
           "South"
          ],
          [
           "f16ee5ed-5d7e-4192-a713-d629213364ad",
           "Home",
           "East"
          ],
          [
           "d9d6ccfa-1d98-4916-bc35-9838f70d46bd",
           "Health",
           "North"
          ],
          [
           "a0af3aae-c46f-4b73-af8e-690868bc2208",
           "Auto",
           "North"
          ],
          [
           "060b17c1-e1fe-4bf6-9a9b-e0343a0a429e",
           "Commercial",
           "South"
          ],
          [
           "9dbe4660-54b6-4002-ad11-a00786678e11",
           "Auto",
           "East"
          ],
          [
           "3cc9e01f-ee02-4b3f-abb2-f7dcc0c30c8b",
           "Auto",
           "West"
          ],
          [
           "38707ef4-d6c6-4124-8fbe-e832edc4ef4c",
           "Health",
           "East"
          ],
          [
           "7461e19d-9207-4c1d-ac17-43ceea5c89e3",
           "Home",
           "South"
          ],
          [
           "a177fef1-abc8-407d-b892-dfedac2cad1b",
           "Home",
           "South"
          ],
          [
           "59d59b6f-764f-49f2-be60-a66569262c04",
           "Auto",
           "East"
          ],
          [
           "fee233e5-3125-40e0-bf12-3e86bf865414",
           "Commercial",
           "West"
          ],
          [
           "d15a809e-cfcd-4f72-9a15-5b643af5727a",
           "Home",
           "West"
          ],
          [
           "a1df2e8c-a889-4214-8234-4bed710b9c00",
           "Commercial",
           "North"
          ],
          [
           "9d780843-6cd9-47cf-b647-4575b6e701f0",
           "Home",
           "West"
          ],
          [
           "af563c8b-ccd6-4f1e-98e2-91c9a65e4e60",
           "Commercial",
           "East"
          ],
          [
           "510cece9-a871-4dd8-a842-87b7e27baa8a",
           "Health",
           "South"
          ],
          [
           "fc384b6d-2431-40c1-a12f-577e631318b9",
           "Commercial",
           "North"
          ],
          [
           "993573b2-3793-453d-86b3-1601b878575e",
           "Health",
           "North"
          ],
          [
           "fcaefeaf-a6e9-4a5e-80c6-515457d3f2de",
           "Health",
           "South"
          ],
          [
           "7034f5f1-da2b-451f-8eeb-87e549b334bf",
           "Commercial",
           "West"
          ],
          [
           "eefb412d-a4a9-475c-9483-3c9b7a83bc38",
           "Health",
           "South"
          ],
          [
           "891a8203-b6ff-4aec-9198-556cfaf810aa",
           "Auto",
           "West"
          ],
          [
           "92dc2c96-864a-48aa-8ab4-e2a60a54cb1a",
           "Health",
           "South"
          ],
          [
           "00e6b1f2-3df4-44cc-b827-6e0c271d28ff",
           "Home",
           "East"
          ],
          [
           "723874a4-13ec-48db-9290-ff8995d68062",
           "Commercial",
           "West"
          ],
          [
           "554364be-be99-41dd-bd37-f33cc7d279a4",
           "Auto",
           "East"
          ],
          [
           "bd6e7692-d499-47e2-b4f6-25ee0ca9b933",
           "Commercial",
           "North"
          ],
          [
           "6c6cc89c-8ce1-4755-8e67-55d824f976bc",
           "Home",
           "South"
          ],
          [
           "272f0068-0ced-45b7-9b2c-b8d109baf310",
           "Home",
           "North"
          ],
          [
           "0957fb63-ef6e-4d0a-b15f-b9fb6d6d63b6",
           "Home",
           "North"
          ],
          [
           "aa92e491-0749-4413-80ef-ffdac489ba27",
           "Health",
           "North"
          ],
          [
           "cf7ce899-a6fb-426f-aa8c-9e47501afbb1",
           "Health",
           "North"
          ],
          [
           "c2b3e0e8-bc45-4c5b-b92a-bdf091289b3d",
           "Commercial",
           "South"
          ],
          [
           "13a9a855-8e44-4ba6-a39f-69aa48161c7d",
           "Commercial",
           "North"
          ],
          [
           "33334ce3-b165-4814-b052-de3bee9bf5fe",
           "Auto",
           "South"
          ],
          [
           "b5fdb324-44e3-49ca-b7ca-1bd6d9d5b9c7",
           "Auto",
           "South"
          ],
          [
           "e6370b40-ec25-4d3f-8d86-3c1c6517efe3",
           "Commercial",
           "East"
          ],
          [
           "6fcf7963-d328-4e5e-98b9-f6a569cd0897",
           "Health",
           "West"
          ],
          [
           "3794030f-dee6-4760-9073-76ffda8eef09",
           "Home",
           "West"
          ],
          [
           "475042cc-0625-46b7-94e6-99bdd0e94932",
           "Commercial",
           "South"
          ],
          [
           "41582fcb-9994-4233-98fc-e64f452630a6",
           "Auto",
           "East"
          ],
          [
           "105db4f3-7177-4450-94af-a6f145fc4d50",
           "Health",
           "South"
          ],
          [
           "e830a2fb-f61f-4965-b51e-a69cd4fe0722",
           "Commercial",
           "South"
          ],
          [
           "20c3ce30-9a7c-4c89-bc62-7d868f30e6fe",
           "Commercial",
           "South"
          ],
          [
           "36293a31-2162-436f-b05b-bbf4e5473025",
           "Health",
           "East"
          ],
          [
           "a88d3c7b-03e7-4e81-98ef-0fc62e734214",
           "Commercial",
           "West"
          ],
          [
           "bb51ee94-4ec3-4bdb-96de-b52dfb5020a0",
           "Health",
           "East"
          ],
          [
           "7c4fd268-5767-47ec-af32-2c76e93ff4cc",
           "Home",
           "North"
          ],
          [
           "ebf93da7-da3d-41a1-8b36-346e363962b9",
           "Health",
           "East"
          ],
          [
           "077ca77e-6949-469d-b427-43cd3fbb5328",
           "Health",
           "East"
          ],
          [
           "bc09b6f1-aad0-4f86-aba9-860720b4174d",
           "Health",
           "East"
          ],
          [
           "2c56507d-086e-4683-a030-22f4115b0bbc",
           "Commercial",
           "East"
          ],
          [
           "3d7f5d78-f78f-456a-8bbb-44bd79f34034",
           "Commercial",
           "West"
          ],
          [
           "f3d75be8-5c03-4c27-8cac-6cb31cac7515",
           "Health",
           "North"
          ],
          [
           "03c4cc77-341a-4336-b337-08ba4d39bfff",
           "Commercial",
           "West"
          ],
          [
           "e232a28a-37f5-41c6-8eac-cc45d319f81e",
           "Auto",
           "West"
          ],
          [
           "4ace8cda-09a6-48e1-93d1-a170becd2891",
           "Auto",
           "East"
          ],
          [
           "9ba1325a-5e5f-44c4-bd62-2392d603e7a3",
           "Commercial",
           "South"
          ],
          [
           "e91a3b6e-90b2-44db-8f77-efd56664dbe8",
           "Commercial",
           "South"
          ],
          [
           "4f76c137-c0a7-4f75-80df-ac8aa579941e",
           "Health",
           "West"
          ],
          [
           "8132ca10-3277-41bb-8a71-96c101b13611",
           "Home",
           "West"
          ],
          [
           "bb52564e-31f3-4b84-89d7-dcdbb13c9daa",
           "Commercial",
           "East"
          ],
          [
           "2bd4c177-6ff8-42b3-87da-197b9ff957f8",
           "Auto",
           "West"
          ],
          [
           "aa42dd8f-1cbf-4bed-b1b9-0b9887e1dc99",
           "Health",
           "East"
          ],
          [
           "4bfd5066-711b-4200-accf-59df8a167214",
           "Commercial",
           "South"
          ],
          [
           "ac376ed8-1f0d-4c6b-bf27-1f3bca44d3a7",
           "Auto",
           "South"
          ],
          [
           "66fb2bdf-4780-4408-998b-68be494bfa51",
           "Auto",
           "North"
          ],
          [
           "6206c30d-629c-45d6-b9c4-bd3fab9bcc8e",
           "Home",
           "South"
          ],
          [
           "0b952129-1c11-4856-a0ed-452ff075ef46",
           "Health",
           "West"
          ],
          [
           "8716110a-40c2-4698-a266-bd7b64f72b1d",
           "Health",
           "South"
          ],
          [
           "b376b338-f018-4bf7-8c7e-823ea3e93c93",
           "Home",
           "East"
          ],
          [
           "b69df9ab-7a92-4f32-b404-42b26bf4ac73",
           "Home",
           "South"
          ],
          [
           "9c769cdb-92f3-4b1b-bd68-02ff2399fe38",
           "Health",
           "North"
          ],
          [
           "2cf4f4ca-8c97-420a-8a79-531e524efe50",
           "Health",
           "South"
          ],
          [
           "c47a2734-5679-4250-9351-e78f355a6fc4",
           "Commercial",
           "East"
          ],
          [
           "0b5fb370-de5e-4963-8970-b258f498a67b",
           "Commercial",
           "East"
          ],
          [
           "67d1fbae-7300-440b-b3cc-36f9e6c47661",
           "Home",
           "West"
          ],
          [
           "46e62ad2-4abd-445d-983d-14cc1b6623f9",
           "Commercial",
           "South"
          ],
          [
           "334f1bdd-e83e-4380-a6b7-0ee106bdfd78",
           "Auto",
           "East"
          ],
          [
           "c01a0f4f-e99c-4a49-ae73-68583b36a3b5",
           "Commercial",
           "North"
          ],
          [
           "1173aa99-fdd7-4eee-a5e9-eabcbd38360f",
           "Commercial",
           "West"
          ],
          [
           "ae7e1cb4-cffa-4571-9755-349e8db09bcd",
           "Auto",
           "North"
          ],
          [
           "eb2c9517-dc58-4283-811d-f1aaa0ae700e",
           "Home",
           "South"
          ],
          [
           "e408c89c-7ecd-4222-bc88-984cf2832088",
           "Auto",
           "South"
          ],
          [
           "5d85ccf0-9ac5-4c0e-88ba-894be6704805",
           "Commercial",
           "South"
          ],
          [
           "59d2172d-2cf4-4bcb-acb0-91a0351f169a",
           "Home",
           "West"
          ],
          [
           "4859a554-f0e2-457a-82b6-9d3b8df4d72e",
           "Commercial",
           "East"
          ],
          [
           "a0456f8f-aa63-4eac-9a24-42e5da43f487",
           "Auto",
           "West"
          ],
          [
           "391d0b0f-1dbf-481c-b046-861dc259be39",
           "Auto",
           "North"
          ],
          [
           "acea2356-fca5-47c9-b9ad-c9010a011db6",
           "Commercial",
           "West"
          ],
          [
           "4dea05c3-9538-4694-a6ae-730d9102d33d",
           "Health",
           "North"
          ],
          [
           "11683537-e59a-489e-98ff-f6b65f9af3f8",
           "Health",
           "West"
          ],
          [
           "f89d7bef-d304-4e45-90d5-abb22551fbcc",
           "Auto",
           "East"
          ],
          [
           "7a107f6b-72d2-4381-b74b-50a4173a63d7",
           "Auto",
           "North"
          ],
          [
           "86044562-802c-44cd-915c-dfe5ffc0a011",
           "Health",
           "South"
          ],
          [
           "75e3c9cc-b37c-48d7-a255-4833cb02c646",
           "Health",
           "South"
          ],
          [
           "1cde2dea-8b35-4b63-b200-1a066db4e5d7",
           "Commercial",
           "West"
          ],
          [
           "554b6411-3d49-457d-835c-adbb8d5755a5",
           "Commercial",
           "South"
          ],
          [
           "39743267-63d0-4fa0-a5c3-f87d82dfb29b",
           "Health",
           "North"
          ],
          [
           "57060f94-3990-4b54-abc4-bfedfa815326",
           "Commercial",
           "South"
          ],
          [
           "86c39a56-4c84-4c6f-8116-6632bea2144a",
           "Commercial",
           "East"
          ],
          [
           "85b94857-6965-4e38-b421-2014a44a08d7",
           "Home",
           "East"
          ],
          [
           "ac1f9124-dabc-4485-b733-a3daa54b60c2",
           "Commercial",
           "West"
          ],
          [
           "9c26090b-cc14-4330-9229-5d0329aeef40",
           "Auto",
           "North"
          ],
          [
           "655bb881-514b-4759-a74b-fc36c60c41f8",
           "Commercial",
           "East"
          ],
          [
           "61c9dc3d-9121-4ecb-8974-bac6dac53952",
           "Commercial",
           "East"
          ],
          [
           "37a4b5d1-aeb2-4912-915e-6db6a0d2f3d8",
           "Health",
           "North"
          ],
          [
           "c359b07d-28a9-4068-be3f-bab01a06af52",
           "Auto",
           "South"
          ],
          [
           "3b3e1808-5173-4825-9eff-a5bfc929ab0e",
           "Commercial",
           "South"
          ],
          [
           "2692e3ec-b386-46e0-9c14-a844f168799d",
           "Commercial",
           "West"
          ],
          [
           "6298d313-75a0-4068-bc3f-15d6a4eb4be5",
           "Home",
           "South"
          ],
          [
           "56b061d9-5a77-4508-83dc-fa222157d100",
           "Commercial",
           "North"
          ],
          [
           "336a42e2-68e4-4e30-a0ac-38fc8554b0f4",
           "Commercial",
           "East"
          ],
          [
           "40b6930b-744c-4a18-89d2-e1a2dc31bfa4",
           "Home",
           "South"
          ],
          [
           "f8d1aa19-0ef4-4093-ba8f-eb193411efe0",
           "Health",
           "West"
          ],
          [
           "66d876b0-3691-4817-b55d-08da316ec19b",
           "Commercial",
           "South"
          ],
          [
           "a4f2430a-db5b-489f-b200-0121cc5dac5b",
           "Home",
           "North"
          ],
          [
           "9b6ab3a0-53c4-447b-8ed8-2c115fc1ebae",
           "Auto",
           "West"
          ],
          [
           "804e7964-a68f-404b-9904-75e58a3ce984",
           "Health",
           "South"
          ],
          [
           "2717c4ff-9b95-48bd-96b0-d38b9b6506ad",
           "Auto",
           "West"
          ],
          [
           "d6c09c59-147d-4012-81c7-6633eb2228d2",
           "Auto",
           "North"
          ],
          [
           "f0d9d9e2-0b56-4be0-8007-d93cad08c73d",
           "Home",
           "East"
          ],
          [
           "1c887aeb-9f4f-4e3f-bac9-20c31640cd64",
           "Commercial",
           "North"
          ],
          [
           "a0ff08da-9eb1-4864-9f86-309f92d094b2",
           "Home",
           "North"
          ],
          [
           "c4396c9f-f989-476a-8a0d-b3f9d7b2b852",
           "Home",
           "North"
          ],
          [
           "5de10247-f49e-4aba-a19a-550939701316",
           "Home",
           "North"
          ],
          [
           "85b9ef8e-b701-419f-8590-f9064f96cf61",
           "Home",
           "East"
          ],
          [
           "c268fbb4-44b2-4fd5-9dbe-dc7edb25c4de",
           "Health",
           "East"
          ],
          [
           "a892227a-1055-45d7-bc06-c9125ac65478",
           "Commercial",
           "West"
          ],
          [
           "4634fa5d-cd31-4ea1-bccb-28199ae4e2bf",
           "Auto",
           "South"
          ],
          [
           "2fadde47-92e0-4c2e-8a16-6724a467f5d4",
           "Auto",
           "East"
          ],
          [
           "7d5f01ef-f189-4e3e-96fa-e8cbca8ff388",
           "Commercial",
           "East"
          ],
          [
           "13d5555a-8322-4a64-9e25-10ce679c8247",
           "Auto",
           "South"
          ],
          [
           "b90aef30-f35d-4fd3-9fdf-7f89848de8cb",
           "Commercial",
           "East"
          ],
          [
           "71101bc0-60fd-4a72-bf30-909d76ae1599",
           "Auto",
           "North"
          ],
          [
           "5ea6efa6-02ba-4adc-afe0-566a3aeec777",
           "Home",
           "North"
          ],
          [
           "435f885a-2038-4a31-a7df-45e8efa225af",
           "Auto",
           "South"
          ],
          [
           "e35926d1-d42b-4d9b-9da3-f114dd3abde9",
           "Commercial",
           "West"
          ],
          [
           "1fe35737-3a40-44cd-b974-c0fbe33be4be",
           "Commercial",
           "West"
          ],
          [
           "905cebfa-16f2-4445-8357-65ec129aa227",
           "Commercial",
           "South"
          ],
          [
           "7654bc83-94ac-433b-9a7c-e56ec40edd63",
           "Commercial",
           "South"
          ],
          [
           "ce2b732a-d783-4cd2-8355-9ef98ed880ae",
           "Commercial",
           "North"
          ],
          [
           "a20b3729-0673-4da0-bcac-5c5e6099cfa2",
           "Health",
           "West"
          ],
          [
           "08922ba6-35d8-4aa1-897d-0948f0511917",
           "Health",
           "East"
          ],
          [
           "a31c3b0c-1509-457a-a354-c0b28632d977",
           "Auto",
           "North"
          ],
          [
           "6e6ea537-3fab-4c7d-b0e5-2a4c72f62d77",
           "Commercial",
           "South"
          ],
          [
           "d9540255-65cb-46e2-a1a4-7c47c8c7bc9b",
           "Auto",
           "West"
          ],
          [
           "9dd9c59b-dbff-42a4-b99c-b748acd14036",
           "Commercial",
           "East"
          ],
          [
           "99fa1427-f27d-4bf4-8198-c9b29545e06b",
           "Commercial",
           "East"
          ],
          [
           "4fa21606-b3cd-4acd-ba2f-825bfa405c0b",
           "Health",
           "North"
          ],
          [
           "156f6b52-8cde-4d8f-a131-bead61862431",
           "Health",
           "West"
          ],
          [
           "98388a17-229d-4c3d-8580-4f119ca2e2b2",
           "Home",
           "West"
          ],
          [
           "e8b8e928-617e-47d0-9498-9c1ea5d2fd65",
           "Health",
           "South"
          ],
          [
           "e8177911-3dec-4f3d-bb82-7deb0212faa2",
           "Home",
           "West"
          ],
          [
           "b5691b13-c6d7-4fdb-9dff-aaa41fcf3456",
           "Home",
           "West"
          ],
          [
           "3bda60a7-ba83-4e0d-9304-a6418325def3",
           "Home",
           "North"
          ],
          [
           "85c5c42a-1c5e-44ac-80dd-a8134406bf23",
           "Home",
           "West"
          ],
          [
           "2220f168-4150-4f19-9724-a8db99d38cfc",
           "Home",
           "East"
          ],
          [
           "0ce64f15-af93-4583-a1c9-ea29b47acf68",
           "Auto",
           "North"
          ],
          [
           "0d1a2488-e24b-49d4-b412-3192d377a5bc",
           "Health",
           "North"
          ],
          [
           "7a9c38cc-5e09-472b-be99-043c003ea52d",
           "Home",
           "South"
          ],
          [
           "9c237c68-f1c7-42d6-8fa6-4668fa30f224",
           "Commercial",
           "West"
          ],
          [
           "d77e712e-d7c0-4117-bf0c-fdd589a983f9",
           "Health",
           "South"
          ],
          [
           "b1bde3f8-e369-4ff7-93b4-f1d4d977f8f9",
           "Health",
           "East"
          ],
          [
           "15997128-544e-419c-9af2-cfae5b58bb57",
           "Home",
           "North"
          ],
          [
           "88ce26ca-efcb-4e70-a865-2a11b933e987",
           "Auto",
           "North"
          ],
          [
           "2e651dc0-56d9-47bb-9dc0-358dd88a8b68",
           "Home",
           "North"
          ],
          [
           "1728f8bc-2d52-4985-9eaf-90d99f56404f",
           "Auto",
           "East"
          ],
          [
           "37389c18-e2ea-403c-90b4-de4f068d026f",
           "Commercial",
           "East"
          ],
          [
           "e8c8ee31-e1b0-4527-9075-830ec915b4b4",
           "Health",
           "South"
          ],
          [
           "c71497f3-7b1f-46a1-819b-89c8d04fbed3",
           "Commercial",
           "South"
          ],
          [
           "26692c6e-1b4d-4bc8-bec7-f30c3325dc2f",
           "Auto",
           "South"
          ],
          [
           "74e0a225-b950-403c-8466-2a075e9d822d",
           "Auto",
           "West"
          ],
          [
           "d91c1bf8-9589-47d6-a4da-32444bfac10c",
           "Commercial",
           "North"
          ],
          [
           "d4684ba2-54cc-4f97-a925-c4e81adc4358",
           "Auto",
           "North"
          ],
          [
           "fe182533-2860-4c7c-8f3e-82d85c20eb97",
           "Commercial",
           "South"
          ],
          [
           "711e4db3-b9af-449e-baa2-72d3004908d8",
           "Health",
           "North"
          ],
          [
           "5ae78b8a-18f2-4229-8468-7ddd7ef04da1",
           "Commercial",
           "South"
          ],
          [
           "571f40f0-bade-42cf-80ee-8c54690249d2",
           "Health",
           "West"
          ],
          [
           "f396c57f-f238-451c-b9c1-63c684f5fd0e",
           "Commercial",
           "West"
          ],
          [
           "b5d32c99-198d-4106-8e11-966ad16ef77f",
           "Auto",
           "East"
          ],
          [
           "aa8b5e08-f6ef-4671-99bc-dcfa26a62f3b",
           "Commercial",
           "West"
          ],
          [
           "b4a0d867-7717-4284-b4ee-ddbf19baf36b",
           "Auto",
           "South"
          ],
          [
           "6e2cb514-dc1d-4440-89ec-253eb039d057",
           "Commercial",
           "West"
          ],
          [
           "687d588a-4003-4eae-b40b-4379f94f25e7",
           "Commercial",
           "East"
          ],
          [
           "11675fd0-7ff8-44a6-8424-7d56df62b969",
           "Home",
           "North"
          ],
          [
           "b4947b73-d232-43cf-92b8-4098d09ce9cb",
           "Auto",
           "South"
          ],
          [
           "d6d6f7a3-210a-4325-bd52-330502bd9402",
           "Home",
           "North"
          ],
          [
           "3f04ff0e-d631-4784-ab02-966201b4b7f9",
           "Auto",
           "East"
          ],
          [
           "cf4f00ad-1091-4980-8b0a-51c0a3efa9da",
           "Home",
           "East"
          ],
          [
           "9ce3f86a-c535-4ca3-bb96-15b28b318c73",
           "Health",
           "East"
          ],
          [
           "5e4f1d75-f96f-4963-9a0f-f4b4575d3941",
           "Commercial",
           "North"
          ],
          [
           "d6b73f12-c8e8-43d4-8237-b4bde7f7c2b9",
           "Auto",
           "North"
          ],
          [
           "fb9c791d-de04-406c-9b80-675e3054d992",
           "Auto",
           "North"
          ],
          [
           "077cc3f4-3c28-4d05-bc84-0325275f4eb8",
           "Commercial",
           "North"
          ],
          [
           "73c229bc-871e-41f8-b5c4-85d28ab1b55d",
           "Auto",
           "East"
          ],
          [
           "da5db64e-c6d2-43a5-aaef-579f582a74b7",
           "Auto",
           "East"
          ],
          [
           "e6404f2d-a91b-4b48-b9af-f82fe8f2b13a",
           "Home",
           "South"
          ],
          [
           "3550f2d7-fcba-4872-949c-6c43b47ab472",
           "Auto",
           "South"
          ],
          [
           "4e17a853-8cf8-4f9c-92bc-7cbc335dfa23",
           "Health",
           "North"
          ],
          [
           "9bcbaa74-180a-49f9-8728-b0d7d2fd43b7",
           "Health",
           "West"
          ],
          [
           "f247f239-076e-43fa-be22-70a57eed0597",
           "Commercial",
           "West"
          ],
          [
           "ca2ab2dd-f0d5-411c-b881-755c1597dcdb",
           "Auto",
           "East"
          ],
          [
           "f65b5d26-5dc2-4177-bbeb-54f42aad8f02",
           "Commercial",
           "East"
          ],
          [
           "e9829fd1-3bf7-4f95-bfc1-24e6af3faaed",
           "Health",
           "East"
          ],
          [
           "763a58f0-c12b-45ec-9814-474799b6170e",
           "Auto",
           "South"
          ],
          [
           "6654532e-7507-4e7e-9423-d84ee39c1a4a",
           "Auto",
           "South"
          ],
          [
           "d8c8c9a4-3eee-4657-bdd7-f71487d80c24",
           "Commercial",
           "East"
          ],
          [
           "4e9aa562-1450-4bde-8e6c-985f42797c59",
           "Health",
           "East"
          ],
          [
           "e9bb00f9-3ca5-4f4f-8cae-da6cd131fd83",
           "Auto",
           "East"
          ],
          [
           "277ccb19-b70c-4790-87e7-5d150fd8b4d1",
           "Commercial",
           "West"
          ],
          [
           "6467abc6-c6de-4069-8cff-44027879f395",
           "Health",
           "South"
          ],
          [
           "f0a5780c-2945-4c35-8c6e-198d562ddce2",
           "Commercial",
           "West"
          ],
          [
           "a4c1db18-ae9b-4918-99e1-da04d1c8ed18",
           "Home",
           "West"
          ],
          [
           "34bdc51b-3ea7-44a9-ab12-d829480636b4",
           "Auto",
           "East"
          ],
          [
           "0bd3b36c-9756-4efb-8f77-d0f8f58b6892",
           "Home",
           "East"
          ],
          [
           "11db71bf-83a4-425a-aec5-324cb4855b2f",
           "Health",
           "North"
          ],
          [
           "69ea7392-5335-4c30-8205-2e196c2765de",
           "Home",
           "North"
          ],
          [
           "16aa15cb-ce56-4878-9c48-d4f3b7fd4122",
           "Home",
           "West"
          ],
          [
           "3dc2d1be-5e5a-40d5-bebc-81369711a61e",
           "Health",
           "South"
          ],
          [
           "7cf4364e-2fb9-4f91-98e2-d8a488d66960",
           "Commercial",
           "East"
          ],
          [
           "e2cb6088-dd2b-4c27-9ac0-920d883d702c",
           "Home",
           "East"
          ],
          [
           "a4d503c4-b9de-407a-af68-4f76dd20840c",
           "Commercial",
           "West"
          ],
          [
           "1bb5b378-c873-4378-baad-898f468e8c39",
           "Home",
           "North"
          ],
          [
           "0b0a1eea-c232-4f44-8bdf-d4f499c943b9",
           "Commercial",
           "South"
          ],
          [
           "48f65337-7d9a-497c-a530-7328f14951ab",
           "Health",
           "North"
          ],
          [
           "23fcac4f-5bcb-4654-b606-c90b13302f91",
           "Home",
           "North"
          ],
          [
           "747cb60f-008f-464d-934f-abfdc4065908",
           "Health",
           "North"
          ],
          [
           "321ac9bc-4a29-4fc9-8b37-0f6c6a9a4558",
           "Home",
           "North"
          ],
          [
           "bd351089-d023-4d5d-9e68-be4f3fb28fac",
           "Health",
           "East"
          ],
          [
           "9baa78c8-e052-46d3-8448-9f2ede3ae8d1",
           "Health",
           "East"
          ],
          [
           "c78f0a19-1d60-42e1-9774-cd494e3f0d6c",
           "Home",
           "North"
          ],
          [
           "74fad836-c4c9-494a-abb8-5a92349c7810",
           "Home",
           "South"
          ],
          [
           "5d2e825f-5d72-4bc6-98b1-9ad8cccd981d",
           "Home",
           "West"
          ],
          [
           "20368eaf-175c-42d4-85eb-7165333dfd23",
           "Auto",
           "South"
          ],
          [
           "45ea5bef-ebe6-45b9-a5aa-4a4128be70e4",
           "Commercial",
           "South"
          ],
          [
           "b1eedae8-3658-4e50-a6db-f7f148ea5e30",
           "Auto",
           "South"
          ],
          [
           "c4c204bf-0f08-4814-a75d-3f924f310cf7",
           "Auto",
           "North"
          ],
          [
           "90a9a784-9a9b-4e6e-98ef-e6c3c48be9f5",
           "Health",
           "East"
          ],
          [
           "60837afe-2ec0-40b2-acbe-a9b1b1823cef",
           "Home",
           "South"
          ],
          [
           "300d63f6-fd69-4cf8-a5bd-36fbb1d4c690",
           "Commercial",
           "North"
          ],
          [
           "0755f41b-9c60-4849-9e04-baf36dcbfd5b",
           "Health",
           "South"
          ],
          [
           "3770639f-6e1a-4e01-98be-deb6c256e55e",
           "Auto",
           "South"
          ],
          [
           "5d59c188-2969-4b55-a62e-97c6798d9f11",
           "Home",
           "North"
          ],
          [
           "d3ff1bfe-4c2f-4d28-8c3c-4242caffd74b",
           "Health",
           "East"
          ],
          [
           "6e076ac1-e997-47c0-9de8-4ae7c552b5c5",
           "Home",
           "East"
          ],
          [
           "796b7242-a405-4259-8cd6-dba625fc193e",
           "Health",
           "West"
          ],
          [
           "8a8b6f79-4952-4a3f-8254-ffa329687f5c",
           "Home",
           "North"
          ],
          [
           "ab9ef403-5813-4819-a7d5-72a6e0a1d9ca",
           "Auto",
           "West"
          ],
          [
           "769bdbab-18f3-43ff-8129-e19267d1af7f",
           "Commercial",
           "West"
          ],
          [
           "f56999cf-88e1-48af-9f46-af6cdc921d95",
           "Auto",
           "West"
          ],
          [
           "96b77177-7a82-46d7-aca3-0b66f9883459",
           "Commercial",
           "East"
          ],
          [
           "96c2fd0a-ee2c-4266-b8e4-ef6eaacae9c8",
           "Home",
           "North"
          ],
          [
           "67e37925-4f46-4551-8c87-bc49a5724721",
           "Health",
           "West"
          ],
          [
           "c5818777-bca8-4820-8f1d-7e44aaae15a4",
           "Auto",
           "North"
          ],
          [
           "b1a88430-c680-4651-b740-99cf2be4fc85",
           "Commercial",
           "North"
          ],
          [
           "44908443-d0f0-41ce-a26d-c45f38e669a3",
           "Auto",
           "East"
          ],
          [
           "312f7eb9-3237-488f-8d9d-b5a0b28dd4a0",
           "Commercial",
           "West"
          ],
          [
           "d374f0b4-e98c-4731-ad20-cfc5890b8f7f",
           "Auto",
           "West"
          ],
          [
           "ee710c6b-c5bb-4826-8b80-03d10836414b",
           "Commercial",
           "North"
          ],
          [
           "1bde0fd8-0f32-4b82-8bb5-8472c221f1f2",
           "Commercial",
           "South"
          ],
          [
           "88a75849-e528-4cae-9424-cfa67687506e",
           "Home",
           "East"
          ],
          [
           "aefcf612-85b2-4ffd-a6e6-44d4e8cd7f49",
           "Commercial",
           "East"
          ],
          [
           "1477fe3e-4527-4101-b413-93010915a92a",
           "Home",
           "East"
          ],
          [
           "7c5b95ef-754a-4c01-930c-3ee6d71bddbb",
           "Commercial",
           "East"
          ],
          [
           "ded5d438-ba85-4d49-bc58-2ba9d2377c10",
           "Health",
           "West"
          ],
          [
           "919a2d58-ff6b-4f64-8fff-e26f6723c5c1",
           "Health",
           "West"
          ],
          [
           "ad5c3f50-a66b-406b-b525-adf4c93e8adb",
           "Health",
           "South"
          ],
          [
           "eb61ca03-e488-4fe3-8dcd-62dbc7817f04",
           "Commercial",
           "East"
          ],
          [
           "7c454786-ce03-4e8d-8eb4-5b296ea7e04d",
           "Home",
           "East"
          ],
          [
           "223e0bfd-6adf-414a-b131-922bde055d4f",
           "Home",
           "North"
          ],
          [
           "2adac62a-0cfe-4558-b203-4f08130eb48b",
           "Commercial",
           "West"
          ],
          [
           "80951924-c719-4566-a1d8-e4f6fa7e087e",
           "Health",
           "East"
          ],
          [
           "a954a0ff-130c-4778-b7b0-c2a3efecbfe9",
           "Health",
           "South"
          ],
          [
           "9666ee3b-8219-4d9d-8a52-3202903bb7dc",
           "Home",
           "South"
          ],
          [
           "eac0cfcf-12f2-491d-af22-80c2c7acfd2c",
           "Health",
           "West"
          ],
          [
           "a5f2819c-b473-4643-baf6-d2c08c203b3c",
           "Auto",
           "South"
          ],
          [
           "ffb3e02f-47b9-41bd-a698-e2776e91ed59",
           "Home",
           "South"
          ],
          [
           "031b7dae-24a8-46d4-a24a-673297e8523a",
           "Health",
           "West"
          ],
          [
           "38902d12-4f16-43bc-87dd-0f5a33d2de5e",
           "Home",
           "East"
          ],
          [
           "33d09a78-d3d0-45f0-93c5-b0a7d63c472a",
           "Auto",
           "East"
          ],
          [
           "451cbe67-61ec-4d17-849e-028c1127d031",
           "Home",
           "South"
          ],
          [
           "5f5ff499-1ab2-4186-8986-ff6656e18a39",
           "Home",
           "South"
          ],
          [
           "e3df3fe4-2590-4310-b2db-b51ff98bdcc0",
           "Home",
           "East"
          ],
          [
           "12b34a7b-78e3-4b05-a33f-3b024635a63f",
           "Home",
           "West"
          ],
          [
           "93ca42bb-64fd-4082-9d83-e5d546df4d1e",
           "Auto",
           "South"
          ],
          [
           "db19e1c5-94d2-4402-abf3-4c463098817c",
           "Commercial",
           "North"
          ],
          [
           "80cc84fd-ce5d-4321-b443-8092dfc4607e",
           "Home",
           "West"
          ],
          [
           "dce43424-a87a-4cfe-b93b-879c495db6e2",
           "Home",
           "South"
          ],
          [
           "8a144007-1626-43fc-b68a-68cc819fb52d",
           "Health",
           "South"
          ],
          [
           "e635c01c-0140-488e-9222-fe2765f29a0a",
           "Home",
           "North"
          ],
          [
           "23be9f67-1e5e-49bb-a103-c60764894fc1",
           "Health",
           "North"
          ],
          [
           "2b3f867e-9043-493a-882d-36db0be562bc",
           "Commercial",
           "East"
          ],
          [
           "1f1a00ca-d206-49fd-a12b-8f03bed83997",
           "Auto",
           "West"
          ],
          [
           "4cc613ff-37e0-4351-aa50-8490113458b3",
           "Auto",
           "West"
          ],
          [
           "2ca162a2-32a6-4c66-9f53-3a4dbf71c9c8",
           "Commercial",
           "East"
          ],
          [
           "e9720663-9871-4e3d-a4c0-267c3a2e53f0",
           "Auto",
           "West"
          ],
          [
           "8450dda9-3f8f-4672-9fbb-bc903fd2f0ba",
           "Commercial",
           "West"
          ],
          [
           "edae6915-2272-4369-a467-1a56dfda156f",
           "Commercial",
           "West"
          ],
          [
           "724ab653-49eb-47fc-bdd8-7e38beb2a88f",
           "Commercial",
           "West"
          ],
          [
           "3091daee-8730-480c-9016-ddde2f118fd0",
           "Auto",
           "West"
          ],
          [
           "8c24f98e-54e8-4088-a42b-e485788da8eb",
           "Health",
           "North"
          ],
          [
           "4c0826d0-0f3e-4560-9f9c-dc9adfb13192",
           "Commercial",
           "West"
          ],
          [
           "5aed9e7e-3b1f-41df-9595-a748697dadf2",
           "Home",
           "North"
          ],
          [
           "b21195cf-63ce-42f3-b6bc-568a943ef174",
           "Auto",
           "West"
          ],
          [
           "60dc3049-8c40-41d0-b089-a11db485768c",
           "Commercial",
           "East"
          ],
          [
           "89829510-7813-4991-9708-4880dced0e7b",
           "Commercial",
           "South"
          ],
          [
           "7fa5035a-4be8-4422-83a0-13975b8933a6",
           "Home",
           "North"
          ],
          [
           "8846ed76-c7a0-47e6-ae7b-a4ca378436b1",
           "Health",
           "West"
          ],
          [
           "df6791aa-419c-46ce-a8b5-7629dae79873",
           "Health",
           "East"
          ],
          [
           "3d637377-fd00-4ebe-97ef-d83e7bfbba55",
           "Health",
           "South"
          ],
          [
           "ddd6c416-e173-4ace-801e-c795ccbb85cd",
           "Commercial",
           "North"
          ],
          [
           "f2a8f466-b96e-46ea-b419-858d701ceea0",
           "Commercial",
           "South"
          ],
          [
           "d4419d43-f623-4a45-84f7-6eebe1857ba0",
           "Commercial",
           "East"
          ],
          [
           "0371e943-9d5b-4aaf-8570-f1e80f374eb2",
           "Auto",
           "North"
          ],
          [
           "31c0d39f-8539-4211-929d-94f367991e21",
           "Home",
           "South"
          ],
          [
           "893b0c75-9084-4ffd-a4df-e6bc918178be",
           "Commercial",
           "West"
          ],
          [
           "20476905-db55-4478-b36d-93991f8a1268",
           "Home",
           "North"
          ],
          [
           "295b22c9-32ab-4f32-87e4-81b56392677a",
           "Home",
           "South"
          ],
          [
           "c0c2ea59-f2d5-4628-8244-fafaae1a6b32",
           "Health",
           "East"
          ],
          [
           "51fbac6a-9bde-4468-a009-be73adeedbd7",
           "Auto",
           "East"
          ],
          [
           "f062c836-efef-4928-af41-6e7fee00af83",
           "Commercial",
           "North"
          ],
          [
           "adff48ca-83e2-49e9-ab09-a21a7d67b96d",
           "Health",
           "South"
          ],
          [
           "9d8d523f-07d4-46d0-8198-718c8669b73c",
           "Health",
           "North"
          ],
          [
           "ab86a029-bf42-4510-b176-16cc70bad6a0",
           "Commercial",
           "North"
          ],
          [
           "391f5f7e-c4d6-42ee-b74f-c3a19aec6c70",
           "Home",
           "South"
          ],
          [
           "31b1685f-4c83-4be3-ae16-51daa7ca2bca",
           "Health",
           "South"
          ],
          [
           "291f4961-7921-4727-bcf8-524d92b48749",
           "Home",
           "West"
          ],
          [
           "c3261cce-c26a-4cbf-9fc1-0e2a18c6d4ac",
           "Auto",
           "South"
          ],
          [
           "e12a0a2f-57c0-4224-94b0-c9ce8f69cdc2",
           "Home",
           "East"
          ],
          [
           "d4804222-3443-4443-a454-10fab34951a5",
           "Auto",
           "North"
          ],
          [
           "863c5a69-94fa-46d8-839e-56c215dab650",
           "Home",
           "North"
          ],
          [
           "6a493ba4-3838-4329-a21a-84a0652d7d53",
           "Health",
           "East"
          ],
          [
           "c17a1cb4-3984-4ed0-b560-861c9f9b3dc8",
           "Health",
           "South"
          ],
          [
           "0608c1d0-3b07-47af-89df-5cb619efc0c3",
           "Auto",
           "East"
          ],
          [
           "dc19e957-f9a7-473a-af40-68f976e1ec59",
           "Commercial",
           "East"
          ],
          [
           "137aed07-01fa-4af5-b952-22da4d739910",
           "Auto",
           "West"
          ],
          [
           "3362e308-d1cb-4e6d-aee2-2f581e9ac705",
           "Auto",
           "East"
          ],
          [
           "36838bbd-b9cf-40f3-aaff-90452b0471a3",
           "Home",
           "North"
          ],
          [
           "5b01415b-cc73-4e40-934f-1c381a2ec7e2",
           "Home",
           "East"
          ],
          [
           "dd0020ab-09bb-48d2-b089-81a59b3e6ca1",
           "Auto",
           "North"
          ],
          [
           "1b54322a-cb8f-459b-b157-2a8724806f86",
           "Health",
           "North"
          ],
          [
           "7144c151-48c3-48ab-90c6-58c5532f6a6f",
           "Home",
           "North"
          ],
          [
           "08e8f9fe-fd7e-40ea-8105-b5d4cd16b84f",
           "Commercial",
           "South"
          ],
          [
           "2f5b4371-a92e-40a3-b3d6-df4e8e78c0bf",
           "Home",
           "West"
          ],
          [
           "6cd8f8e5-eccb-4fcb-a7ce-0747a2d30e78",
           "Home",
           "North"
          ],
          [
           "ffac2ed5-20d3-4b46-96d5-e80448dae9d4",
           "Commercial",
           "North"
          ],
          [
           "d7ffe3a1-9b54-4955-a105-763de40e0356",
           "Auto",
           "South"
          ],
          [
           "a60119d6-7ff1-484f-bec8-0c1e572949fb",
           "Commercial",
           "North"
          ],
          [
           "679ab228-4a3e-4bc1-8e6b-4a68493d1cd0",
           "Auto",
           "East"
          ],
          [
           "83512a25-26f7-4589-98d5-b042a32525f5",
           "Auto",
           "East"
          ],
          [
           "fe08f870-7139-46b0-9cbc-05f7efbb7651",
           "Auto",
           "West"
          ],
          [
           "6336342a-d1bf-4692-970e-3de21a186198",
           "Commercial",
           "North"
          ],
          [
           "df656f67-b695-400b-a899-01c34f423c1f",
           "Auto",
           "South"
          ],
          [
           "1dfe3dcf-520b-4f93-a366-ec99e9c27755",
           "Health",
           "East"
          ],
          [
           "2d0d15a1-6daa-4280-a5b2-ccaf581e1d0a",
           "Commercial",
           "South"
          ],
          [
           "d9499f0c-9a2a-475c-808f-8cc26e985a90",
           "Health",
           "South"
          ],
          [
           "8a782a7a-739f-4e40-90f6-92dd3210761c",
           "Auto",
           "East"
          ],
          [
           "7c784c2f-1496-428d-9211-d9d511a374d2",
           "Home",
           "South"
          ],
          [
           "7d493cd7-4174-4708-a6e0-ea7b7438662b",
           "Auto",
           "East"
          ],
          [
           "fa6a3d04-6e4c-4892-b495-19dfd3774e55",
           "Health",
           "South"
          ],
          [
           "1d6a4357-032f-4cb7-8e74-bbab418aaa09",
           "Health",
           "East"
          ],
          [
           "7b8d97c0-8f5a-48f9-9c38-9f1205ee0145",
           "Commercial",
           "North"
          ],
          [
           "8080aa56-d937-4f22-b2bc-ca12fefc1512",
           "Home",
           "West"
          ],
          [
           "dac8b0fc-f1d7-4d2c-984c-771efc44b908",
           "Commercial",
           "East"
          ],
          [
           "30595f4e-64d9-4afb-aa05-b2851561e5c0",
           "Health",
           "East"
          ],
          [
           "37181677-2623-4bd4-9c1a-391dab3ba819",
           "Auto",
           "West"
          ],
          [
           "734a1bd4-a5a3-42f8-b6be-d2b28252813d",
           "Home",
           "East"
          ],
          [
           "044756f4-616f-4e56-908d-f35f2d63453e",
           "Auto",
           "East"
          ],
          [
           "210c822c-b84e-4089-9306-e5e4f8015907",
           "Auto",
           "South"
          ],
          [
           "eaab8be8-75ad-4893-b385-efb17e38c801",
           "Home",
           "West"
          ],
          [
           "14f0c3ca-4ea3-457b-914a-3740728251a8",
           "Commercial",
           "North"
          ],
          [
           "e9935a11-4851-4627-a77a-3c0f2345b9a3",
           "Auto",
           "East"
          ],
          [
           "2fb8ef92-fce9-4ad1-b482-284b98354bbd",
           "Health",
           "West"
          ],
          [
           "4f88bf54-79c6-4c34-81a5-03cac48ee65d",
           "Auto",
           "South"
          ],
          [
           "b002dac9-0112-4b7e-ab4b-bdbb5b95827d",
           "Home",
           "North"
          ],
          [
           "7b2d7f46-230d-40ba-b747-2cd76c2fba3a",
           "Home",
           "West"
          ],
          [
           "e11331fa-e16b-47b8-8daa-39730c5c55cf",
           "Home",
           "North"
          ],
          [
           "28a60ee0-aec2-4627-abcd-71d52ec073e3",
           "Commercial",
           "North"
          ],
          [
           "a9f4034a-524d-4627-95cd-b844e14eb1a7",
           "Auto",
           "North"
          ],
          [
           "897e37a9-db73-48b5-b84d-2236fe331e12",
           "Commercial",
           "East"
          ],
          [
           "741c1f05-abde-419f-bc53-7eb4510303f7",
           "Commercial",
           "East"
          ],
          [
           "d2d44d39-c9cf-48ad-b7a1-7a8915fb9304",
           "Home",
           "South"
          ],
          [
           "31f6bd37-ae75-49d1-b921-e793d3a7f437",
           "Home",
           "South"
          ],
          [
           "72fe7e79-d148-4c9a-9582-3b3a2eaa5fb4",
           "Commercial",
           "West"
          ],
          [
           "e8e1c635-34ed-472e-a68b-a65f003ae98e",
           "Auto",
           "South"
          ],
          [
           "fc14e323-3d5b-44a9-af99-c7c27009627b",
           "Health",
           "North"
          ],
          [
           "b4957d4a-92d8-4145-9e4d-bd0eac0f6535",
           "Commercial",
           "North"
          ],
          [
           "c6ff82d2-635c-4460-ac4f-87caded1ee12",
           "Auto",
           "East"
          ],
          [
           "d6a340ee-bbb2-4de2-8023-5d031b266093",
           "Home",
           "North"
          ],
          [
           "a9cba9ad-91c9-490a-92c5-158c1e8daa02",
           "Home",
           "West"
          ],
          [
           "b7dbf6aa-64f8-4a42-8b8a-8960cdb438e6",
           "Auto",
           "North"
          ],
          [
           "e49ab528-e92e-4918-9e56-2dc85a1a945d",
           "Health",
           "North"
          ],
          [
           "f4e9b858-8384-446a-8980-b94836c62b60",
           "Home",
           "West"
          ],
          [
           "137ca426-d7ff-45c2-a937-b30fbf471060",
           "Home",
           "South"
          ],
          [
           "d0c0e3d6-43f0-4cc9-8104-a6246a99801b",
           "Home",
           "South"
          ],
          [
           "3d07bc56-fa72-4637-ba18-935a369121a8",
           "Auto",
           "West"
          ],
          [
           "5c0b3a3b-7f1a-4f97-a894-538745010a2e",
           "Commercial",
           "East"
          ],
          [
           "d50b1a78-f1dd-482d-ad08-86147432d1e9",
           "Home",
           "North"
          ],
          [
           "22d23ba4-3013-49c0-a1ae-3259c0e73476",
           "Commercial",
           "West"
          ],
          [
           "ffeb8cdc-54b7-4d0b-9b70-596bcf2a2701",
           "Health",
           "North"
          ],
          [
           "bb98d46e-71b2-465b-87cb-53dd7561a624",
           "Home",
           "East"
          ],
          [
           "935fc547-b134-4435-a3fe-7858fac3c00e",
           "Home",
           "North"
          ],
          [
           "364d09e3-6692-4d10-a626-1a724c63c549",
           "Health",
           "West"
          ],
          [
           "36ecabb5-e0ec-4481-9bef-8f2bae3ba480",
           "Home",
           "North"
          ],
          [
           "5d046b0c-3431-43d1-8cfc-a2e73537b4b9",
           "Commercial",
           "South"
          ],
          [
           "0dd560dc-121f-4e95-a032-89d93a6ae8dd",
           "Auto",
           "East"
          ],
          [
           "dbed31ec-d0a3-41ba-a7ba-61be7654771f",
           "Commercial",
           "East"
          ],
          [
           "41cdd853-872c-46a1-b6cd-9ddf609923c1",
           "Auto",
           "East"
          ],
          [
           "92ebf03d-9df6-4ff6-b449-a5cfdae736fe",
           "Auto",
           "West"
          ],
          [
           "5f952060-6b8f-4f9b-8360-1205c965501d",
           "Commercial",
           "East"
          ],
          [
           "8486f4a0-33bc-4268-8d5c-e7812423ddbe",
           "Commercial",
           "South"
          ],
          [
           "932939f8-0b94-4d7e-807f-c70e48fc70ed",
           "Commercial",
           "West"
          ],
          [
           "b4326ebd-6116-489d-a2f9-539e6d09b8df",
           "Commercial",
           "South"
          ],
          [
           "9dd0a034-e02d-40ef-a0c1-9c0e82ca2fbc",
           "Health",
           "North"
          ],
          [
           "8581810e-e4a5-46a9-afc5-9d5c3e1ae365",
           "Home",
           "North"
          ],
          [
           "69a54a9d-d590-43c4-9ed0-aae144ef51a0",
           "Auto",
           "North"
          ],
          [
           "1ee922a5-12dd-4374-ac8d-325130c1610e",
           "Commercial",
           "North"
          ],
          [
           "00c416b1-f283-4d03-b4d4-72ee809df623",
           "Commercial",
           "South"
          ],
          [
           "46d50602-38d0-40fc-aa41-a0b3ed1bdca0",
           "Commercial",
           "West"
          ],
          [
           "6f249587-5040-48d1-87de-016343eed125",
           "Health",
           "West"
          ],
          [
           "b2dd3629-bba2-47a3-9099-cc1cda381a7c",
           "Commercial",
           "East"
          ],
          [
           "d055f7b7-4e3a-41d4-b486-ae41e81143de",
           "Commercial",
           "South"
          ],
          [
           "e27021ce-66cb-4242-b9a1-16694afb4f56",
           "Commercial",
           "North"
          ],
          [
           "942f3aea-d56b-4b87-a32e-edb501344bb5",
           "Home",
           "South"
          ],
          [
           "22172c28-7051-47fc-b2b0-223c5e746e5b",
           "Health",
           "East"
          ],
          [
           "12fbc747-60c9-40c0-8948-df94e5c05b0d",
           "Commercial",
           "East"
          ],
          [
           "bc3cdc15-4655-4266-9048-5a75e1151c55",
           "Auto",
           "South"
          ],
          [
           "2224482d-3a05-4510-b1af-37203011ee3a",
           "Auto",
           "South"
          ],
          [
           "fecde1c5-0d97-41f2-93d3-b581648ba827",
           "Auto",
           "South"
          ],
          [
           "3b793eed-2951-4f68-a55a-29b18d81601f",
           "Health",
           "West"
          ],
          [
           "36f090dc-695f-4cea-a173-d2e1498193f5",
           "Health",
           "North"
          ],
          [
           "67c5485a-b91b-486a-b27a-4b2e1ae69ef4",
           "Auto",
           "South"
          ],
          [
           "860ffda2-e1ff-47ca-827d-cc9cbd29fc11",
           "Commercial",
           "South"
          ],
          [
           "aae4ed90-e774-46fa-8f24-308c0b4f5997",
           "Health",
           "South"
          ],
          [
           "356325a1-4312-42b1-bc98-d125960e57c7",
           "Auto",
           "East"
          ],
          [
           "5743ebc5-412e-4263-ac7f-63f9428c6555",
           "Auto",
           "East"
          ],
          [
           "aa453021-ba70-4ef7-a315-65e2a2b69a1a",
           "Commercial",
           "West"
          ],
          [
           "1f04a5aa-68e5-4a95-a9cb-34a4bd9d0d7e",
           "Home",
           "North"
          ],
          [
           "dadf8abc-43c7-4862-864a-48a34ba6bd1d",
           "Health",
           "West"
          ],
          [
           "b1ba776a-a67c-4877-9a35-1c175aeb8ec0",
           "Commercial",
           "North"
          ],
          [
           "7b9b154c-cd9e-4a65-8461-84108c4b574a",
           "Auto",
           "East"
          ],
          [
           "76d8bd21-ee3f-464f-aedf-953df562c7ae",
           "Auto",
           "East"
          ],
          [
           "39ac79eb-c448-4cfd-a8e4-ef378b64a7f0",
           "Commercial",
           "East"
          ],
          [
           "bd306a27-cde9-4cad-825f-333a95488aa6",
           "Health",
           "West"
          ],
          [
           "4a47380c-048b-4cfa-be99-0d102688afde",
           "Home",
           "South"
          ],
          [
           "4f9c6c08-028a-415b-9b34-594498d3beb5",
           "Home",
           "South"
          ],
          [
           "766d7fc0-e68b-47e4-9e11-e25e050be7f0",
           "Auto",
           "East"
          ],
          [
           "fd7d427c-1edd-478c-aaf2-b9f2aac28eb4",
           "Health",
           "South"
          ],
          [
           "eef25d1a-44e4-4ac0-9c89-ebab9cc2c59a",
           "Home",
           "South"
          ],
          [
           "ca0ba324-8b09-48c0-8ca0-31a4b6f7ebf1",
           "Health",
           "West"
          ],
          [
           "8ebabb8b-8a9c-411f-9df5-e1cc660f321d",
           "Health",
           "North"
          ],
          [
           "5e47f162-d9ed-4b27-93db-8b7a9db78c3b",
           "Auto",
           "East"
          ],
          [
           "e5b28807-2d79-4183-8dfa-f97b71118f67",
           "Home",
           "East"
          ],
          [
           "67a08306-b984-49b3-8214-8aaa6020907e",
           "Commercial",
           "West"
          ],
          [
           "d5d3e2c6-ebcb-46be-ac45-bed9664a454d",
           "Auto",
           "West"
          ],
          [
           "fcb9ca6a-0450-4c7b-b4d8-2ca9ec880448",
           "Home",
           "South"
          ],
          [
           "f9f6cf01-7cf0-4beb-a3f2-2ee31485894e",
           "Home",
           "East"
          ],
          [
           "94eb4fe8-0754-40d0-875f-a0a4b5da237d",
           "Home",
           "North"
          ],
          [
           "a624075b-98f8-4e17-9d19-817e4680a5b3",
           "Home",
           "West"
          ],
          [
           "34f9193b-bfbb-4c15-9224-3add51294b1d",
           "Home",
           "North"
          ],
          [
           "284e0474-eb09-4f83-9d46-ff9bc304a25c",
           "Health",
           "North"
          ],
          [
           "bba374d1-847a-4ceb-b602-be8beb32b62d",
           "Auto",
           "East"
          ],
          [
           "a4c65b58-5450-4177-97e5-8bd4d1504776",
           "Health",
           "East"
          ],
          [
           "55ddea7a-46fc-4b71-95cc-36cf66946d0f",
           "Commercial",
           "West"
          ],
          [
           "324c4be2-a2e2-407f-b6ca-e10dc4bb6831",
           "Home",
           "East"
          ],
          [
           "c0a0c360-b3c7-4bc7-bf83-e5203919baee",
           "Auto",
           "East"
          ],
          [
           "e0233622-a0fa-4ddf-8e05-da809f81df12",
           "Home",
           "East"
          ],
          [
           "a9a3abdb-b476-47cb-a28d-45865135226d",
           "Auto",
           "North"
          ],
          [
           "f6e4231a-e3d0-4331-80e2-acae3540afc8",
           "Health",
           "West"
          ],
          [
           "b050b98e-cd91-484d-b59e-1ba6ee1ee2bb",
           "Auto",
           "South"
          ],
          [
           "f32b2b94-e9a4-433a-aa5d-3c1a84febd78",
           "Commercial",
           "North"
          ],
          [
           "f4deeb51-3b76-4309-b263-09c724055cda",
           "Commercial",
           "East"
          ],
          [
           "66b2b556-8b00-4324-b8fd-006ac1ea7b24",
           "Auto",
           "North"
          ],
          [
           "530464c4-0e76-41c7-9f79-cb5ca201c1d4",
           "Auto",
           "East"
          ],
          [
           "ee4d46be-b8de-466f-b32b-2b6b90def778",
           "Auto",
           "East"
          ],
          [
           "2052c532-0a22-414e-b749-f10bed4073aa",
           "Auto",
           "North"
          ],
          [
           "5980bc8c-2ede-443a-b8f3-f2b1497afa97",
           "Commercial",
           "West"
          ],
          [
           "dbd49111-de2c-4f9d-b7c4-94f8f32fe212",
           "Home",
           "East"
          ],
          [
           "72205cd3-8d49-4f37-b254-0ef1dbd1e7ca",
           "Auto",
           "West"
          ],
          [
           "0d99055d-e0ce-4bbd-acbc-1c3347294514",
           "Auto",
           "South"
          ],
          [
           "ffff6f6d-68c1-479b-8f4d-ec70b0f87905",
           "Commercial",
           "East"
          ],
          [
           "094f3629-2a27-425d-98e7-bcb293a49fb9",
           "Commercial",
           "West"
          ],
          [
           "d4220422-d20f-4285-8257-bc288f78f32a",
           "Health",
           "West"
          ],
          [
           "f2cf7660-f3ba-43de-b7e0-2107355c0d56",
           "Auto",
           "South"
          ],
          [
           "3465657e-ac8c-40a3-81c7-98f31421c8f6",
           "Health",
           "West"
          ],
          [
           "2b1f1bc8-5754-40e5-a792-dad8f7f6f215",
           "Commercial",
           "West"
          ],
          [
           "fd241d17-eadf-4e4c-841d-a7d62e88b3c3",
           "Commercial",
           "South"
          ],
          [
           "14652703-eea7-4271-9779-746c8652236b",
           "Home",
           "East"
          ],
          [
           "65046cdb-2c04-4207-868f-d2c53ba66f28",
           "Auto",
           "West"
          ],
          [
           "dd211414-24e0-4e2d-b4ab-a30ef581a6d2",
           "Health",
           "West"
          ],
          [
           "6022783b-af27-43a1-bc89-07031132d3a5",
           "Commercial",
           "West"
          ],
          [
           "2195cbcc-6a42-4fee-9bc2-b834a779dc02",
           "Commercial",
           "North"
          ],
          [
           "4e2a0ff3-25cf-4cda-bae2-561400be038f",
           "Health",
           "South"
          ],
          [
           "edad655d-83c5-40f3-8a0b-dd7e5eda939d",
           "Home",
           "North"
          ],
          [
           "c05c884b-8978-4d10-ba15-13ea5d2e52c1",
           "Commercial",
           "South"
          ],
          [
           "2d059498-6ccc-4471-9aa5-3e8d955f6b83",
           "Auto",
           "East"
          ],
          [
           "17d0c065-47af-49d8-b36c-3995324a296c",
           "Commercial",
           "East"
          ],
          [
           "87a9677d-1b0c-40ec-b448-59efa6329f77",
           "Auto",
           "West"
          ],
          [
           "507d7e4c-3d11-4de8-969a-d093bf4f7e02",
           "Health",
           "South"
          ],
          [
           "df4d31b2-afd2-4f7f-b8c8-e3cb82fbfcc2",
           "Auto",
           "East"
          ],
          [
           "1351bc5a-8093-43e2-902e-3726cd6fb7ea",
           "Health",
           "South"
          ],
          [
           "39629b8c-4acc-4d34-86ca-2e6059af68e2",
           "Auto",
           "East"
          ],
          [
           "e7a4794d-26c7-48d9-9e27-1c01d99f7fde",
           "Health",
           "North"
          ],
          [
           "2e82f368-366e-4308-bb85-2cf87ae8983c",
           "Auto",
           "East"
          ],
          [
           "096ecd27-da90-4f9f-b6df-cb2daab5df86",
           "Home",
           "North"
          ],
          [
           "4111219d-e0ef-4359-865c-b2cd5da39995",
           "Auto",
           "East"
          ],
          [
           "a99d9bb8-df30-4017-8c14-ee0cf27cee95",
           "Auto",
           "West"
          ],
          [
           "45656272-39af-4661-8933-5f6bc36251b4",
           "Home",
           "North"
          ],
          [
           "2ea1bdcd-3b31-438f-a62e-49b51f9e0833",
           "Commercial",
           "East"
          ],
          [
           "898aba1e-5822-446c-988b-094c22f8b9a2",
           "Commercial",
           "West"
          ],
          [
           "0b84e887-ec07-473e-bded-bc526b48f73b",
           "Auto",
           "North"
          ],
          [
           "3da59b7c-f840-411b-aafa-cd4283bbf8b8",
           "Home",
           "West"
          ],
          [
           "15ea0caf-47dd-4ce5-83cc-68b021c89b2f",
           "Auto",
           "South"
          ],
          [
           "7b878db4-76fa-4cbb-a876-66268a74ffd3",
           "Health",
           "South"
          ],
          [
           "7dad6490-d221-4848-a85a-6842539fbe3f",
           "Health",
           "North"
          ],
          [
           "3d2d13b9-8586-41da-937f-c53471949f47",
           "Auto",
           "East"
          ],
          [
           "5a148e11-7105-454c-a004-6a8430950842",
           "Commercial",
           "North"
          ],
          [
           "35ea79c1-50b8-4b4c-9b94-a295df873a78",
           "Commercial",
           "West"
          ],
          [
           "1df5b5d9-1b2a-47fc-9fbd-87bed6b05f33",
           "Auto",
           "East"
          ],
          [
           "1ad44d0d-b5d4-4739-9a54-c86077406643",
           "Auto",
           "South"
          ],
          [
           "d29bf978-70dd-4a00-9adb-9ae91b7de20b",
           "Health",
           "East"
          ],
          [
           "1ed39794-dc72-43b4-9dfc-3e2c04088189",
           "Commercial",
           "South"
          ],
          [
           "aef71d85-2ccf-41e4-8a80-8b1ce6c5aa90",
           "Auto",
           "East"
          ],
          [
           "b0198382-6423-4a94-9c40-5874c1665292",
           "Health",
           "East"
          ],
          [
           "e8c8a02e-e87d-4e12-8ef2-48c8bb925630",
           "Commercial",
           "East"
          ],
          [
           "dd6cc4c3-9ec9-4651-a76c-5f83f1a200d6",
           "Home",
           "West"
          ],
          [
           "663e40ad-9230-4b7e-8a32-ad72ae590695",
           "Health",
           "West"
          ],
          [
           "54a97ed3-0481-4f85-a097-bf4a5e6bbf2a",
           "Commercial",
           "North"
          ],
          [
           "808f9cd8-ddb8-4ee9-b10d-54182d28f0f5",
           "Commercial",
           "North"
          ],
          [
           "bf29e07f-6ada-48ca-b0c3-9c22bf2a3cdd",
           "Health",
           "South"
          ],
          [
           "f13df39d-889c-43d4-ba8b-47191df478bb",
           "Home",
           "West"
          ],
          [
           "42848781-200f-4d1d-98cc-268068828707",
           "Health",
           "South"
          ],
          [
           "57e29af0-f8ea-4796-ab1a-11d372ca3168",
           "Commercial",
           "North"
          ],
          [
           "c16a2fbb-46f7-4181-8ebe-760bff7ef264",
           "Auto",
           "South"
          ],
          [
           "d4bc9167-6881-4ea3-8758-0e6e5d784b7f",
           "Auto",
           "North"
          ],
          [
           "6dbbf5e5-e806-421e-9ffe-f7bc978f545b",
           "Health",
           "West"
          ],
          [
           "b29406d5-e8c7-4629-80e5-bc0dcf4915ec",
           "Commercial",
           "East"
          ],
          [
           "61b4a294-d61c-4fd6-9730-55e260ea571d",
           "Auto",
           "West"
          ],
          [
           "631083b3-1edc-4d9d-94fc-85560ed02ab5",
           "Commercial",
           "South"
          ],
          [
           "9a9ae9b5-9b9a-4dde-930b-82d255b422d7",
           "Health",
           "South"
          ],
          [
           "3e7b97d2-0f44-4c73-abd3-8689202771cf",
           "Auto",
           "West"
          ],
          [
           "4459f5a9-c939-4f6c-bc89-17a593f71fbb",
           "Commercial",
           "West"
          ],
          [
           "651fa53e-13c9-4de4-91da-cdda26bab298",
           "Auto",
           "North"
          ],
          [
           "8a120b88-cfe9-475c-a03e-c330ddbbe51c",
           "Health",
           "South"
          ],
          [
           "2791ec2d-066f-4680-b57d-f4e0a256547f",
           "Commercial",
           "South"
          ],
          [
           "de7fd1fa-ca48-4cf5-a2b1-1f9146a010b4",
           "Auto",
           "West"
          ],
          [
           "8fd2d6fb-371d-4596-8ee7-e85c48919b30",
           "Health",
           "East"
          ],
          [
           "07f49ff5-893f-40df-b8fd-8ca7186f830b",
           "Auto",
           "South"
          ],
          [
           "78eddb10-e5bf-473f-8e7f-f8cb5d0e8ece",
           "Auto",
           "East"
          ],
          [
           "0bd9c892-f331-44ee-9aad-108aea5c27a4",
           "Home",
           "West"
          ],
          [
           "7e78dc97-d311-484e-9c4d-8c91f9ae028a",
           "Home",
           "West"
          ],
          [
           "649720f3-b62c-4b0e-a426-6cba5c133203",
           "Health",
           "North"
          ],
          [
           "53143ca8-f47d-4913-a64d-944d13254ea6",
           "Home",
           "South"
          ],
          [
           "69596128-8030-46ea-8d03-5ef28ba752e2",
           "Health",
           "East"
          ],
          [
           "d4ae627a-89c7-4843-ae15-838ea506bc69",
           "Home",
           "North"
          ],
          [
           "cba338e5-5836-417c-814d-bad13aef1bf1",
           "Auto",
           "South"
          ],
          [
           "98f746af-00dd-4274-b5d9-e51fca88c208",
           "Health",
           "North"
          ],
          [
           "abcc9140-9f8d-4a4a-95aa-48becdaece77",
           "Health",
           "West"
          ],
          [
           "85838b0b-8cac-4fa0-aeef-dd34caad7698",
           "Auto",
           "South"
          ],
          [
           "8ab400b4-451e-43df-af26-1c9db9fd1af8",
           "Health",
           "North"
          ],
          [
           "97a6d5de-4873-4ae6-9727-26db32f5401f",
           "Health",
           "North"
          ],
          [
           "9a200ec5-c4fd-4e90-8c1a-9b9f322ac7ed",
           "Home",
           "East"
          ],
          [
           "a250e026-ffc0-4e88-9ae3-502f49dbd65c",
           "Health",
           "North"
          ],
          [
           "9a2e7fb1-a868-4d91-9e17-0ddf5fd57c93",
           "Commercial",
           "South"
          ],
          [
           "460a5f95-9119-4eda-802f-f399baa7f69e",
           "Auto",
           "South"
          ],
          [
           "18a97216-4986-4188-9d85-0764c037f265",
           "Home",
           "East"
          ],
          [
           "5f6c5505-dc86-4cf8-a87a-6463d2141646",
           "Home",
           "South"
          ],
          [
           "8fb756e3-1b43-4cb8-9610-6ac6af5b2134",
           "Commercial",
           "West"
          ],
          [
           "3837877f-4747-4a34-87ce-e24496c038d2",
           "Auto",
           "South"
          ],
          [
           "da439ee5-4fe8-4071-9948-f4356a7c40ab",
           "Auto",
           "South"
          ],
          [
           "ed9ab798-b61c-4944-802f-2db0702689cd",
           "Home",
           "North"
          ],
          [
           "168d677a-e47b-4dd3-8858-0b8ff06ce632",
           "Health",
           "North"
          ],
          [
           "ab5c227f-277c-4eed-884d-24044cd8708a",
           "Home",
           "South"
          ],
          [
           "c91a69d2-a71e-49f1-b73a-e1c1ac28de21",
           "Auto",
           "East"
          ],
          [
           "cca283c0-7e1d-4122-8f2a-99b1db59d438",
           "Commercial",
           "North"
          ],
          [
           "9fa54ffd-4270-4a21-949e-e1de91512790",
           "Home",
           "East"
          ],
          [
           "5cb1fd88-2a94-40cb-8108-afc0eef56a86",
           "Auto",
           "South"
          ],
          [
           "dc45311d-d5fd-4dfd-8ede-30420e3ea19e",
           "Home",
           "South"
          ],
          [
           "89bd9115-7670-407b-8e99-6b3044cfba26",
           "Health",
           "West"
          ],
          [
           "f91d3b7c-66c2-4a6c-83d5-e17430d225e2",
           "Home",
           "North"
          ],
          [
           "e132c766-32e0-4db9-95ec-3976559e58af",
           "Home",
           "South"
          ],
          [
           "be9d3930-8e34-4db6-8797-3d66edfc17c3",
           "Auto",
           "West"
          ],
          [
           "7d11ca73-b714-4a55-8771-65357f9d8858",
           "Auto",
           "North"
          ],
          [
           "9f2368a3-767b-4e05-8c39-e067f42dac72",
           "Auto",
           "South"
          ],
          [
           "0e17d6b3-0f0b-4636-9fea-d291c798ecc8",
           "Home",
           "South"
          ],
          [
           "462a95a9-0d6d-4694-a235-3b2ea4001fd5",
           "Health",
           "North"
          ],
          [
           "b0ad567e-5400-4126-85d4-fc4f638ffb02",
           "Commercial",
           "North"
          ],
          [
           "52a29422-cbf3-4de8-be66-730bbbd12544",
           "Commercial",
           "North"
          ],
          [
           "fbe4464a-d35b-45c1-927f-e1b6b62b2388",
           "Auto",
           "South"
          ],
          [
           "da4bb644-057b-46a5-89ca-b3eeb9cfb10d",
           "Auto",
           "South"
          ],
          [
           "7febd0f6-052f-45cf-968c-7e3fdebd2a13",
           "Home",
           "West"
          ],
          [
           "1f938732-e22a-40b4-b930-6ef47c0fe798",
           "Commercial",
           "East"
          ],
          [
           "59d355dc-9a8d-4439-a3e4-633ad6ff3938",
           "Auto",
           "North"
          ],
          [
           "7427273e-8ab8-46a5-9d48-fa46b1ae6995",
           "Health",
           "South"
          ],
          [
           "7ae23ddd-e157-4517-a24d-5e7bcfae056b",
           "Health",
           "South"
          ],
          [
           "8afaa90c-6d00-4270-97a5-22ebcb643e0e",
           "Auto",
           "North"
          ],
          [
           "6bcbe403-9948-4888-9c37-1950ba36b2f0",
           "Auto",
           "East"
          ],
          [
           "061d31b4-3e15-4fa5-a8f3-382d0bd7bfc9",
           "Commercial",
           "North"
          ],
          [
           "7f294a12-379f-4e42-8b82-e04d3811f1f2",
           "Commercial",
           "East"
          ],
          [
           "36746465-6a51-4d96-8402-d3908c743915",
           "Home",
           "South"
          ],
          [
           "25ba611a-e287-432b-ad10-8d92290c0eee",
           "Commercial",
           "East"
          ],
          [
           "f29031bc-d210-4f32-a1e1-ba86a1dbe387",
           "Health",
           "West"
          ],
          [
           "b9ce175b-7936-49de-bf82-b8574bd74dd9",
           "Health",
           "South"
          ],
          [
           "19aeae90-4771-417b-86df-24a10dca8f19",
           "Auto",
           "West"
          ],
          [
           "0b1e214d-3d85-4947-bac9-ce0c5d2da121",
           "Commercial",
           "North"
          ],
          [
           "dcd23977-357b-4a5e-956c-705f1ae923d9",
           "Home",
           "North"
          ],
          [
           "70fcee19-6d03-4f37-acd8-066621291a33",
           "Health",
           "North"
          ],
          [
           "97dfbd89-b0cb-4a54-8e55-dd7e550d06af",
           "Health",
           "East"
          ],
          [
           "d3576a9a-eacc-45b7-8436-07b6b9311194",
           "Home",
           "South"
          ],
          [
           "6c51e188-a901-45c9-83c1-391d90a1680e",
           "Home",
           "North"
          ],
          [
           "069a255f-7077-47df-aec0-569d6c792141",
           "Health",
           "North"
          ],
          [
           "f71a3049-26bd-4eba-9d4b-aa55bc370179",
           "Health",
           "South"
          ],
          [
           "93f8ec21-b4f1-431f-8bc3-66215a175ddd",
           "Home",
           "North"
          ],
          [
           "88841588-1b80-4185-b3fd-173b2707b93c",
           "Health",
           "West"
          ],
          [
           "bf0ee0f2-cb95-4a5c-a235-4201559a6d62",
           "Auto",
           "South"
          ],
          [
           "efb35342-a8c8-42ab-85bc-06650e2bb878",
           "Auto",
           "South"
          ],
          [
           "e851a6a2-eb05-44c0-b6e6-916f7ae72026",
           "Home",
           "South"
          ],
          [
           "0f590f3c-2e7c-4f5f-8160-ea1d0dbc2da9",
           "Commercial",
           "West"
          ],
          [
           "0eefb4a9-83a4-449b-8bb6-25e0133680fb",
           "Home",
           "South"
          ],
          [
           "13c45563-50a0-463f-97fb-292d13ff90f3",
           "Home",
           "West"
          ],
          [
           "e8e38f1a-df10-41c5-9112-e8b7c7c8eab5",
           "Commercial",
           "South"
          ],
          [
           "a5780f3e-c6ed-43da-b463-a6d85f6fffb7",
           "Commercial",
           "East"
          ],
          [
           "1bc23a13-c648-443e-99db-9b5a45e0edd1",
           "Commercial",
           "North"
          ],
          [
           "4eec8e5a-517d-4e04-9c46-6c930b1423e8",
           "Auto",
           "East"
          ],
          [
           "a34e6f31-5996-4c65-95ff-fbdeb814d6b7",
           "Health",
           "North"
          ],
          [
           "0d34856b-a691-4c88-a1c8-ad7a12f17a9d",
           "Auto",
           "West"
          ],
          [
           "ce4058b1-949e-47cc-b5d7-28954534fcb6",
           "Health",
           "East"
          ],
          [
           "e77b2230-fa14-491f-91b8-3e2b9ec3fbee",
           "Auto",
           "South"
          ],
          [
           "1308998d-1655-4488-b51a-4e6252a8202f",
           "Health",
           "North"
          ],
          [
           "aca65bf7-9110-4865-827b-69ddbe11fe5d",
           "Auto",
           "North"
          ],
          [
           "b3ea28a4-8bf4-4c94-a787-599a6ed7dd08",
           "Commercial",
           "East"
          ],
          [
           "17d988ec-57d6-4116-ae04-e23957de5ec7",
           "Home",
           "West"
          ],
          [
           "d014c24d-1076-4753-98d7-cdc1d2ad16ac",
           "Auto",
           "East"
          ],
          [
           "7dd714f5-71b2-4679-abfe-0527e75e0ab7",
           "Health",
           "West"
          ],
          [
           "d9d50ab4-efde-47b3-8ef7-c4a6c064ac0c",
           "Commercial",
           "West"
          ],
          [
           "516b68fa-5195-421a-b1c5-42b59b708982",
           "Auto",
           "North"
          ],
          [
           "4ba3989e-d605-460c-81f5-2771f17c3f0a",
           "Auto",
           "East"
          ],
          [
           "d73e5e8e-bd79-4b43-b74a-61c4c09adad9",
           "Commercial",
           "East"
          ],
          [
           "1c7e6f5d-0185-4330-b96a-5ebe72894092",
           "Auto",
           "West"
          ],
          [
           "d863c714-ed6b-4647-acc5-ab0e26af00ed",
           "Home",
           "East"
          ],
          [
           "e66e9155-3d93-476f-b667-58c3e7e7ce9c",
           "Auto",
           "South"
          ],
          [
           "5d203fa7-2914-4f46-ba7b-ebe07d512653",
           "Home",
           "South"
          ],
          [
           "bf221442-4ed9-40e1-bfc2-22225244ab04",
           "Home",
           "East"
          ],
          [
           "979710da-a5fb-44c8-a276-5effca6ca35a",
           "Commercial",
           "East"
          ],
          [
           "0691cda9-3e51-4cb2-a28a-632dd8496f74",
           "Auto",
           "West"
          ],
          [
           "e4c2f691-c864-468f-be1d-e2d1e4c1d306",
           "Commercial",
           "South"
          ],
          [
           "7193a853-2cf8-4823-9431-4b470698844b",
           "Auto",
           "South"
          ],
          [
           "7ad20814-6a9a-4107-b6de-91fd8338e8a7",
           "Auto",
           "North"
          ],
          [
           "943ae39e-83ca-4ca7-b617-941616616088",
           "Health",
           "West"
          ],
          [
           "a20373ae-363d-4253-a59a-c8bddd57b72d",
           "Auto",
           "North"
          ],
          [
           "1cd3e6eb-c64f-4c1b-b812-52ec934ec374",
           "Commercial",
           "South"
          ],
          [
           "1016edc6-d9ec-485d-9318-9bace3401804",
           "Home",
           "West"
          ],
          [
           "d8617f59-dafb-4ba2-a293-7c1e3e84e1c0",
           "Auto",
           "East"
          ],
          [
           "cebeee48-f5b1-44e7-ae6e-37b5ff1f971c",
           "Health",
           "West"
          ],
          [
           "79e70c5f-64a4-4ecf-8766-b81ab733da0c",
           "Commercial",
           "East"
          ],
          [
           "7ccd68ee-c1cc-4737-a541-27ffafbfca34",
           "Auto",
           "East"
          ],
          [
           "a9733947-c753-44fe-b093-9d8a1be001bb",
           "Commercial",
           "West"
          ],
          [
           "c9852c95-8689-4f2c-8533-353c7a017873",
           "Health",
           "East"
          ],
          [
           "0237e3ea-1a66-4599-818f-1760b876c1c7",
           "Health",
           "North"
          ],
          [
           "39a779b4-f78f-493e-843e-4331282643b3",
           "Commercial",
           "South"
          ],
          [
           "5ad75f00-1a73-4906-a94b-630ee26ce0b3",
           "Auto",
           "East"
          ],
          [
           "8f38ff93-e923-4d7a-bbb7-8abaae979db4",
           "Home",
           "North"
          ],
          [
           "9e8ac33b-eafc-416c-a581-705d017c81bd",
           "Health",
           "East"
          ],
          [
           "edfd0a1c-e21b-4cc8-bdcf-57fd6a2a8c2e",
           "Auto",
           "South"
          ],
          [
           "e251318f-6231-49e7-8d2e-ff0dea4cf96c",
           "Auto",
           "North"
          ],
          [
           "550a866e-7d80-4ff1-a41d-89df1da80fa2",
           "Home",
           "South"
          ],
          [
           "e0d31fe4-70b9-483f-85f8-b70eec5885c6",
           "Health",
           "South"
          ],
          [
           "d8b3d3f8-3b9b-4a0a-9d12-170dc330bc5c",
           "Health",
           "North"
          ],
          [
           "4ca4d896-14da-4e72-b47c-8ceeaacb97c8",
           "Auto",
           "North"
          ],
          [
           "a772d374-d2f4-4a72-b030-2c2a9670702a",
           "Auto",
           "North"
          ],
          [
           "5967f39d-2a70-41f2-ab8d-98beaab9ef48",
           "Home",
           "West"
          ],
          [
           "a28c34ba-410c-4a0a-a339-14b2ea532ceb",
           "Home",
           "North"
          ],
          [
           "f40b423f-8f97-4378-8603-6716f8045934",
           "Health",
           "North"
          ],
          [
           "0b49e669-e55c-4bc4-8993-1a4d6fc6c9cd",
           "Commercial",
           "North"
          ],
          [
           "832aa61a-d978-445b-92ab-e9195e9fe5cb",
           "Health",
           "North"
          ],
          [
           "0fd7baef-e684-4b47-901c-b38a4ce8eae7",
           "Auto",
           "East"
          ],
          [
           "2ef39bae-74c3-4600-8c8f-167efae19fe6",
           "Health",
           "West"
          ],
          [
           "cd8ba4e0-b2bd-4d3a-af3c-bfd7c41c6fe7",
           "Commercial",
           "South"
          ],
          [
           "1e9b029d-48ba-40ea-bcef-ce063b8fd4b7",
           "Home",
           "North"
          ],
          [
           "cd2155e1-8e1d-41a4-8fad-de74edcf2076",
           "Commercial",
           "East"
          ],
          [
           "5dbf2c0e-22ab-40de-b36c-cdd5116e5b63",
           "Commercial",
           "East"
          ],
          [
           "6235f222-f0fa-4663-afaa-f3d9008091cd",
           "Commercial",
           "East"
          ],
          [
           "099bb85e-713f-460a-8c5e-2d4d80114221",
           "Home",
           "South"
          ],
          [
           "09ed6062-f86a-4c82-ba39-bda454b34070",
           "Commercial",
           "North"
          ],
          [
           "6919bfc6-1893-4501-8409-b9c8cbc692d4",
           "Commercial",
           "West"
          ],
          [
           "a2ef3dca-4549-46c3-8188-440a1d779dcb",
           "Commercial",
           "West"
          ],
          [
           "e450a949-e996-4a36-be05-e98da9a645d3",
           "Auto",
           "East"
          ],
          [
           "7da4b1ce-d9ad-4ccf-b352-7b68448d36ba",
           "Commercial",
           "South"
          ],
          [
           "75d9f0d8-2de3-457b-8c9c-9b5b078fe3c1",
           "Home",
           "South"
          ],
          [
           "cc4d0dea-98b3-47ba-8e61-3654110934a7",
           "Commercial",
           "South"
          ],
          [
           "4e69de4f-6370-41d5-9afc-6d89978e364a",
           "Commercial",
           "West"
          ],
          [
           "11d05806-0339-491e-871b-b3344bc43d4c",
           "Home",
           "East"
          ],
          [
           "28be804e-9933-451a-8f9c-9a996d718703",
           "Commercial",
           "North"
          ],
          [
           "7bad6ae5-d418-48cd-a459-42f491290c73",
           "Home",
           "West"
          ],
          [
           "933262a1-73bd-4656-a1b0-7d7f8816e8c0",
           "Commercial",
           "East"
          ],
          [
           "82764ee6-eece-4701-905b-80d016f69f8e",
           "Home",
           "East"
          ],
          [
           "fe863931-caaa-4382-8dbb-1e6c0c969bf2",
           "Commercial",
           "North"
          ],
          [
           "ceca94ab-0319-4b42-9d94-10415403ead7",
           "Commercial",
           "North"
          ],
          [
           "7b5d2663-2a21-43fd-8de5-c2815e1b55b9",
           "Auto",
           "North"
          ],
          [
           "bf1975e7-b812-4974-b63d-5d263191816a",
           "Auto",
           "South"
          ],
          [
           "6ba5d21d-e16c-47cf-83c6-dc471de90be3",
           "Commercial",
           "North"
          ],
          [
           "ab4d4a9b-5a96-40c3-a9eb-3edd53da620f",
           "Commercial",
           "East"
          ],
          [
           "7b6a272a-7cdb-4a9a-a481-9d54ccfe46b9",
           "Health",
           "North"
          ]
         ],
         "hovertemplate": "coverage_amount=%{x}<br>risk_score=%{y}<br>policy_id=%{customdata[0]}<br>policy_type=%{customdata[1]}<br>region=%{customdata[2]}<br>risk_cluster=%{marker.color}<extra></extra>",
         "legendgroup": "",
         "marker": {
          "color": {
           "_inputArray": {
            "0": 0,
            "1": 0,
            "10": 2,
            "100": 2,
            "101": 1,
            "102": 0,
            "103": 1,
            "104": 1,
            "105": 2,
            "106": 0,
            "107": 1,
            "108": 1,
            "109": 2,
            "11": 1,
            "110": 1,
            "111": 2,
            "112": 0,
            "113": 1,
            "114": 1,
            "115": 0,
            "116": 0,
            "117": 1,
            "118": 2,
            "119": 2,
            "12": 1,
            "120": 1,
            "121": 1,
            "122": 1,
            "123": 1,
            "124": 0,
            "125": 0,
            "126": 0,
            "127": 2,
            "128": 0,
            "129": 0,
            "13": 2,
            "130": 0,
            "131": 0,
            "132": 0,
            "133": 2,
            "134": 1,
            "135": 2,
            "136": 0,
            "137": 0,
            "138": 0,
            "139": 1,
            "14": 0,
            "140": 1,
            "141": 0,
            "142": 0,
            "143": 0,
            "144": 2,
            "145": 1,
            "146": 0,
            "147": 0,
            "148": 0,
            "149": 1,
            "15": 1,
            "150": 0,
            "151": 1,
            "152": 0,
            "153": 1,
            "154": 1,
            "155": 0,
            "156": 0,
            "157": 1,
            "158": 0,
            "159": 2,
            "16": 0,
            "160": 1,
            "161": 2,
            "162": 2,
            "163": 1,
            "164": 2,
            "165": 1,
            "166": 0,
            "167": 2,
            "168": 0,
            "169": 2,
            "17": 1,
            "170": 0,
            "171": 1,
            "172": 1,
            "173": 2,
            "174": 1,
            "175": 1,
            "176": 0,
            "177": 0,
            "178": 0,
            "179": 0,
            "18": 1,
            "180": 1,
            "181": 2,
            "182": 1,
            "183": 1,
            "184": 2,
            "185": 1,
            "186": 1,
            "187": 2,
            "188": 0,
            "189": 0,
            "19": 0,
            "190": 2,
            "191": 0,
            "192": 0,
            "193": 1,
            "194": 2,
            "195": 1,
            "196": 0,
            "197": 0,
            "198": 1,
            "199": 2,
            "2": 1,
            "20": 1,
            "200": 1,
            "201": 2,
            "202": 2,
            "203": 0,
            "204": 0,
            "205": 0,
            "206": 0,
            "207": 0,
            "208": 2,
            "209": 1,
            "21": 2,
            "210": 2,
            "211": 0,
            "212": 2,
            "213": 0,
            "214": 1,
            "215": 2,
            "216": 2,
            "217": 1,
            "218": 0,
            "219": 0,
            "22": 1,
            "220": 1,
            "221": 2,
            "222": 2,
            "223": 1,
            "224": 2,
            "225": 0,
            "226": 2,
            "227": 2,
            "228": 1,
            "229": 2,
            "23": 1,
            "230": 1,
            "231": 0,
            "232": 2,
            "233": 2,
            "234": 1,
            "235": 2,
            "236": 1,
            "237": 0,
            "238": 1,
            "239": 2,
            "24": 1,
            "240": 1,
            "241": 1,
            "242": 1,
            "243": 0,
            "244": 0,
            "245": 1,
            "246": 2,
            "247": 2,
            "248": 0,
            "249": 0,
            "25": 2,
            "250": 1,
            "251": 2,
            "252": 2,
            "253": 2,
            "254": 1,
            "255": 2,
            "256": 0,
            "257": 2,
            "258": 2,
            "259": 0,
            "26": 0,
            "260": 2,
            "261": 1,
            "262": 2,
            "263": 2,
            "264": 0,
            "265": 2,
            "266": 2,
            "267": 0,
            "268": 0,
            "269": 0,
            "27": 1,
            "270": 1,
            "271": 1,
            "272": 0,
            "273": 2,
            "274": 0,
            "275": 0,
            "276": 0,
            "277": 1,
            "278": 2,
            "279": 0,
            "28": 0,
            "280": 1,
            "281": 1,
            "282": 0,
            "283": 0,
            "284": 2,
            "285": 2,
            "286": 2,
            "287": 0,
            "288": 0,
            "289": 2,
            "29": 1,
            "290": 2,
            "291": 0,
            "292": 1,
            "293": 1,
            "294": 0,
            "295": 2,
            "296": 0,
            "297": 2,
            "298": 1,
            "299": 0,
            "3": 0,
            "30": 2,
            "300": 2,
            "301": 0,
            "302": 2,
            "303": 1,
            "304": 1,
            "305": 1,
            "306": 1,
            "307": 1,
            "308": 2,
            "309": 1,
            "31": 1,
            "310": 0,
            "311": 1,
            "312": 0,
            "313": 1,
            "314": 2,
            "315": 0,
            "316": 1,
            "317": 1,
            "318": 0,
            "319": 0,
            "32": 0,
            "320": 2,
            "321": 2,
            "322": 0,
            "323": 2,
            "324": 0,
            "325": 0,
            "326": 0,
            "327": 1,
            "328": 1,
            "329": 0,
            "33": 2,
            "330": 0,
            "331": 0,
            "332": 2,
            "333": 1,
            "334": 0,
            "335": 0,
            "336": 0,
            "337": 0,
            "338": 2,
            "339": 2,
            "34": 2,
            "340": 0,
            "341": 0,
            "342": 1,
            "343": 1,
            "344": 1,
            "345": 0,
            "346": 2,
            "347": 2,
            "348": 1,
            "349": 2,
            "35": 1,
            "350": 1,
            "351": 1,
            "352": 0,
            "353": 1,
            "354": 2,
            "355": 1,
            "356": 1,
            "357": 2,
            "358": 0,
            "359": 0,
            "36": 2,
            "360": 0,
            "361": 2,
            "362": 0,
            "363": 1,
            "364": 0,
            "365": 2,
            "366": 1,
            "367": 1,
            "368": 2,
            "369": 0,
            "37": 0,
            "370": 1,
            "371": 2,
            "372": 1,
            "373": 0,
            "374": 0,
            "375": 0,
            "376": 0,
            "377": 1,
            "378": 2,
            "379": 0,
            "38": 2,
            "380": 2,
            "381": 2,
            "382": 1,
            "383": 2,
            "384": 1,
            "385": 0,
            "386": 1,
            "387": 2,
            "388": 1,
            "389": 0,
            "39": 2,
            "390": 2,
            "391": 0,
            "392": 0,
            "393": 1,
            "394": 0,
            "395": 0,
            "396": 0,
            "397": 0,
            "398": 1,
            "399": 1,
            "4": 1,
            "40": 1,
            "400": 2,
            "401": 2,
            "402": 0,
            "403": 1,
            "404": 0,
            "405": 0,
            "406": 0,
            "407": 0,
            "408": 1,
            "409": 1,
            "41": 0,
            "410": 2,
            "411": 2,
            "412": 2,
            "413": 2,
            "414": 0,
            "415": 1,
            "416": 2,
            "417": 0,
            "418": 2,
            "419": 1,
            "42": 2,
            "420": 0,
            "421": 0,
            "422": 0,
            "423": 2,
            "424": 0,
            "425": 1,
            "426": 2,
            "427": 1,
            "428": 0,
            "429": 1,
            "43": 1,
            "430": 0,
            "431": 0,
            "432": 0,
            "433": 1,
            "434": 0,
            "435": 2,
            "436": 2,
            "437": 1,
            "438": 0,
            "439": 0,
            "44": 0,
            "440": 1,
            "441": 2,
            "442": 1,
            "443": 0,
            "444": 0,
            "445": 0,
            "446": 0,
            "447": 0,
            "448": 1,
            "449": 1,
            "45": 0,
            "450": 1,
            "451": 0,
            "452": 1,
            "453": 1,
            "454": 0,
            "455": 1,
            "456": 1,
            "457": 0,
            "458": 0,
            "459": 0,
            "46": 2,
            "460": 2,
            "461": 1,
            "462": 2,
            "463": 0,
            "464": 1,
            "465": 0,
            "466": 1,
            "467": 0,
            "468": 0,
            "469": 1,
            "47": 2,
            "470": 1,
            "471": 0,
            "472": 1,
            "473": 0,
            "474": 0,
            "475": 0,
            "476": 0,
            "477": 1,
            "478": 1,
            "479": 2,
            "48": 1,
            "480": 1,
            "481": 2,
            "482": 1,
            "483": 0,
            "484": 0,
            "485": 0,
            "486": 2,
            "487": 1,
            "488": 2,
            "489": 2,
            "49": 2,
            "490": 2,
            "491": 0,
            "492": 0,
            "493": 0,
            "494": 0,
            "495": 1,
            "496": 0,
            "497": 0,
            "498": 2,
            "499": 0,
            "5": 0,
            "50": 1,
            "500": 1,
            "501": 0,
            "502": 0,
            "503": 2,
            "504": 0,
            "505": 0,
            "506": 0,
            "507": 1,
            "508": 0,
            "509": 1,
            "51": 1,
            "510": 1,
            "511": 1,
            "512": 0,
            "513": 0,
            "514": 0,
            "515": 0,
            "516": 1,
            "517": 1,
            "518": 2,
            "519": 1,
            "52": 1,
            "520": 2,
            "521": 1,
            "522": 2,
            "523": 2,
            "524": 2,
            "525": 2,
            "526": 0,
            "527": 0,
            "528": 0,
            "529": 1,
            "53": 1,
            "530": 2,
            "531": 0,
            "532": 1,
            "533": 2,
            "534": 2,
            "535": 2,
            "536": 2,
            "537": 1,
            "538": 0,
            "539": 1,
            "54": 1,
            "540": 1,
            "541": 0,
            "542": 1,
            "543": 2,
            "544": 0,
            "545": 2,
            "546": 1,
            "547": 1,
            "548": 2,
            "549": 0,
            "55": 0,
            "550": 0,
            "551": 1,
            "552": 1,
            "553": 1,
            "554": 2,
            "555": 0,
            "556": 1,
            "557": 2,
            "558": 1,
            "559": 1,
            "56": 1,
            "560": 2,
            "561": 0,
            "562": 1,
            "563": 2,
            "564": 1,
            "565": 0,
            "566": 1,
            "567": 0,
            "568": 0,
            "569": 0,
            "57": 2,
            "570": 1,
            "571": 2,
            "572": 0,
            "573": 0,
            "574": 0,
            "575": 2,
            "576": 2,
            "577": 1,
            "578": 0,
            "579": 1,
            "58": 2,
            "580": 2,
            "581": 0,
            "582": 1,
            "583": 0,
            "584": 1,
            "585": 2,
            "586": 1,
            "587": 0,
            "588": 2,
            "589": 1,
            "59": 0,
            "590": 0,
            "591": 1,
            "592": 2,
            "593": 2,
            "594": 1,
            "595": 0,
            "596": 2,
            "597": 2,
            "598": 2,
            "599": 1,
            "6": 0,
            "60": 1,
            "600": 2,
            "601": 0,
            "602": 2,
            "603": 2,
            "604": 2,
            "605": 1,
            "606": 0,
            "607": 1,
            "608": 0,
            "609": 0,
            "61": 1,
            "610": 1,
            "611": 1,
            "612": 1,
            "613": 0,
            "614": 2,
            "615": 1,
            "616": 1,
            "617": 0,
            "618": 0,
            "619": 1,
            "62": 1,
            "620": 0,
            "621": 2,
            "622": 1,
            "623": 0,
            "624": 2,
            "625": 1,
            "626": 2,
            "627": 0,
            "628": 0,
            "629": 0,
            "63": 0,
            "630": 0,
            "631": 2,
            "632": 1,
            "633": 1,
            "634": 1,
            "635": 2,
            "636": 0,
            "637": 2,
            "638": 1,
            "639": 1,
            "64": 0,
            "640": 1,
            "641": 0,
            "642": 1,
            "643": 1,
            "644": 0,
            "645": 1,
            "646": 2,
            "647": 1,
            "648": 1,
            "649": 0,
            "65": 1,
            "650": 0,
            "651": 2,
            "652": 0,
            "653": 2,
            "654": 2,
            "655": 1,
            "656": 1,
            "657": 2,
            "658": 0,
            "659": 0,
            "66": 2,
            "660": 1,
            "661": 0,
            "662": 1,
            "663": 2,
            "664": 1,
            "665": 1,
            "666": 0,
            "667": 1,
            "668": 2,
            "669": 1,
            "67": 0,
            "670": 2,
            "671": 1,
            "672": 0,
            "673": 1,
            "674": 1,
            "675": 2,
            "676": 2,
            "677": 2,
            "678": 0,
            "679": 1,
            "68": 2,
            "680": 0,
            "681": 1,
            "682": 0,
            "683": 1,
            "684": 0,
            "685": 1,
            "686": 0,
            "687": 2,
            "688": 1,
            "689": 1,
            "69": 0,
            "690": 0,
            "691": 0,
            "692": 0,
            "693": 2,
            "694": 2,
            "695": 2,
            "696": 0,
            "697": 0,
            "698": 0,
            "699": 1,
            "7": 1,
            "70": 0,
            "700": 1,
            "701": 0,
            "702": 2,
            "703": 0,
            "704": 0,
            "705": 0,
            "706": 0,
            "707": 2,
            "708": 1,
            "709": 0,
            "71": 0,
            "710": 2,
            "711": 0,
            "712": 0,
            "713": 0,
            "714": 0,
            "715": 1,
            "716": 2,
            "717": 1,
            "718": 1,
            "719": 2,
            "72": 2,
            "720": 2,
            "721": 0,
            "722": 0,
            "723": 2,
            "724": 1,
            "725": 0,
            "726": 2,
            "727": 1,
            "728": 1,
            "729": 0,
            "73": 2,
            "730": 2,
            "731": 0,
            "732": 1,
            "733": 2,
            "734": 2,
            "735": 1,
            "736": 0,
            "737": 0,
            "738": 0,
            "739": 0,
            "74": 1,
            "740": 0,
            "741": 0,
            "742": 0,
            "743": 2,
            "744": 2,
            "745": 2,
            "746": 2,
            "747": 2,
            "748": 1,
            "749": 0,
            "75": 0,
            "750": 0,
            "751": 0,
            "752": 2,
            "753": 0,
            "754": 1,
            "755": 1,
            "756": 1,
            "757": 2,
            "758": 2,
            "759": 0,
            "76": 0,
            "760": 2,
            "761": 0,
            "762": 2,
            "763": 2,
            "764": 2,
            "765": 2,
            "766": 1,
            "767": 2,
            "768": 2,
            "769": 2,
            "77": 1,
            "770": 0,
            "771": 0,
            "772": 1,
            "773": 1,
            "774": 0,
            "775": 0,
            "776": 0,
            "777": 0,
            "778": 0,
            "779": 0,
            "78": 2,
            "780": 2,
            "781": 1,
            "782": 2,
            "783": 0,
            "784": 0,
            "785": 1,
            "786": 0,
            "787": 1,
            "788": 2,
            "789": 0,
            "79": 0,
            "790": 2,
            "791": 1,
            "792": 0,
            "793": 0,
            "794": 2,
            "795": 2,
            "796": 1,
            "797": 2,
            "798": 2,
            "799": 2,
            "8": 0,
            "80": 0,
            "800": 1,
            "801": 0,
            "802": 0,
            "803": 0,
            "804": 2,
            "805": 0,
            "806": 1,
            "807": 2,
            "808": 2,
            "809": 2,
            "81": 0,
            "810": 0,
            "811": 1,
            "812": 2,
            "813": 2,
            "814": 2,
            "815": 1,
            "816": 2,
            "817": 0,
            "818": 0,
            "819": 2,
            "82": 2,
            "820": 2,
            "821": 2,
            "822": 0,
            "823": 1,
            "824": 1,
            "825": 1,
            "826": 2,
            "827": 1,
            "828": 0,
            "829": 2,
            "83": 1,
            "830": 1,
            "831": 0,
            "832": 0,
            "833": 1,
            "834": 1,
            "835": 1,
            "836": 0,
            "837": 2,
            "838": 0,
            "839": 0,
            "84": 1,
            "840": 0,
            "841": 2,
            "842": 2,
            "843": 1,
            "844": 1,
            "845": 0,
            "846": 0,
            "847": 2,
            "848": 0,
            "849": 1,
            "85": 0,
            "850": 2,
            "851": 1,
            "852": 1,
            "853": 0,
            "854": 1,
            "855": 2,
            "856": 1,
            "857": 0,
            "858": 1,
            "859": 0,
            "86": 1,
            "860": 0,
            "861": 0,
            "862": 2,
            "863": 1,
            "864": 1,
            "865": 1,
            "866": 2,
            "867": 0,
            "868": 0,
            "869": 1,
            "87": 2,
            "870": 1,
            "871": 2,
            "872": 2,
            "873": 0,
            "874": 1,
            "875": 1,
            "876": 1,
            "877": 0,
            "878": 2,
            "879": 1,
            "88": 1,
            "880": 1,
            "881": 0,
            "882": 0,
            "883": 1,
            "884": 0,
            "885": 0,
            "886": 0,
            "887": 0,
            "888": 0,
            "889": 1,
            "89": 2,
            "890": 0,
            "891": 0,
            "892": 0,
            "893": 2,
            "894": 0,
            "895": 0,
            "896": 1,
            "897": 0,
            "898": 0,
            "899": 0,
            "9": 2,
            "90": 1,
            "900": 1,
            "901": 2,
            "902": 0,
            "903": 2,
            "904": 0,
            "905": 2,
            "906": 1,
            "907": 2,
            "908": 0,
            "909": 2,
            "91": 0,
            "910": 2,
            "911": 1,
            "912": 1,
            "913": 0,
            "914": 0,
            "915": 1,
            "916": 0,
            "917": 1,
            "918": 0,
            "919": 0,
            "92": 1,
            "920": 0,
            "921": 2,
            "922": 0,
            "923": 2,
            "924": 0,
            "925": 2,
            "926": 0,
            "927": 0,
            "928": 0,
            "929": 2,
            "93": 0,
            "930": 0,
            "931": 1,
            "932": 0,
            "933": 1,
            "934": 1,
            "935": 1,
            "936": 2,
            "937": 1,
            "938": 2,
            "939": 2,
            "94": 2,
            "940": 0,
            "941": 0,
            "942": 1,
            "943": 1,
            "944": 1,
            "945": 2,
            "946": 0,
            "947": 2,
            "948": 2,
            "949": 2,
            "95": 0,
            "950": 2,
            "951": 0,
            "952": 0,
            "953": 1,
            "954": 1,
            "955": 0,
            "956": 0,
            "957": 2,
            "958": 1,
            "959": 1,
            "96": 0,
            "960": 2,
            "961": 2,
            "962": 1,
            "963": 0,
            "964": 1,
            "965": 0,
            "966": 2,
            "967": 2,
            "968": 0,
            "969": 2,
            "97": 2,
            "970": 0,
            "971": 1,
            "972": 2,
            "973": 0,
            "974": 2,
            "975": 0,
            "976": 2,
            "977": 0,
            "978": 1,
            "979": 1,
            "98": 1,
            "980": 0,
            "981": 0,
            "982": 2,
            "983": 2,
            "984": 0,
            "985": 0,
            "986": 1,
            "987": 1,
            "988": 2,
            "989": 0,
            "99": 2,
            "990": 1,
            "991": 2,
            "992": 0,
            "993": 2,
            "994": 1,
            "995": 1,
            "996": 1,
            "997": 2,
            "998": 2,
            "999": 2,
            "bdata": "AAAAAAAAAAABAAAAAAAAAAEAAAAAAAAAAAAAAAEAAAAAAAAAAgAAAAIAAAABAAAAAQAAAAIAAAAAAAAAAQAAAAAAAAABAAAAAQAAAAAAAAABAAAAAgAAAAEAAAABAAAAAQAAAAIAAAAAAAAAAQAAAAAAAAABAAAAAgAAAAEAAAAAAAAAAgAAAAIAAAABAAAAAgAAAAAAAAACAAAAAgAAAAEAAAAAAAAAAgAAAAEAAAAAAAAAAAAAAAIAAAACAAAAAQAAAAIAAAABAAAAAQAAAAEAAAABAAAAAQAAAAAAAAABAAAAAgAAAAIAAAAAAAAAAQAAAAEAAAABAAAAAAAAAAAAAAABAAAAAgAAAAAAAAACAAAAAAAAAAAAAAAAAAAAAgAAAAIAAAABAAAAAAAAAAAAAAABAAAAAgAAAAAAAAAAAAAAAAAAAAIAAAABAAAAAQAAAAAAAAABAAAAAgAAAAEAAAACAAAAAQAAAAAAAAABAAAAAAAAAAIAAAAAAAAAAAAAAAIAAAABAAAAAgAAAAIAAAABAAAAAAAAAAEAAAABAAAAAgAAAAAAAAABAAAAAQAAAAIAAAABAAAAAgAAAAAAAAABAAAAAQAAAAAAAAAAAAAAAQAAAAIAAAACAAAAAQAAAAEAAAABAAAAAQAAAAAAAAAAAAAAAAAAAAIAAAAAAAAAAAAAAAAAAAAAAAAAAAAAAAIAAAABAAAAAgAAAAAAAAAAAAAAAAAAAAEAAAABAAAAAAAAAAAAAAAAAAAAAgAAAAEAAAAAAAAAAAAAAAAAAAABAAAAAAAAAAEAAAAAAAAAAQAAAAEAAAAAAAAAAAAAAAEAAAAAAAAAAgAAAAEAAAACAAAAAgAAAAEAAAACAAAAAQAAAAAAAAACAAAAAAAAAAIAAAAAAAAAAQAAAAEAAAACAAAAAQAAAAEAAAAAAAAAAAAAAAAAAAAAAAAAAQAAAAIAAAABAAAAAQAAAAIAAAABAAAAAQAAAAIAAAAAAAAAAAAAAAIAAAAAAAAAAAAAAAEAAAACAAAAAQAAAAAAAAAAAAAAAQAAAAIAAAABAAAAAgAAAAIAAAAAAAAAAAAAAAAAAAAAAAAAAAAAAAIAAAABAAAAAgAAAAAAAAACAAAAAAAAAAEAAAACAAAAAgAAAAEAAAAAAAAAAAAAAAEAAAACAAAAAgAAAAEAAAACAAAAAAAAAAIAAAACAAAAAQAAAAIAAAABAAAAAAAAAAIAAAACAAAAAQAAAAIAAAABAAAAAAAAAAEAAAACAAAAAQAAAAEAAAABAAAAAAAAAAAAAAABAAAAAgAAAAIAAAAAAAAAAAAAAAEAAAACAAAAAgAAAAIAAAABAAAAAgAAAAAAAAACAAAAAgAAAAAAAAACAAAAAQAAAAIAAAACAAAAAAAAAAIAAAACAAAAAAAAAAAAAAAAAAAAAQAAAAEAAAAAAAAAAgAAAAAAAAAAAAAAAAAAAAEAAAACAAAAAAAAAAEAAAABAAAAAAAAAAAAAAACAAAAAgAAAAIAAAAAAAAAAAAAAAIAAAACAAAAAAAAAAEAAAABAAAAAAAAAAIAAAAAAAAAAgAAAAEAAAAAAAAAAgAAAAAAAAACAAAAAQAAAAEAAAABAAAAAQAAAAEAAAACAAAAAQAAAAAAAAABAAAAAAAAAAEAAAACAAAAAAAAAAEAAAABAAAAAAAAAAAAAAACAAAAAgAAAAAAAAACAAAAAAAAAAAAAAAAAAAAAQAAAAEAAAAAAAAAAAAAAAAAAAACAAAAAQAAAAAAAAAAAAAAAAAAAAAAAAACAAAAAgAAAAAAAAAAAAAAAQAAAAEAAAABAAAAAAAAAAIAAAACAAAAAQAAAAIAAAABAAAAAQAAAAAAAAABAAAAAgAAAAEAAAABAAAAAgAAAAAAAAAAAAAAAAAAAAIAAAAAAAAAAQAAAAAAAAACAAAAAQAAAAEAAAACAAAAAAAAAAEAAAACAAAAAQAAAAAAAAAAAAAAAAAAAAAAAAABAAAAAgAAAAAAAAACAAAAAgAAAAEAAAACAAAAAQAAAAAAAAABAAAAAgAAAAEAAAAAAAAAAgAAAAAAAAAAAAAAAQAAAAAAAAAAAAAAAAAAAAAAAAABAAAAAQAAAAIAAAACAAAAAAAAAAEAAAAAAAAAAAAAAAAAAAAAAAAAAQAAAAEAAAACAAAAAgAAAAIAAAACAAAAAAAAAAEAAAACAAAAAAAAAAIAAAABAAAAAAAAAAAAAAAAAAAAAgAAAAAAAAABAAAAAgAAAAEAAAAAAAAAAQAAAAAAAAAAAAAAAAAAAAEAAAAAAAAAAgAAAAIAAAABAAAAAAAAAAAAAAABAAAAAgAAAAEAAAAAAAAAAAAAAAAAAAAAAAAAAAAAAAEAAAABAAAAAQAAAAAAAAABAAAAAQAAAAAAAAABAAAAAQAAAAAAAAAAAAAAAAAAAAIAAAABAAAAAgAAAAAAAAABAAAAAAAAAAEAAAAAAAAAAAAAAAEAAAABAAAAAAAAAAEAAAAAAAAAAAAAAAAAAAAAAAAAAQAAAAEAAAACAAAAAQAAAAIAAAABAAAAAAAAAAAAAAAAAAAAAgAAAAEAAAACAAAAAgAAAAIAAAAAAAAAAAAAAAAAAAAAAAAAAQAAAAAAAAAAAAAAAgAAAAAAAAABAAAAAAAAAAAAAAACAAAAAAAAAAAAAAAAAAAAAQAAAAAAAAABAAAAAQAAAAEAAAAAAAAAAAAAAAAAAAAAAAAAAQAAAAEAAAACAAAAAQAAAAIAAAABAAAAAgAAAAIAAAACAAAAAgAAAAAAAAAAAAAAAAAAAAEAAAACAAAAAAAAAAEAAAACAAAAAgAAAAIAAAACAAAAAQAAAAAAAAABAAAAAQAAAAAAAAABAAAAAgAAAAAAAAACAAAAAQAAAAEAAAACAAAAAAAAAAAAAAABAAAAAQAAAAEAAAACAAAAAAAAAAEAAAACAAAAAQAAAAEAAAACAAAAAAAAAAEAAAACAAAAAQAAAAAAAAABAAAAAAAAAAAAAAAAAAAAAQAAAAIAAAAAAAAAAAAAAAAAAAACAAAAAgAAAAEAAAAAAAAAAQAAAAIAAAAAAAAAAQAAAAAAAAABAAAAAgAAAAEAAAAAAAAAAgAAAAEAAAAAAAAAAQAAAAIAAAACAAAAAQAAAAAAAAACAAAAAgAAAAIAAAABAAAAAgAAAAAAAAACAAAAAgAAAAIAAAABAAAAAAAAAAEAAAAAAAAAAAAAAAEAAAABAAAAAQAAAAAAAAACAAAAAQAAAAEAAAAAAAAAAAAAAAEAAAAAAAAAAgAAAAEAAAAAAAAAAgAAAAEAAAACAAAAAAAAAAAAAAAAAAAAAAAAAAIAAAABAAAAAQAAAAEAAAACAAAAAAAAAAIAAAABAAAAAQAAAAEAAAAAAAAAAQAAAAEAAAAAAAAAAQAAAAIAAAABAAAAAQAAAAAAAAAAAAAAAgAAAAAAAAACAAAAAgAAAAEAAAABAAAAAgAAAAAAAAAAAAAAAQAAAAAAAAABAAAAAgAAAAEAAAABAAAAAAAAAAEAAAACAAAAAQAAAAIAAAABAAAAAAAAAAEAAAABAAAAAgAAAAIAAAACAAAAAAAAAAEAAAAAAAAAAQAAAAAAAAABAAAAAAAAAAEAAAAAAAAAAgAAAAEAAAABAAAAAAAAAAAAAAAAAAAAAgAAAAIAAAACAAAAAAAAAAAAAAAAAAAAAQAAAAEAAAAAAAAAAgAAAAAAAAAAAAAAAAAAAAAAAAACAAAAAQAAAAAAAAACAAAAAAAAAAAAAAAAAAAAAAAAAAEAAAACAAAAAQAAAAEAAAACAAAAAgAAAAAAAAAAAAAAAgAAAAEAAAAAAAAAAgAAAAEAAAABAAAAAAAAAAIAAAAAAAAAAQAAAAIAAAACAAAAAQAAAAAAAAAAAAAAAAAAAAAAAAAAAAAAAAAAAAAAAAACAAAAAgAAAAIAAAACAAAAAgAAAAEAAAAAAAAAAAAAAAAAAAACAAAAAAAAAAEAAAABAAAAAQAAAAIAAAACAAAAAAAAAAIAAAAAAAAAAgAAAAIAAAACAAAAAgAAAAEAAAACAAAAAgAAAAIAAAAAAAAAAAAAAAEAAAABAAAAAAAAAAAAAAAAAAAAAAAAAAAAAAAAAAAAAgAAAAEAAAACAAAAAAAAAAAAAAABAAAAAAAAAAEAAAACAAAAAAAAAAIAAAABAAAAAAAAAAAAAAACAAAAAgAAAAEAAAACAAAAAgAAAAIAAAABAAAAAAAAAAAAAAAAAAAAAgAAAAAAAAABAAAAAgAAAAIAAAACAAAAAAAAAAEAAAACAAAAAgAAAAIAAAABAAAAAgAAAAAAAAAAAAAAAgAAAAIAAAACAAAAAAAAAAEAAAABAAAAAQAAAAIAAAABAAAAAAAAAAIAAAABAAAAAAAAAAAAAAABAAAAAQAAAAEAAAAAAAAAAgAAAAAAAAAAAAAAAAAAAAIAAAACAAAAAQAAAAEAAAAAAAAAAAAAAAIAAAAAAAAAAQAAAAIAAAABAAAAAQAAAAAAAAABAAAAAgAAAAEAAAAAAAAAAQAAAAAAAAAAAAAAAAAAAAIAAAABAAAAAQAAAAEAAAACAAAAAAAAAAAAAAABAAAAAQAAAAIAAAACAAAAAAAAAAEAAAABAAAAAQAAAAAAAAACAAAAAQAAAAEAAAAAAAAAAAAAAAEAAAAAAAAAAAAAAAAAAAAAAAAAAAAAAAEAAAAAAAAAAAAAAAAAAAACAAAAAAAAAAAAAAABAAAAAAAAAAAAAAAAAAAAAQAAAAIAAAAAAAAAAgAAAAAAAAACAAAAAQAAAAIAAAAAAAAAAgAAAAIAAAABAAAAAQAAAAAAAAAAAAAAAQAAAAAAAAABAAAAAAAAAAAAAAAAAAAAAgAAAAAAAAACAAAAAAAAAAIAAAAAAAAAAAAAAAAAAAACAAAAAAAAAAEAAAAAAAAAAQAAAAEAAAABAAAAAgAAAAEAAAACAAAAAgAAAAAAAAAAAAAAAQAAAAEAAAABAAAAAgAAAAAAAAACAAAAAgAAAAIAAAACAAAAAAAAAAAAAAABAAAAAQAAAAAAAAAAAAAAAgAAAAEAAAABAAAAAgAAAAIAAAABAAAAAAAAAAEAAAAAAAAAAgAAAAIAAAAAAAAAAgAAAAAAAAABAAAAAgAAAAAAAAACAAAAAAAAAAIAAAAAAAAAAQAAAAEAAAAAAAAAAAAAAAIAAAACAAAAAAAAAAAAAAABAAAAAQAAAAIAAAAAAAAAAQAAAAIAAAAAAAAAAgAAAAEAAAABAAAAAQAAAAIAAAACAAAAAgAAAA==",
            "dtype": "i4",
            "shape": "1000"
           },
           "bdata": "AAAAAAAAAAABAAAAAAAAAAEAAAAAAAAAAAAAAAEAAAAAAAAAAgAAAAIAAAABAAAAAQAAAAIAAAAAAAAAAQAAAAAAAAABAAAAAQAAAAAAAAABAAAAAgAAAAEAAAABAAAAAQAAAAIAAAAAAAAAAQAAAAAAAAABAAAAAgAAAAEAAAAAAAAAAgAAAAIAAAABAAAAAgAAAAAAAAACAAAAAgAAAAEAAAAAAAAAAgAAAAEAAAAAAAAAAAAAAAIAAAACAAAAAQAAAAIAAAABAAAAAQAAAAEAAAABAAAAAQAAAAAAAAABAAAAAgAAAAIAAAAAAAAAAQAAAAEAAAABAAAAAAAAAAAAAAABAAAAAgAAAAAAAAACAAAAAAAAAAAAAAAAAAAAAgAAAAIAAAABAAAAAAAAAAAAAAABAAAAAgAAAAAAAAAAAAAAAAAAAAIAAAABAAAAAQAAAAAAAAABAAAAAgAAAAEAAAACAAAAAQAAAAAAAAABAAAAAAAAAAIAAAAAAAAAAAAAAAIAAAABAAAAAgAAAAIAAAABAAAAAAAAAAEAAAABAAAAAgAAAAAAAAABAAAAAQAAAAIAAAABAAAAAgAAAAAAAAABAAAAAQAAAAAAAAAAAAAAAQAAAAIAAAACAAAAAQAAAAEAAAABAAAAAQAAAAAAAAAAAAAAAAAAAAIAAAAAAAAAAAAAAAAAAAAAAAAAAAAAAAIAAAABAAAAAgAAAAAAAAAAAAAAAAAAAAEAAAABAAAAAAAAAAAAAAAAAAAAAgAAAAEAAAAAAAAAAAAAAAAAAAABAAAAAAAAAAEAAAAAAAAAAQAAAAEAAAAAAAAAAAAAAAEAAAAAAAAAAgAAAAEAAAACAAAAAgAAAAEAAAACAAAAAQAAAAAAAAACAAAAAAAAAAIAAAAAAAAAAQAAAAEAAAACAAAAAQAAAAEAAAAAAAAAAAAAAAAAAAAAAAAAAQAAAAIAAAABAAAAAQAAAAIAAAABAAAAAQAAAAIAAAAAAAAAAAAAAAIAAAAAAAAAAAAAAAEAAAACAAAAAQAAAAAAAAAAAAAAAQAAAAIAAAABAAAAAgAAAAIAAAAAAAAAAAAAAAAAAAAAAAAAAAAAAAIAAAABAAAAAgAAAAAAAAACAAAAAAAAAAEAAAACAAAAAgAAAAEAAAAAAAAAAAAAAAEAAAACAAAAAgAAAAEAAAACAAAAAAAAAAIAAAACAAAAAQAAAAIAAAABAAAAAAAAAAIAAAACAAAAAQAAAAIAAAABAAAAAAAAAAEAAAACAAAAAQAAAAEAAAABAAAAAAAAAAAAAAABAAAAAgAAAAIAAAAAAAAAAAAAAAEAAAACAAAAAgAAAAIAAAABAAAAAgAAAAAAAAACAAAAAgAAAAAAAAACAAAAAQAAAAIAAAACAAAAAAAAAAIAAAACAAAAAAAAAAAAAAAAAAAAAQAAAAEAAAAAAAAAAgAAAAAAAAAAAAAAAAAAAAEAAAACAAAAAAAAAAEAAAABAAAAAAAAAAAAAAACAAAAAgAAAAIAAAAAAAAAAAAAAAIAAAACAAAAAAAAAAEAAAABAAAAAAAAAAIAAAAAAAAAAgAAAAEAAAAAAAAAAgAAAAAAAAACAAAAAQAAAAEAAAABAAAAAQAAAAEAAAACAAAAAQAAAAAAAAABAAAAAAAAAAEAAAACAAAAAAAAAAEAAAABAAAAAAAAAAAAAAACAAAAAgAAAAAAAAACAAAAAAAAAAAAAAAAAAAAAQAAAAEAAAAAAAAAAAAAAAAAAAACAAAAAQAAAAAAAAAAAAAAAAAAAAAAAAACAAAAAgAAAAAAAAAAAAAAAQAAAAEAAAABAAAAAAAAAAIAAAACAAAAAQAAAAIAAAABAAAAAQAAAAAAAAABAAAAAgAAAAEAAAABAAAAAgAAAAAAAAAAAAAAAAAAAAIAAAAAAAAAAQAAAAAAAAACAAAAAQAAAAEAAAACAAAAAAAAAAEAAAACAAAAAQAAAAAAAAAAAAAAAAAAAAAAAAABAAAAAgAAAAAAAAACAAAAAgAAAAEAAAACAAAAAQAAAAAAAAABAAAAAgAAAAEAAAAAAAAAAgAAAAAAAAAAAAAAAQAAAAAAAAAAAAAAAAAAAAAAAAABAAAAAQAAAAIAAAACAAAAAAAAAAEAAAAAAAAAAAAAAAAAAAAAAAAAAQAAAAEAAAACAAAAAgAAAAIAAAACAAAAAAAAAAEAAAACAAAAAAAAAAIAAAABAAAAAAAAAAAAAAAAAAAAAgAAAAAAAAABAAAAAgAAAAEAAAAAAAAAAQAAAAAAAAAAAAAAAAAAAAEAAAAAAAAAAgAAAAIAAAABAAAAAAAAAAAAAAABAAAAAgAAAAEAAAAAAAAAAAAAAAAAAAAAAAAAAAAAAAEAAAABAAAAAQAAAAAAAAABAAAAAQAAAAAAAAABAAAAAQAAAAAAAAAAAAAAAAAAAAIAAAABAAAAAgAAAAAAAAABAAAAAAAAAAEAAAAAAAAAAAAAAAEAAAABAAAAAAAAAAEAAAAAAAAAAAAAAAAAAAAAAAAAAQAAAAEAAAACAAAAAQAAAAIAAAABAAAAAAAAAAAAAAAAAAAAAgAAAAEAAAACAAAAAgAAAAIAAAAAAAAAAAAAAAAAAAAAAAAAAQAAAAAAAAAAAAAAAgAAAAAAAAABAAAAAAAAAAAAAAACAAAAAAAAAAAAAAAAAAAAAQAAAAAAAAABAAAAAQAAAAEAAAAAAAAAAAAAAAAAAAAAAAAAAQAAAAEAAAACAAAAAQAAAAIAAAABAAAAAgAAAAIAAAACAAAAAgAAAAAAAAAAAAAAAAAAAAEAAAACAAAAAAAAAAEAAAACAAAAAgAAAAIAAAACAAAAAQAAAAAAAAABAAAAAQAAAAAAAAABAAAAAgAAAAAAAAACAAAAAQAAAAEAAAACAAAAAAAAAAAAAAABAAAAAQAAAAEAAAACAAAAAAAAAAEAAAACAAAAAQAAAAEAAAACAAAAAAAAAAEAAAACAAAAAQAAAAAAAAABAAAAAAAAAAAAAAAAAAAAAQAAAAIAAAAAAAAAAAAAAAAAAAACAAAAAgAAAAEAAAAAAAAAAQAAAAIAAAAAAAAAAQAAAAAAAAABAAAAAgAAAAEAAAAAAAAAAgAAAAEAAAAAAAAAAQAAAAIAAAACAAAAAQAAAAAAAAACAAAAAgAAAAIAAAABAAAAAgAAAAAAAAACAAAAAgAAAAIAAAABAAAAAAAAAAEAAAAAAAAAAAAAAAEAAAABAAAAAQAAAAAAAAACAAAAAQAAAAEAAAAAAAAAAAAAAAEAAAAAAAAAAgAAAAEAAAAAAAAAAgAAAAEAAAACAAAAAAAAAAAAAAAAAAAAAAAAAAIAAAABAAAAAQAAAAEAAAACAAAAAAAAAAIAAAABAAAAAQAAAAEAAAAAAAAAAQAAAAEAAAAAAAAAAQAAAAIAAAABAAAAAQAAAAAAAAAAAAAAAgAAAAAAAAACAAAAAgAAAAEAAAABAAAAAgAAAAAAAAAAAAAAAQAAAAAAAAABAAAAAgAAAAEAAAABAAAAAAAAAAEAAAACAAAAAQAAAAIAAAABAAAAAAAAAAEAAAABAAAAAgAAAAIAAAACAAAAAAAAAAEAAAAAAAAAAQAAAAAAAAABAAAAAAAAAAEAAAAAAAAAAgAAAAEAAAABAAAAAAAAAAAAAAAAAAAAAgAAAAIAAAACAAAAAAAAAAAAAAAAAAAAAQAAAAEAAAAAAAAAAgAAAAAAAAAAAAAAAAAAAAAAAAACAAAAAQAAAAAAAAACAAAAAAAAAAAAAAAAAAAAAAAAAAEAAAACAAAAAQAAAAEAAAACAAAAAgAAAAAAAAAAAAAAAgAAAAEAAAAAAAAAAgAAAAEAAAABAAAAAAAAAAIAAAAAAAAAAQAAAAIAAAACAAAAAQAAAAAAAAAAAAAAAAAAAAAAAAAAAAAAAAAAAAAAAAACAAAAAgAAAAIAAAACAAAAAgAAAAEAAAAAAAAAAAAAAAAAAAACAAAAAAAAAAEAAAABAAAAAQAAAAIAAAACAAAAAAAAAAIAAAAAAAAAAgAAAAIAAAACAAAAAgAAAAEAAAACAAAAAgAAAAIAAAAAAAAAAAAAAAEAAAABAAAAAAAAAAAAAAAAAAAAAAAAAAAAAAAAAAAAAgAAAAEAAAACAAAAAAAAAAAAAAABAAAAAAAAAAEAAAACAAAAAAAAAAIAAAABAAAAAAAAAAAAAAACAAAAAgAAAAEAAAACAAAAAgAAAAIAAAABAAAAAAAAAAAAAAAAAAAAAgAAAAAAAAABAAAAAgAAAAIAAAACAAAAAAAAAAEAAAACAAAAAgAAAAIAAAABAAAAAgAAAAAAAAAAAAAAAgAAAAIAAAACAAAAAAAAAAEAAAABAAAAAQAAAAIAAAABAAAAAAAAAAIAAAABAAAAAAAAAAAAAAABAAAAAQAAAAEAAAAAAAAAAgAAAAAAAAAAAAAAAAAAAAIAAAACAAAAAQAAAAEAAAAAAAAAAAAAAAIAAAAAAAAAAQAAAAIAAAABAAAAAQAAAAAAAAABAAAAAgAAAAEAAAAAAAAAAQAAAAAAAAAAAAAAAAAAAAIAAAABAAAAAQAAAAEAAAACAAAAAAAAAAAAAAABAAAAAQAAAAIAAAACAAAAAAAAAAEAAAABAAAAAQAAAAAAAAACAAAAAQAAAAEAAAAAAAAAAAAAAAEAAAAAAAAAAAAAAAAAAAAAAAAAAAAAAAEAAAAAAAAAAAAAAAAAAAACAAAAAAAAAAAAAAABAAAAAAAAAAAAAAAAAAAAAQAAAAIAAAAAAAAAAgAAAAAAAAACAAAAAQAAAAIAAAAAAAAAAgAAAAIAAAABAAAAAQAAAAAAAAAAAAAAAQAAAAAAAAABAAAAAAAAAAAAAAAAAAAAAgAAAAAAAAACAAAAAAAAAAIAAAAAAAAAAAAAAAAAAAACAAAAAAAAAAEAAAAAAAAAAQAAAAEAAAABAAAAAgAAAAEAAAACAAAAAgAAAAAAAAAAAAAAAQAAAAEAAAABAAAAAgAAAAAAAAACAAAAAgAAAAIAAAACAAAAAAAAAAAAAAABAAAAAQAAAAAAAAAAAAAAAgAAAAEAAAABAAAAAgAAAAIAAAABAAAAAAAAAAEAAAAAAAAAAgAAAAIAAAAAAAAAAgAAAAAAAAABAAAAAgAAAAAAAAACAAAAAAAAAAIAAAAAAAAAAQAAAAEAAAAAAAAAAAAAAAIAAAACAAAAAAAAAAAAAAABAAAAAQAAAAIAAAAAAAAAAQAAAAIAAAAAAAAAAgAAAAEAAAABAAAAAQAAAAIAAAACAAAAAgAAAA==",
           "dtype": "i4"
          },
          "coloraxis": "coloraxis",
          "symbol": "circle"
         },
         "mode": "markers",
         "name": "",
         "orientation": "v",
         "showlegend": false,
         "type": "scatter",
         "x": {
          "_inputArray": {
           "0": 225876.28239668868,
           "1": 564805.9000094403,
           "10": 260148.96972862212,
           "100": 104950.54273522654,
           "101": 970647.4986337707,
           "102": 889596.5907152544,
           "103": 931364.6690354523,
           "104": 995162.4315141136,
           "105": 215200.48675851294,
           "106": 426429.9179575258,
           "107": 770326.5519188867,
           "108": 711219.5871511026,
           "109": 196201.11102286231,
           "11": 988284.6075968146,
           "110": 825041.4687410869,
           "111": 263218.54324482766,
           "112": 262626.73408149194,
           "113": 560125.701748743,
           "114": 613292.938099618,
           "115": 601081.8974459206,
           "116": 136912.4955278671,
           "117": 883587.8194988613,
           "118": 302320.04045927076,
           "119": 173039.17521866396,
           "12": 946856.3727022826,
           "120": 894310.6758755284,
           "121": 957868.9233182657,
           "122": 869021.2364021781,
           "123": 819040.2709886342,
           "124": 672479.8816070707,
           "125": 573314.5020786824,
           "126": 132637.42191583963,
           "127": 438030.5524171638,
           "128": 404054.0911616983,
           "129": 296766.09457230987,
           "13": 87455.4708000806,
           "130": 737249.1080041557,
           "131": 521081.94832483225,
           "132": 126993.90511226554,
           "133": 259174.04185232078,
           "134": 699095.8254766162,
           "135": 122324.31651578518,
           "136": 858646.5683463303,
           "137": 520389.2006632756,
           "138": 506557.2484603156,
           "139": 612787.3954265417,
           "14": 720296.413889904,
           "140": 833446.9176288918,
           "141": 380418.7475070834,
           "142": 694115.3449311104,
           "143": 587445.3657960015,
           "144": 303676.85666095023,
           "145": 884698.4870374001,
           "146": 807554.7205265817,
           "147": 675529.2429255042,
           "148": 858052.6426395298,
           "149": 873929.4909118123,
           "15": 928985.9015448826,
           "150": 722944.827879283,
           "151": 845162.6619454884,
           "152": 712597.8885858195,
           "153": 696133.7331722854,
           "154": 637680.8093044251,
           "155": 765080.8075797592,
           "156": 200674.85002842,
           "157": 886827.221238982,
           "158": 878251.3513579704,
           "159": 77784.91888283119,
           "16": 221546.57787096687,
           "160": 834525.9130365246,
           "161": 172426.37409977295,
           "162": 368362.9115461848,
           "163": 756332.8434770274,
           "164": 202721.9012458928,
           "165": 827068.6729131091,
           "166": 840527.4690598549,
           "167": 532094.3470727943,
           "168": 56066.578130991904,
           "169": 322686.22651616717,
           "17": 589547.969024998,
           "170": 636080.5724569551,
           "171": 982126.8691260522,
           "172": 650222.850665835,
           "173": 296813.4020109518,
           "174": 652305.4179446308,
           "175": 562986.1107300627,
           "176": 790853.1253935865,
           "177": 151631.6068856105,
           "178": 772976.5073769266,
           "179": 564203.2497423048,
           "18": 919713.8827086397,
           "180": 964842.4036660449,
           "181": 374778.5577367518,
           "182": 650990.7984772507,
           "183": 935426.7002345166,
           "184": 147384.24159114528,
           "185": 940367.0628746286,
           "186": 703491.4361857726,
           "187": 114445.20614991331,
           "188": 335915.38859947544,
           "189": 722763.4842130175,
           "19": 82248.6796565089,
           "190": 113983.07139533311,
           "191": 603061.9371674596,
           "192": 378588.9041053089,
           "193": 639869.7418791032,
           "194": 93454.9321218872,
           "195": 877959.9658447575,
           "196": 974814.520718527,
           "197": 970433.9625214069,
           "198": 762169.2401557785,
           "199": 173581.92812410038,
           "2": 879298.5440825878,
           "20": 712549.2538844979,
           "200": 770350.0361325714,
           "201": 73357.57063586144,
           "202": 71017.3739525474,
           "203": 357429.7081920642,
           "204": 514211.0308844325,
           "205": 781887.0469174036,
           "206": 699130.6077761799,
           "207": 473607.5710579109,
           "208": 309945.3329675826,
           "209": 997268.2751498256,
           "21": 332481.5570039232,
           "210": 454872.2371241743,
           "211": 478817.67311319173,
           "212": 205442.63013208573,
           "213": 805069.0713124329,
           "214": 708998.1144924142,
           "215": 259731.13214932237,
           "216": 128261.99333505056,
           "217": 696474.3369709775,
           "218": 671785.6535670785,
           "219": 309596.5506482989,
           "22": 928176.3856077038,
           "220": 953320.3841378898,
           "221": 193504.99719185522,
           "222": 460718.0609904718,
           "223": 946435.124159219,
           "224": 448740.9510798162,
           "225": 656599.6502808813,
           "226": 427714.6780646546,
           "227": 310504.4422312365,
           "228": 984778.7655618368,
           "229": 438867.3059992909,
           "23": 972505.3329070994,
           "230": 899394.2434951777,
           "231": 268456.8755965319,
           "232": 252449.46882382914,
           "233": 79577.37874028579,
           "234": 669083.4841070907,
           "235": 400100.0265375731,
           "236": 871140.3373476552,
           "237": 499549.4113569793,
           "238": 969783.7565189856,
           "239": 226249.23991796508,
           "24": 947053.1646577623,
           "240": 875192.0095578303,
           "241": 787767.0101521546,
           "242": 782375.7524118494,
           "243": 852544.0667110432,
           "244": 772972.791395849,
           "245": 644909.3055498446,
           "246": 174682.6337982682,
           "247": 80899.87051668932,
           "248": 924805.4554249025,
           "249": 635817.7987947011,
           "25": 500503.50582459057,
           "250": 806710.4264273675,
           "251": 507446.23393692257,
           "252": 161442.77951427473,
           "253": 168926.5025924229,
           "254": 701287.0228675228,
           "255": 458790.60015448957,
           "256": 240498.49036531989,
           "257": 517014.81940436503,
           "258": 110998.49022137737,
           "259": 602872.8318186789,
           "26": 868940.5184398477,
           "260": 305543.7342133428,
           "261": 807681.1456053287,
           "262": 344843.8609773951,
           "263": 482459.1416277111,
           "264": 61039.5129126956,
           "265": 118824.54340483094,
           "266": 422868.8785863506,
           "267": 505941.89298126736,
           "268": 620019.5207133385,
           "269": 327079.44977383805,
           "27": 852321.9286083168,
           "270": 710232.7918202154,
           "271": 867116.2773297443,
           "272": 790858.4394486824,
           "273": 87637.88408093929,
           "274": 506481.5998949375,
           "275": 149683.66949726612,
           "276": 279942.7650694011,
           "277": 987329.4636037891,
           "278": 185370.76575643755,
           "279": 523943.7457787883,
           "28": 353145.44958109286,
           "280": 637247.9476022131,
           "281": 717341.7220168988,
           "282": 581666.2493125683,
           "283": 59282.30504822447,
           "284": 360138.2428317923,
           "285": 541826.0612154759,
           "286": 133473.1741875917,
           "287": 383095.58464872173,
           "288": 81542.95335179823,
           "289": 124649.57229726971,
           "29": 837469.7004431435,
           "290": 427077.1123915163,
           "291": 176079.96634090733,
           "292": 589163.8058484802,
           "293": 704991.7206804025,
           "294": 810557.3641536287,
           "295": 240142.7320325696,
           "296": 209108.45314611626,
           "297": 149339.44831768025,
           "298": 654608.7370664548,
           "299": 721151.9401625561,
           "3": 745613.6420890831,
           "30": 85157.25297971799,
           "300": 80006.83758435994,
           "301": 939401.6339315054,
           "302": 99372.71946889878,
           "303": 564231.5185360169,
           "304": 723607.4934783706,
           "305": 877420.6675587813,
           "306": 728382.5855258064,
           "307": 811641.6789163023,
           "308": 372477.68291566573,
           "309": 824083.8580591866,
           "31": 616456.3845579504,
           "310": 126109.10406544138,
           "311": 900075.8232575012,
           "312": 570212.7573460494,
           "313": 826432.881464369,
           "314": 479702.3702923851,
           "315": 661398.8104366987,
           "316": 550082.5278893076,
           "317": 745010.0456675653,
           "318": 127548.4829290601,
           "319": 107334.47979103561,
           "32": 268508.3954233179,
           "320": 284748.07230963913,
           "321": 201567.44610752893,
           "322": 878194.3882625916,
           "323": 258253.2879901421,
           "324": 977071.9930281747,
           "325": 370051.0021825515,
           "326": 223012.0199042643,
           "327": 800213.5817853552,
           "328": 675772.3867258324,
           "329": 523285.93063048203,
           "33": 164538.54148841486,
           "330": 577595.3733907497,
           "331": 733241.6893586506,
           "332": 267032.00426473375,
           "333": 996517.2202539048,
           "334": 976053.504039444,
           "335": 667809.40202959,
           "336": 239565.32838268788,
           "337": 696216.8303097268,
           "338": 118588.48853021704,
           "339": 79119.87709551575,
           "34": 123105.5415477487,
           "340": 294798.744085653,
           "341": 489491.8089023505,
           "342": 874858.8801379615,
           "343": 740810.6162779926,
           "344": 755571.195139982,
           "345": 454218.6677256716,
           "346": 378638.2429196148,
           "347": 402486.82483537256,
           "348": 988267.0855492549,
           "349": 88103.73184185836,
           "35": 711474.3370842327,
           "350": 873679.9213163261,
           "351": 599741.6381437738,
           "352": 466684.64823011094,
           "353": 738994.7773943797,
           "354": 512335.4943534677,
           "355": 879752.0761775775,
           "356": 905666.7708106956,
           "357": 450634.8805297826,
           "358": 312986.407373299,
           "359": 612732.8121636941,
           "36": 372881.2155796628,
           "360": 916745.1783358564,
           "361": 250129.07955538324,
           "362": 641818.2543853086,
           "363": 649982.2090878945,
           "364": 746457.371294517,
           "365": 174989.3008708968,
           "366": 730033.7164479841,
           "367": 913580.8946323589,
           "368": 220698.95342672986,
           "369": 275666.1586776838,
           "37": 738528.4329523233,
           "370": 972825.3393395576,
           "371": 221928.10507401527,
           "372": 861665.8387011002,
           "373": 517663.96362563304,
           "374": 284869.5206830182,
           "375": 877212.4062088858,
           "376": 473039.9922525322,
           "377": 539076.4862332058,
           "378": 391271.7009297774,
           "379": 613303.308863181,
           "38": 112088.52375899526,
           "380": 205347.67895577164,
           "381": 421527.4598191727,
           "382": 970941.7062185231,
           "383": 295226.76106607117,
           "384": 673899.8313142275,
           "385": 358930.56101346016,
           "386": 784799.4694022706,
           "387": 174329.97768243233,
           "388": 971329.9928246175,
           "389": 481100.0643144573,
           "39": 349525.8209390798,
           "390": 274247.9401791408,
           "391": 119821.90996351202,
           "392": 211270.0098331637,
           "393": 543785.2511282167,
           "394": 370153.017609722,
           "395": 837439.197588479,
           "396": 459343.14747871563,
           "397": 286278.5589582484,
           "398": 636287.7372738286,
           "399": 721438.3560411736,
           "4": 816233.0904683772,
           "40": 562516.7277565703,
           "400": 208689.81250590237,
           "401": 209238.25547390178,
           "402": 84837.85558686583,
           "403": 749581.9143123585,
           "404": 680614.3012407148,
           "405": 500899.33196232317,
           "406": 851961.9265207372,
           "407": 815386.6453025505,
           "408": 606086.6461769146,
           "409": 874857.7164875957,
           "41": 801187.0065970154,
           "410": 245549.14953492983,
           "411": 156323.63842784148,
           "412": 306262.1309411401,
           "413": 104232.51328484912,
           "414": 554611.0516009803,
           "415": 939775.4076802135,
           "416": 87376.36363508416,
           "417": 166004.41830952547,
           "418": 479589.0768692635,
           "419": 937181.2666515097,
           "42": 352814.87778546644,
           "420": 350348.299727913,
           "421": 531873.0682539728,
           "422": 89494.2160978725,
           "423": 190926.0409139844,
           "424": 987298.6168109046,
           "425": 966862.7616142433,
           "426": 54692.98188768914,
           "427": 954221.196152077,
           "428": 657163.9409247254,
           "429": 874522.379794021,
           "43": 644596.8076151586,
           "430": 482002.8628521662,
           "431": 539816.2271502877,
           "432": 514404.2512440742,
           "433": 683521.0446687991,
           "434": 182668.69201849727,
           "435": 78474.91037904406,
           "436": 342533.4445116314,
           "437": 719446.7245998144,
           "438": 241760.77951680095,
           "439": 689760.8116586715,
           "44": 891678.8608243777,
           "440": 971416.4438019069,
           "441": 139205.6799999475,
           "442": 688972.01231387,
           "443": 471562.7083393426,
           "444": 874735.1416586301,
           "445": 218292.29997501662,
           "446": 707994.6546148564,
           "447": 846209.5251657047,
           "448": 947383.5085003221,
           "449": 699085.6268751635,
           "45": 635070.0287731893,
           "450": 522316.02580800594,
           "451": 636954.8781911532,
           "452": 875459.7352547824,
           "453": 592079.2593068882,
           "454": 78867.70671199502,
           "455": 934401.2607316289,
           "456": 705050.4134799831,
           "457": 692687.7164883842,
           "458": 254891.3947778313,
           "459": 675941.1967210243,
           "46": 271311.5010159521,
           "460": 424171.18537145056,
           "461": 668671.3281894175,
           "462": 151263.3787925912,
           "463": 674953.0393728842,
           "464": 999443.0394821332,
           "465": 95801.43691752822,
           "466": 978315.4750102514,
           "467": 436562.5626867271,
           "468": 877215.7778203962,
           "469": 793266.2098553597,
           "47": 73180.74247871112,
           "470": 588665.4479373344,
           "471": 751526.7487887602,
           "472": 884589.7832362805,
           "473": 433933.30556848133,
           "474": 360681.50348507677,
           "475": 684213.7162854054,
           "476": 817453.6448441957,
           "477": 774170.878037785,
           "478": 807922.9664157027,
           "479": 463804.1490722863,
           "48": 876593.9302058833,
           "480": 826942.5053662705,
           "481": 164198.60260207803,
           "482": 567264.6430628072,
           "483": 55470.72747321549,
           "484": 358356.53840525675,
           "485": 398138.45812782797,
           "486": 426364.0570287926,
           "487": 710693.8463553691,
           "488": 419130.19620682846,
           "489": 476258.94149140414,
           "49": 70205.94030786779,
           "490": 275666.92433061113,
           "491": 404589.20204787306,
           "492": 265906.1458999939,
           "493": 119536.12758002145,
           "494": 623276.163712309,
           "495": 684802.1586272655,
           "496": 638515.8287091338,
           "497": 490319.3416105437,
           "498": 410796.49117026833,
           "499": 870166.967093234,
           "5": 675844.1983751815,
           "50": 880966.5890499895,
           "500": 543127.6958794072,
           "501": 505222.7837482444,
           "502": 74359.96251611391,
           "503": 374185.43624484853,
           "504": 411185.8378465642,
           "505": 428881.64185205544,
           "506": 601163.7507659657,
           "507": 556922.4193905345,
           "508": 627509.8381537724,
           "509": 776639.0984650218,
           "51": 552490.2773258514,
           "510": 822336.4517802888,
           "511": 732216.9224151697,
           "512": 957747.511157188,
           "513": 67320.95354254355,
           "514": 235989.0863993688,
           "515": 57184.73122923501,
           "516": 665100.9784468729,
           "517": 903129.0215024876,
           "518": 281308.1817474843,
           "519": 930682.8175564914,
           "52": 942114.3135872514,
           "520": 107254.02077508281,
           "521": 937714.2254652386,
           "522": 384041.5528776527,
           "523": 146349.7870267557,
           "524": 511578.1712270093,
           "525": 293937.7393344826,
           "526": 320629.2568638267,
           "527": 341925.46667997225,
           "528": 812874.6029410303,
           "529": 562203.2128414917,
           "53": 808844.0739849821,
           "530": 345742.31419820344,
           "531": 629817.0941453724,
           "532": 730343.1405120338,
           "533": 308992.80069685704,
           "534": 442871.6464490839,
           "535": 165791.78867010016,
           "536": 222091.8820579463,
           "537": 697061.9612667337,
           "538": 222366.4303108456,
           "539": 548905.2144837072,
           "54": 998037.4050066706,
           "540": 723593.948636311,
           "541": 151533.07694000663,
           "542": 588946.6086474584,
           "543": 293734.6445162956,
           "544": 964780.5314757008,
           "545": 509368.3643839285,
           "546": 815692.9222864002,
           "547": 572715.2150484486,
           "548": 91241.9062120782,
           "549": 651493.8068143212,
           "55": 383176.22467912466,
           "550": 953833.1750963242,
           "551": 621531.2291390146,
           "552": 828229.4164554507,
           "553": 889996.1401809874,
           "554": 266675.78335148585,
           "555": 251442.5979128153,
           "556": 630431.9394084421,
           "557": 440477.0463163695,
           "558": 847868.2377233843,
           "559": 905021.9672281106,
           "56": 778828.8744845706,
           "560": 385750.3103375822,
           "561": 275027.03102575795,
           "562": 791499.2394816687,
           "563": 311065.7337707293,
           "564": 831483.6025879944,
           "565": 452551.3409663247,
           "566": 684172.4043268969,
           "567": 140758.54814293477,
           "568": 642666.3584427444,
           "569": 479179.2948003677,
           "57": 431834.36792878003,
           "570": 607278.0400167004,
           "571": 209613.49735762025,
           "572": 750030.057696973,
           "573": 869657.2236660671,
           "574": 255902.81008623686,
           "575": 140928.82774415362,
           "576": 72456.65674401958,
           "577": 659872.9254211027,
           "578": 626739.3342843418,
           "579": 569362.5420783665,
           "58": 505881.8392887134,
           "580": 270349.7413101767,
           "581": 421360.69611023896,
           "582": 614752.5184268644,
           "583": 521928.5159162109,
           "584": 988396.244204143,
           "585": 179617.76492889647,
           "586": 710387.3263452142,
           "587": 434102.8296990775,
           "588": 456789.63417933404,
           "589": 731717.8773752674,
           "59": 646130.1900574516,
           "590": 707814.3437581512,
           "591": 991693.1940170788,
           "592": 171974.57498141896,
           "593": 148904.16691495804,
           "594": 738121.8762723041,
           "595": 599467.5711560886,
           "596": 310452.63323181553,
           "597": 125448.40053953728,
           "598": 131375.337116609,
           "599": 899481.3309309124,
           "6": 707662.7362919599,
           "60": 879993.2584770218,
           "600": 232273.95848280576,
           "601": 357202.9840097447,
           "602": 265323.58211563865,
           "603": 387246.4905403404,
           "604": 115952.6506087887,
           "605": 543106.8013628569,
           "606": 114231.93541260416,
           "607": 810338.6824312435,
           "608": 272026.4778149114,
           "609": 563011.3188742851,
           "61": 984879.2957393304,
           "610": 886075.1331833854,
           "611": 668333.5005948344,
           "612": 556309.8972237685,
           "613": 358117.0654596068,
           "614": 366351.81740528805,
           "615": 686012.6074382806,
           "616": 994432.3931601092,
           "617": 678747.2303569097,
           "618": 579894.2465015237,
           "619": 744117.9847272838,
           "62": 779859.7431712922,
           "620": 491945.3316695322,
           "621": 107135.22547074595,
           "622": 584181.9750840144,
           "623": 959744.0202801112,
           "624": 216537.79523977666,
           "625": 705504.6462796325,
           "626": 240887.00422610366,
           "627": 559036.3002494272,
           "628": 141842.62716438365,
           "629": 477852.3894452759,
           "63": 446878.44305896707,
           "630": 768355.1624504838,
           "631": 380192.94802703295,
           "632": 681666.1382628571,
           "633": 805677.4627502427,
           "634": 930818.92850548,
           "635": 272909.97776268085,
           "636": 429350.12001884275,
           "637": 194795.21266389656,
           "638": 992859.3270504564,
           "639": 930650.9195280805,
           "64": 450289.15216321667,
           "640": 562959.2737665316,
           "641": 849931.6296576002,
           "642": 544910.0784084401,
           "643": 642406.4036026218,
           "644": 134668.21051021578,
           "645": 767506.8994719675,
           "646": 171327.80945347308,
           "647": 834764.2487399019,
           "648": 792926.6832868666,
           "649": 723307.4628558276,
           "65": 750703.1865094469,
           "650": 84352.361498524,
           "651": 337971.93814806215,
           "652": 299956.9414153007,
           "653": 392129.5870979431,
           "654": 133260.6094256466,
           "655": 940109.9318795096,
           "656": 576112.1286767574,
           "657": 340248.09512512235,
           "658": 427132.44122056925,
           "659": 474842.4134795939,
           "66": 276838.2884798872,
           "660": 620564.6166925865,
           "661": 539895.4563116729,
           "662": 923422.3745536965,
           "663": 522115.30876053876,
           "664": 992550.114082147,
           "665": 858853.7098578409,
           "666": 248084.98863946903,
           "667": 934065.4539117204,
           "668": 160548.0779912023,
           "669": 826577.223066632,
           "67": 154950.40747482493,
           "670": 411592.1288027511,
           "671": 884075.6044228161,
           "672": 874653.8556020778,
           "673": 815629.1301117401,
           "674": 800528.9144917083,
           "675": 339445.1821431387,
           "676": 126873.31889868957,
           "677": 432831.1698269034,
           "678": 214848.28923718323,
           "679": 710203.5344573386,
           "68": 386891.04975873773,
           "680": 378794.74021089624,
           "681": 976829.6908169192,
           "682": 658923.4734780655,
           "683": 831356.535452643,
           "684": 175898.439104756,
           "685": 868913.7581589915,
           "686": 926619.3309877246,
           "687": 512708.8228779891,
           "688": 625940.2908634286,
           "689": 776569.3108578457,
           "69": 322877.0420713776,
           "690": 216096.6958973919,
           "691": 527437.7726402703,
           "692": 428729.87638369744,
           "693": 189055.29255413666,
           "694": 399157.70117695484,
           "695": 114763.69391621888,
           "696": 74521.31160201263,
           "697": 178407.9746970816,
           "698": 964959.3560097151,
           "699": 572053.0591002661,
           "7": 856735.8689870533,
           "70": 331492.7144331906,
           "700": 967531.053095559,
           "701": 460872.9844136254,
           "702": 346225.3264309966,
           "703": 530834.769698232,
           "704": 467536.1042012646,
           "705": 150381.45004865673,
           "706": 658784.9989556959,
           "707": 255236.27338411962,
           "708": 638608.5571529381,
           "709": 667691.0377782458,
           "71": 271927.36349741445,
           "710": 194423.6104722157,
           "711": 108282.14575513476,
           "712": 791723.5067650179,
           "713": 486810.4025808542,
           "714": 105255.60573020199,
           "715": 995123.0013112788,
           "716": 104891.53294654831,
           "717": 710283.4674156255,
           "718": 984494.9790002429,
           "719": 277221.0990051293,
           "72": 89988.53015454378,
           "720": 185136.90025283638,
           "721": 165315.69245130743,
           "722": 338111.3901892158,
           "723": 145993.52046011435,
           "724": 707553.2746094253,
           "725": 109177.20822355956,
           "726": 533951.0217423002,
           "727": 996862.0111603279,
           "728": 823271.7560307179,
           "729": 634458.4663194603,
           "73": 66980.23799674312,
           "730": 340940.9397472811,
           "731": 642701.0444770566,
           "732": 550689.390716069,
           "733": 454779.2146958529,
           "734": 174174.8579031895,
           "735": 892274.0044784434,
           "736": 477295.4163802564,
           "737": 234891.3862297268,
           "738": 399371.38333342515,
           "739": 443423.2649024807,
           "74": 988336.27024923,
           "740": 836161.0007885306,
           "741": 746933.661533332,
           "742": 780839.6489592728,
           "743": 60479.70120721485,
           "744": 445346.29827077343,
           "745": 507276.94405355747,
           "746": 68232.66298190385,
           "747": 296822.5483077825,
           "748": 772275.3319660282,
           "749": 180254.2204425491,
           "75": 456384.47704906925,
           "750": 558544.6248799621,
           "751": 254441.77841637563,
           "752": 61514.73591169861,
           "753": 279141.3847195644,
           "754": 977080.0671645511,
           "755": 811460.2562888401,
           "756": 961597.8121049817,
           "757": 513461.34173004434,
           "758": 154249.38874362834,
           "759": 570561.5145250084,
           "76": 415110.3148016976,
           "760": 481658.46783196286,
           "761": 852139.2286026352,
           "762": 143178.45174503236,
           "763": 513829.08017068927,
           "764": 192546.23145928505,
           "765": 358442.13054555695,
           "766": 750489.2235184096,
           "767": 502217.2229003282,
           "768": 407093.87088848086,
           "769": 424752.46464153356,
           "77": 695664.9185584163,
           "770": 486474.4299856873,
           "771": 795765.716645204,
           "772": 897480.4544932226,
           "773": 957567.9521787319,
           "774": 797558.2169425304,
           "775": 349636.5509606121,
           "776": 703727.970782215,
           "777": 465722.9678526223,
           "778": 291937.0909437486,
           "779": 848828.0004546265,
           "78": 257341.19347181096,
           "780": 86505.03151420875,
           "781": 906673.8925286523,
           "782": 488403.5913934974,
           "783": 655341.4029678664,
           "784": 676386.2260954935,
           "785": 900361.8536712095,
           "786": 654836.198058847,
           "787": 633236.9055220587,
           "788": 113319.43853265546,
           "789": 542487.6208479439,
           "79": 952463.1247527141,
           "790": 192660.55077618957,
           "791": 750562.0802854113,
           "792": 536610.8247720408,
           "793": 696216.3902479357,
           "794": 89589.25557226504,
           "795": 130552.41524351305,
           "796": 730507.2186595481,
           "797": 118480.1191987397,
           "798": 117693.89137699567,
           "799": 61503.051473143074,
           "8": 287184.60841622663,
           "80": 797027.7636947745,
           "800": 958676.328384506,
           "801": 750632.9414860565,
           "802": 385588.83807696094,
           "803": 331708.80222327245,
           "804": 382218.06825855706,
           "805": 785920.8546221227,
           "806": 678302.0805168936,
           "807": 225935.78947409455,
           "808": 215403.86856738012,
           "809": 143475.86722772743,
           "81": 134940.45219664654,
           "810": 677287.5837162712,
           "811": 776154.0291106491,
           "812": 301794.10690875386,
           "813": 69897.71297936718,
           "814": 128063.08410260598,
           "815": 969467.033102779,
           "816": 330672.53860354924,
           "817": 780761.9904462269,
           "818": 643430.3904115505,
           "819": 412842.6576702511,
           "82": 446701.73699568195,
           "820": 245402.89908577735,
           "821": 165317.0972514361,
           "822": 634262.3196369233,
           "823": 785902.0916058986,
           "824": 661709.0408640741,
           "825": 553787.0265867005,
           "826": 89853.66226005445,
           "827": 970064.3387146646,
           "828": 808778.4820718458,
           "829": 328180.9348659165,
           "83": 885162.3921840565,
           "830": 980971.8128909081,
           "831": 621787.510154506,
           "832": 603301.5252968841,
           "833": 760669.5204580555,
           "834": 821181.2986856307,
           "835": 673654.6769649275,
           "836": 171690.95904789004,
           "837": 371354.13069477346,
           "838": 931679.4583097473,
           "839": 263384.8312516593,
           "84": 947495.4211768397,
           "840": 403558.67264563765,
           "841": 460473.0387969862,
           "842": 467434.7402097296,
           "843": 632292.6033697992,
           "844": 945922.0458574722,
           "845": 278658.0762408797,
           "846": 165426.30748587218,
           "847": 237596.96536694045,
           "848": 892578.6551988061,
           "849": 663520.2720224457,
           "85": 494031.43568737624,
           "850": 321611.4497772021,
           "851": 825149.5920201864,
           "852": 868301.4965452643,
           "853": 854188.6217557641,
           "854": 922980.2069575767,
           "855": 289628.9691646935,
           "856": 767289.8323089643,
           "857": 487512.522410433,
           "858": 849898.6252455584,
           "859": 742066.1433035325,
           "86": 632740.8197501723,
           "860": 787625.0741747384,
           "861": 673353.7457970179,
           "862": 218557.3309962215,
           "863": 567775.5729520915,
           "864": 985436.2525482828,
           "865": 940518.663172263,
           "866": 91015.04900716108,
           "867": 206574.07494296526,
           "868": 175142.3347818338,
           "869": 739680.9144860307,
           "87": 208682.24878747147,
           "870": 826896.0633640978,
           "871": 252835.79799513833,
           "872": 530560.0583042376,
           "873": 848667.87661064,
           "874": 746161.4675279381,
           "875": 565125.3452172559,
           "876": 610830.3059358343,
           "877": 532942.5195704659,
           "878": 332671.02875287953,
           "879": 586770.8932160652,
           "88": 991610.1948301278,
           "880": 704441.0369475861,
           "881": 879656.7700677672,
           "882": 654476.7862802857,
           "883": 773065.4601910001,
           "884": 202068.05320684434,
           "885": 488479.6006988004,
           "886": 58865.03883573863,
           "887": 284344.92129554186,
           "888": 740138.6293573546,
           "889": 992219.4537818952,
           "89": 270088.11631427123,
           "890": 144219.1946078551,
           "891": 431419.60006822384,
           "892": 810067.4202642015,
           "893": 243833.8528974539,
           "894": 577330.7018371719,
           "895": 746417.731228191,
           "896": 635186.1777471701,
           "897": 228623.49788464533,
           "898": 387615.34025145246,
           "899": 794602.1952611273,
           "9": 514953.71546098345,
           "90": 945595.1854283693,
           "900": 576515.1884254158,
           "901": 54968.1328657671,
           "902": 772941.2220266892,
           "903": 83545.78719322712,
           "904": 758447.0935946705,
           "905": 242356.53215697553,
           "906": 960169.8061134112,
           "907": 399543.7137369803,
           "908": 360585.03552117513,
           "909": 191443.64781582245,
           "91": 667164.31654275,
           "910": 340324.0047157041,
           "911": 882818.2237367906,
           "912": 996517.620745885,
           "913": 399894.0539815059,
           "914": 476180.0994068154,
           "915": 735967.3912926002,
           "916": 891885.9914418207,
           "917": 613392.1174774449,
           "918": 421949.41326893785,
           "919": 441990.74880619254,
           "92": 627349.9551349161,
           "920": 710837.2391719666,
           "921": 53057.350424064745,
           "922": 638609.8705868487,
           "923": 387718.35991928953,
           "924": 804487.46471323,
           "925": 138341.10783197556,
           "926": 608792.153600971,
           "927": 506924.24539181753,
           "928": 660209.2496099661,
           "929": 111610.91475881993,
           "93": 537054.0854656831,
           "930": 600984.5980567248,
           "931": 583410.3585615476,
           "932": 582627.0896953624,
           "933": 623313.2832666321,
           "934": 692644.5403650441,
           "935": 814739.5496967313,
           "936": 306329.6841218036,
           "937": 833796.9396710589,
           "938": 523342.89815028093,
           "939": 123205.3651776146,
           "94": 269136.32113187073,
           "940": 105623.38278178024,
           "941": 367526.4027612578,
           "942": 795652.1282558942,
           "943": 722296.8880038699,
           "944": 799184.2164387861,
           "945": 541405.6036195289,
           "946": 468189.04805771605,
           "947": 190079.90037096976,
           "948": 361783.11592884595,
           "949": 462318.3978651815,
           "95": 217701.63040523286,
           "950": 134170.40819563635,
           "951": 259581.3550756507,
           "952": 618314.0293605519,
           "953": 748879.9585272303,
           "954": 998430.1358233022,
           "955": 936457.6647763798,
           "956": 660436.939558432,
           "957": 450185.6506293684,
           "958": 654368.4964728211,
           "959": 796369.0371762203,
           "96": 259461.89861666659,
           "960": 162419.38137721794,
           "961": 439409.6452114738,
           "962": 847812.1713538363,
           "963": 414641.3043363918,
           "964": 593278.6576658272,
           "965": 608380.8928190883,
           "966": 225252.4404769574,
           "967": 394123.66956967395,
           "968": 367785.72430483554,
           "969": 74886.87310546155,
           "97": 227116.3490370418,
           "970": 72982.17569678748,
           "971": 840112.1914919848,
           "972": 309417.2694741718,
           "973": 542174.8279268746,
           "974": 333789.2949093344,
           "975": 943645.2828595735,
           "976": 296331.92092248506,
           "977": 458173.9721019883,
           "978": 879093.7379603718,
           "979": 849836.8884522183,
           "98": 790605.2498884157,
           "980": 226796.34695396345,
           "981": 812511.1443059249,
           "982": 485277.542400998,
           "983": 508820.42848108744,
           "984": 176805.9737951466,
           "985": 126571.43806926842,
           "986": 741542.341625077,
           "987": 521638.09473753476,
           "988": 465008.1674844206,
           "989": 743032.8172197769,
           "99": 382618.9962083936,
           "990": 777237.2540415543,
           "991": 200962.75928588587,
           "992": 629713.8920037593,
           "993": 178586.37816380127,
           "994": 763806.3317275934,
           "995": 674107.3984537825,
           "996": 958783.8900292851,
           "997": 115510.11553860012,
           "998": 104201.9850936916,
           "999": 318077.72095854016,
           "bdata": "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",
           "dtype": "f8",
           "shape": "1000"
          },
          "bdata": "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",
          "dtype": "f8"
         },
         "xaxis": "x",
         "y": {
          "_inputArray": {
           "0": 0.672702994208898,
           "1": 0.7966813971913723,
           "10": 0.5488586650773559,
           "100": 0.0926254830513672,
           "101": 0.7483843496762314,
           "102": 0.9145486638485589,
           "103": 0.43402097270875883,
           "104": 0.25871164215544096,
           "105": 0.4344033190066098,
           "106": 0.723447817850001,
           "107": 0.009054161580370979,
           "108": 0.5894539894846972,
           "109": 0.6132916848873791,
           "11": 0.2876327290436782,
           "110": 0.6376882468959355,
           "111": 0.2420220799808772,
           "112": 0.7140527233781268,
           "113": 0.0913914863317764,
           "114": 0.1992703364668008,
           "115": 0.8774700466544819,
           "116": 0.7387231507265664,
           "117": 0.013745554011345251,
           "118": 0.2483762603698002,
           "119": 0.21440648299316456,
           "12": 0.3067765995221412,
           "120": 0.2708063280369726,
           "121": 0.2475597702798864,
           "122": 0.06252629574284574,
           "123": 0.45894051659682034,
           "124": 0.7327334747861651,
           "125": 0.6067317247174364,
           "126": 0.6728716685980798,
           "127": 0.08114917853623915,
           "128": 0.9514907101767872,
           "129": 0.8384918338430248,
           "13": 0.3529585034523566,
           "130": 0.8050903184956627,
           "131": 0.8229838050417675,
           "132": 0.9327105081327614,
           "133": 0.5442539661136977,
           "134": 0.2002820178676259,
           "135": 0.6167836078525412,
           "136": 0.742881493667939,
           "137": 0.7379173933540254,
           "138": 0.5214490241668801,
           "139": 0.06845871933357806,
           "14": 0.6212924490496101,
           "140": 0.3711129384301278,
           "141": 0.9207666084633573,
           "142": 0.584448909757426,
           "143": 0.5383319432557134,
           "144": 0.2688535143821935,
           "145": 0.3684489199165789,
           "146": 0.8953460891531693,
           "147": 0.6664630475268357,
           "148": 0.7873870267523329,
           "149": 0.45434542306765513,
           "15": 0.3340499656687692,
           "150": 0.6302472194561579,
           "151": 0.24838360874320753,
           "152": 0.7054608302834863,
           "153": 0.4276013337033373,
           "154": 0.4425455148147456,
           "155": 0.6493223245768817,
           "156": 0.9362806214689267,
           "157": 0.06400634660862092,
           "158": 0.8247432373470076,
           "159": 0.2923831104121931,
           "16": 0.7326990505902804,
           "160": 0.4439194545063778,
           "161": 0.021913328775008956,
           "162": 0.30104607783431303,
           "163": 0.5026312426301305,
           "164": 0.05617607734743901,
           "165": 0.49109572938316515,
           "166": 0.9271106288584273,
           "167": 0.10539321810780522,
           "168": 0.7644407280755043,
           "169": 0.40967105337599263,
           "17": 0.4045273855738697,
           "170": 0.655173714524338,
           "171": 0.26023659798522936,
           "172": 0.1594922625413583,
           "173": 0.16046261427122643,
           "174": 0.07049194564314465,
           "175": 0.18564670490124302,
           "176": 0.6642193849889683,
           "177": 0.881690611843508,
           "178": 0.8141256855911618,
           "179": 0.6851343098744841,
           "18": 0.06835320030995862,
           "180": 0.11043186341110267,
           "181": 0.28918744629594983,
           "182": 0.309806875322469,
           "183": 0.24995694639762123,
           "184": 0.5150056597097231,
           "185": 0.5355538148796726,
           "186": 0.3568859751711102,
           "187": 0.353789158736436,
           "188": 0.8285555979060814,
           "189": 0.7892928483196856,
           "19": 0.7837598424841072,
           "190": 0.30779583168074565,
           "191": 0.9137884438732593,
           "192": 0.952815017002506,
           "193": 0.32674254203004083,
           "194": 0.35442494879305486,
           "195": 0.5056341534219588,
           "196": 0.9411208125336735,
           "197": 0.8763194331423115,
           "198": 0.1025679625835898,
           "199": 0.3927307432714162,
           "2": 0.250467898792499,
           "20": 0.285758324592706,
           "200": 0.5533711897497718,
           "201": 0.50313247255154,
           "202": 0.19386306793689267,
           "203": 0.8588167711681547,
           "204": 0.6769407829968374,
           "205": 0.8379083748518036,
           "206": 0.8587642793494722,
           "207": 0.7483558536657398,
           "208": 0.43921060124971734,
           "209": 0.6105467550154245,
           "21": 0.43276687959926263,
           "210": 0.16036540611974315,
           "211": 0.6736454174749077,
           "212": 0.17925325573928075,
           "213": 0.6939495905101568,
           "214": 0.22959816075396866,
           "215": 0.11755130015021997,
           "216": 0.16528449014295743,
           "217": 0.001992135219070268,
           "218": 0.7187396178535302,
           "219": 0.7324010490583791,
           "22": 0.6854438832219015,
           "220": 0.5149333499132595,
           "221": 0.1613628010553837,
           "222": 0.08355433751068975,
           "223": 0.01912896643728701,
           "224": 0.1657481769652207,
           "225": 0.8908555349831467,
           "226": 0.24153684170168177,
           "227": 0.35427132721721566,
           "228": 0.10534548448133318,
           "229": 0.22236130474817029,
           "23": 0.332456157148712,
           "230": 0.5192245707802051,
           "231": 0.6077526830956526,
           "232": 0.24535231416621106,
           "233": 0.05773215922511721,
           "234": 0.39103286912739865,
           "235": 0.23420337092633414,
           "236": 0.21955392322980194,
           "237": 0.9598628027134553,
           "238": 0.6163004859257241,
           "239": 0.5568784431720959,
           "24": 0.056585656146715624,
           "240": 0.4157751035233219,
           "241": 0.42894433343014426,
           "242": 0.5409050038380808,
           "243": 0.6964298070361072,
           "244": 0.7021460961818294,
           "245": 0.17169390770544957,
           "246": 0.500112752076627,
           "247": 0.41195809503410197,
           "248": 0.8705269662693842,
           "249": 0.6314189212183764,
           "25": 0.3739210470128136,
           "250": 0.5325040664159818,
           "251": 0.11539464217891737,
           "252": 0.6056378893234114,
           "253": 0.11720390568023342,
           "254": 0.33720657556575206,
           "255": 0.14284196481433187,
           "256": 0.6920736470243689,
           "257": 0.2062521138361526,
           "258": 0.391859373188026,
           "259": 0.8956747776187787,
           "26": 0.9444485826943034,
           "260": 0.2043163833989703,
           "261": 0.5078050639587791,
           "262": 0.419271661166022,
           "263": 0.018124041045729733,
           "264": 0.7927581135728128,
           "265": 0.06904590631459973,
           "266": 0.4742550209769536,
           "267": 0.5606782949389499,
           "268": 0.6284264566145871,
           "269": 0.6886316293078756,
           "27": 0.6417343972985582,
           "270": 0.2532723835227151,
           "271": 0.009978776658449373,
           "272": 0.723443662354912,
           "273": 0.5356565993475786,
           "274": 0.8361177032072488,
           "275": 0.8213883629006943,
           "276": 0.8433261677878832,
           "277": 0.48509465997954015,
           "278": 0.33362839583686565,
           "279": 0.79155820259137,
           "28": 0.6714791486672069,
           "280": 0.45129411302925493,
           "281": 0.1834421964034345,
           "282": 0.8549740195614743,
           "283": 0.8825598767723473,
           "284": 0.4663097561401701,
           "285": 0.07569972730978747,
           "286": 0.38782608991693124,
           "287": 0.8035376594626034,
           "288": 0.9017740285462287,
           "289": 0.20347274249759584,
           "29": 0.6322821536376398,
           "290": 0.06697361202527152,
           "291": 0.8773504531328387,
           "292": 0.3894049389788753,
           "293": 0.5417609642675633,
           "294": 0.9680658120507589,
           "295": 0.06656472791422285,
           "296": 0.6483180074520956,
           "297": 0.07410542257486707,
           "298": 0.3754689284665004,
           "299": 0.8038145451934468,
           "3": 0.6248740996069989,
           "30": 0.1989921389594368,
           "300": 0.4334722327556344,
           "301": 0.9971823539029504,
           "302": 0.5590592849466022,
           "303": 0.3211621526359535,
           "304": 0.22011132590475313,
           "305": 0.3505205342861618,
           "306": 0.3725332737595508,
           "307": 0.06871367772396098,
           "308": 0.36957419942677316,
           "309": 0.4642385197392249,
           "31": 0.41833386410228013,
           "310": 0.7227377522388047,
           "311": 0.656729484721608,
           "312": 0.7087656552291542,
           "313": 0.008363681876857099,
           "314": 0.21766739958053605,
           "315": 0.6616842883998565,
           "316": 0.48398936817974714,
           "317": 0.005313475668345946,
           "318": 0.8044946424318223,
           "319": 0.7728095732903374,
           "32": 0.7509397983633183,
           "320": 0.5484191629935626,
           "321": 0.06646332577627212,
           "322": 0.7665150495325846,
           "323": 0.583713587731364,
           "324": 0.7819599771579592,
           "325": 0.7517469923958404,
           "326": 0.8030020719578371,
           "327": 0.5180080664046248,
           "328": 0.140324518193515,
           "329": 0.6711574733796887,
           "33": 0.10137289755315915,
           "330": 0.6204737850519706,
           "331": 0.7422531871990872,
           "332": 0.1698810060507353,
           "333": 0.19497519990028922,
           "334": 0.8904095172193285,
           "335": 0.7499777984520708,
           "336": 0.9082284887003229,
           "337": 0.7587153211639207,
           "338": 0.5971553059903019,
           "339": 0.6541327370278737,
           "34": 0.27785277608971226,
           "340": 0.88912792394001,
           "341": 0.5788067545119405,
           "342": 0.6323913243283874,
           "343": 0.15647671600360058,
           "344": 0.4739212201161027,
           "345": 0.716397111958099,
           "346": 0.2709426983163654,
           "347": 0.20225418052453492,
           "348": 0.31382680822441555,
           "349": 0.24150062799283345,
           "35": 0.2763191084658536,
           "350": 0.21491263703639585,
           "351": 0.42485084286808694,
           "352": 0.9078385138835341,
           "353": 0.5070596467387183,
           "354": 0.18792038081532303,
           "355": 0.07697166938087407,
           "356": 0.6961561451379252,
           "357": 0.38279876443638783,
           "358": 0.8218309465853593,
           "359": 0.6595107686407702,
           "36": 0.432018927594506,
           "360": 0.7962414505413685,
           "361": 0.27194603941844875,
           "362": 0.6923589224610581,
           "363": 0.2640619846937188,
           "364": 0.9390684794502916,
           "365": 0.6363742815333744,
           "366": 0.3245118001753421,
           "367": 0.26951186229227264,
           "368": 0.1909265850716435,
           "369": 0.6946409588937278,
           "37": 0.9803687409421851,
           "370": 0.2187156129979273,
           "371": 0.5953032659274891,
           "372": 0.26463502692535734,
           "373": 0.6619689447938686,
           "374": 0.8149397285405392,
           "375": 0.7780252431446532,
           "376": 0.7608513309307817,
           "377": 0.18772240569225207,
           "378": 0.08838494698451871,
           "379": 0.6989488284873856,
           "38": 0.06750254668382194,
           "380": 0.3683472137943513,
           "381": 0.4323462264033473,
           "382": 0.031149092793391064,
           "383": 0.2595764492750492,
           "384": 0.03367640387446402,
           "385": 0.8791857726012476,
           "386": 0.24339668321853047,
           "387": 0.557337169573008,
           "388": 0.03897932066113041,
           "389": 0.6668473913056581,
           "39": 0.518700994380595,
           "390": 0.32302734575409386,
           "391": 0.8979191869576658,
           "392": 0.8881181889340358,
           "393": 0.3252906183617478,
           "394": 0.9009608956904679,
           "395": 0.9961576734987788,
           "396": 0.8254156641239481,
           "397": 0.844871347755229,
           "398": 0.2490087361090899,
           "399": 0.5767023988577563,
           "4": 0.5717459831437487,
           "40": 0.17936468201221045,
           "400": 0.06725591396736785,
           "401": 0.09491793682166971,
           "402": 0.9988926120332906,
           "403": 0.32663924942591094,
           "404": 0.7481839120488464,
           "405": 0.8066650530268165,
           "406": 0.8580232710072292,
           "407": 0.9976282974021565,
           "408": 0.24149648525686784,
           "409": 0.04035082685969971,
           "41": 0.9706765454097441,
           "410": 0.411191517994586,
           "411": 0.13008066982894695,
           "412": 0.022425889162055124,
           "413": 0.3604268271414861,
           "414": 0.7837382510752364,
           "415": 0.5661806912250709,
           "416": 0.31277798921035405,
           "417": 0.6543420054927197,
           "418": 0.23201818030881072,
           "419": 0.014381446072085025,
           "42": 0.1133035047274642,
           "420": 0.7643533864364274,
           "421": 0.6237430848640091,
           "422": 0.76230262450096,
           "423": 0.03893801668766561,
           "424": 0.8371196278306522,
           "425": 0.6195262000363033,
           "426": 0.5633953507126401,
           "427": 0.6246140481145316,
           "428": 0.8644332468683641,
           "429": 0.5869365065589071,
           "43": 0.40360100236159124,
           "430": 0.5809503798881793,
           "431": 0.9906791570657658,
           "432": 0.756730167068568,
           "433": 0.4422938054511353,
           "434": 0.7073970000329277,
           "435": 0.3892304716917885,
           "436": 0.228875462483499,
           "437": 0.5968518768877594,
           "438": 0.9281820981139515,
           "439": 0.9291395200154627,
           "44": 0.7378849848346062,
           "440": 0.3419052781054903,
           "441": 0.527677466221695,
           "442": 0.2116358985698612,
           "443": 0.9956311094988834,
           "444": 0.9811179078679357,
           "445": 0.6495089297074473,
           "446": 0.8044140596774734,
           "447": 0.7151001612837,
           "448": 0.5931582190394682,
           "449": 0.053347996988897695,
           "45": 0.7045544280274453,
           "450": 0.45476434255266107,
           "451": 0.6747863021674105,
           "452": 0.6775316138836847,
           "453": 0.3731226184223836,
           "454": 0.9416919866580306,
           "455": 0.167357032236781,
           "456": 0.5003594462155606,
           "457": 0.6908839765508228,
           "458": 0.6971358058918092,
           "459": 0.6486389567688156,
           "46": 0.42272863689393225,
           "460": 0.27528821345186016,
           "461": 0.15620656868662197,
           "462": 0.6359403268267109,
           "463": 0.5993021161394377,
           "464": 0.17935601028924097,
           "465": 0.7051391455705633,
           "466": 0.4551719917336564,
           "467": 0.6677605916031529,
           "468": 0.8373670797701507,
           "469": 0.16972842857692316,
           "47": 0.34652416795271823,
           "470": 0.01914486799683668,
           "471": 0.7791025863957868,
           "472": 0.6096974251526159,
           "473": 0.6996395696221217,
           "474": 0.8381549749886426,
           "475": 0.8028109348245005,
           "476": 0.9609201469288247,
           "477": 0.5359350788521182,
           "478": 0.48849563265990537,
           "479": 0.4018871998907301,
           "48": 0.39761237855287057,
           "480": 0.15369104284420454,
           "481": 0.5726072328820224,
           "482": 0.2770125243259788,
           "483": 0.9213075122129755,
           "484": 0.5831908042770976,
           "485": 0.5928401805081102,
           "486": 0.35492466087701,
           "487": 0.05198935197770749,
           "488": 0.03174376537298862,
           "489": 0.4233351441531975,
           "49": 0.2642762631586393,
           "490": 0.08456537809723785,
           "491": 0.6068469555401391,
           "492": 0.8809730056396574,
           "493": 0.8829148165187222,
           "494": 0.6590454101322324,
           "495": 0.211231831472931,
           "496": 0.8629968313588721,
           "497": 0.8860934353132082,
           "498": 0.1966535849529587,
           "499": 0.7374260857706773,
           "5": 0.8328303767882711,
           "50": 0.2053329387067998,
           "500": 0.28651954892712295,
           "501": 0.8026403123529297,
           "502": 0.9972378999036027,
           "503": 0.030026005329392813,
           "504": 0.8973658657909319,
           "505": 0.622630533598658,
           "506": 0.9733826191648212,
           "507": 0.4650095175264276,
           "508": 0.8473879305713737,
           "509": 0.06239406859827723,
           "51": 0.48303969755889,
           "510": 0.3352790500782957,
           "511": 0.06701653775120997,
           "512": 0.9753431334790705,
           "513": 0.8169739072718367,
           "514": 0.8525474212459705,
           "515": 0.9379652314338942,
           "516": 0.08510348611978535,
           "517": 0.38559759251333336,
           "518": 0.07103488904400213,
           "519": 0.21079310155002862,
           "52": 0.2685337560676073,
           "520": 0.22936577703767236,
           "521": 0.4691072110475787,
           "522": 0.2685621674536426,
           "523": 0.10097810681776109,
           "524": 0.1674910890941077,
           "525": 0.14727556355209093,
           "526": 0.9730767979122983,
           "527": 0.7592925069184736,
           "528": 0.967761465269562,
           "529": 0.43974048650790853,
           "53": 0.2874616648972501,
           "530": 0.2783684816626566,
           "531": 0.7982931972091867,
           "532": 0.3262539180411468,
           "533": 0.2993833737053483,
           "534": 0.2325059922078312,
           "535": 0.12967897822423535,
           "536": 0.25646306101676597,
           "537": 0.3553197484738877,
           "538": 0.6739942081457304,
           "539": 0.06256484221945158,
           "54": 0.6567560634745571,
           "540": 0.21050693966534295,
           "541": 0.8090236402916764,
           "542": 0.14692192358377076,
           "543": 0.34264514652252154,
           "544": 0.8646589218581401,
           "545": 0.15492531114344266,
           "546": 0.0827368356181899,
           "547": 0.48453799508001083,
           "548": 0.3024195112785364,
           "549": 0.5634083644838541,
           "55": 0.9685373316998922,
           "550": 0.8038048904834751,
           "551": 0.13714848815274316,
           "552": 0.580699084554285,
           "553": 0.5055087603898639,
           "554": 0.14407878601319957,
           "555": 0.6239984855289824,
           "556": 0.27364041786077165,
           "557": 0.4878343185440125,
           "558": 0.08227232427706188,
           "559": 0.45958405721362305,
           "56": 0.6036372005593751,
           "560": 0.3064634680428203,
           "561": 0.8223812111853543,
           "562": 0.05697872699736828,
           "563": 0.41860727491832994,
           "564": 0.458431424131438,
           "565": 0.7250060762991187,
           "566": 0.574287575090211,
           "567": 0.667212337194181,
           "568": 0.7770492856517561,
           "569": 0.8622029736581888,
           "57": 0.07697946706496628,
           "570": 0.3138754967224705,
           "571": 0.538022705363903,
           "572": 0.8401080784391999,
           "573": 0.9894511309650564,
           "574": 0.8895193110437631,
           "575": 0.3714672626243768,
           "576": 0.19516651721865041,
           "577": 0.4893925374065887,
           "578": 0.7416414518360422,
           "579": 0.4925690707532976,
           "58": 0.07558361385406698,
           "580": 0.4831808633136685,
           "581": 0.8382304210818006,
           "582": 0.36140377906718635,
           "583": 0.8597946748116456,
           "584": 0.40680480095172356,
           "585": 0.3282331056783394,
           "586": 0.453989911199699,
           "587": 0.7624469586748684,
           "588": 0.12600202786399428,
           "589": 0.19641921587201738,
           "59": 0.951423220845566,
           "590": 0.951444825663092,
           "591": 0.17549162738135737,
           "592": 0.5677273179310546,
           "593": 0.5793144666619379,
           "594": 0.4896244620502448,
           "595": 0.6447452485768186,
           "596": 0.22982672579761843,
           "597": 0.5526622677767482,
           "598": 0.37217325524689715,
           "599": 0.661667259629189,
           "6": 0.9060870604812605,
           "60": 0.29729079030733363,
           "600": 0.14122354337314946,
           "601": 0.5708774168394762,
           "602": 0.1852703553833237,
           "603": 0.2786430631150364,
           "604": 0.21870980032358323,
           "605": 0.1828377798688171,
           "606": 0.825710951560667,
           "607": 0.28570756766089034,
           "608": 0.9271237818644493,
           "609": 0.9699265253451909,
           "61": 0.09206698608247543,
           "610": 0.5712604699370973,
           "611": 0.1430011226657264,
           "612": 0.37454824337958126,
           "613": 0.797732263348214,
           "614": 0.36739072869707046,
           "615": 0.08701721830278875,
           "616": 0.5567849109281879,
           "617": 0.8451208514960348,
           "618": 0.7959263871435024,
           "619": 0.17512314013035324,
           "62": 0.5990445871503816,
           "620": 0.6727646144124667,
           "621": 0.2205042634356471,
           "622": 0.21820753455217223,
           "623": 0.8740717733051852,
           "624": 0.24966895274023015,
           "625": 0.2632473465180112,
           "626": 0.0006533907612995549,
           "627": 0.8706690341255177,
           "628": 0.7925948132091347,
           "629": 0.627328935090678,
           "63": 0.6236487782902661,
           "630": 0.7502657639388423,
           "631": 0.1520485674244918,
           "632": 0.45832359458757543,
           "633": 0.3512193873487809,
           "634": 0.09377652625701649,
           "635": 0.4861304852149241,
           "636": 0.9207396503426354,
           "637": 0.04005911905069448,
           "638": 0.2914609134937939,
           "639": 0.20754093620570346,
           "64": 0.6485048201186882,
           "640": 0.23814665366569632,
           "641": 0.9084345518793753,
           "642": 0.4680690542342901,
           "643": 0.4662994129398188,
           "644": 0.7605756424552823,
           "645": 0.1544922040049258,
           "646": 0.4872653541000508,
           "647": 0.4299852141210597,
           "648": 0.5969106905466561,
           "649": 0.9995577032504386,
           "65": 0.2674020278575413,
           "650": 0.7694488940820471,
           "651": 0.3978657030174272,
           "652": 0.827553052274047,
           "653": 0.17070836331248018,
           "654": 0.030463686308960125,
           "655": 0.20444837246427305,
           "656": 0.34041155611425966,
           "657": 0.5105807574595599,
           "658": 0.6151291405411998,
           "659": 0.9106057172144217,
           "66": 0.015110684214475034,
           "660": 0.5098540095504577,
           "661": 0.5012756446257294,
           "662": 0.05024300982298213,
           "663": 0.03491155265622381,
           "664": 0.5511599619163721,
           "665": 0.4381786132483445,
           "666": 0.8391803949802986,
           "667": 0.16067958471184518,
           "668": 0.024971662117049598,
           "669": 0.44903876793012587,
           "67": 0.9650153694544719,
           "670": 0.23747855675225749,
           "671": 0.04961437333883745,
           "672": 0.724598286847629,
           "673": 0.11159299995724747,
           "674": 0.6083195000077717,
           "675": 0.28104975016688916,
           "676": 0.17349605035502202,
           "677": 0.37975152291931746,
           "678": 0.8014457762229537,
           "679": 0.3920935769045727,
           "68": 0.2508930456911025,
           "680": 0.7507696492110557,
           "681": 0.1254862967991507,
           "682": 0.7727714196650791,
           "683": 0.23693332490664865,
           "684": 0.6773931298888728,
           "685": 0.5657815548409963,
           "686": 0.9291447172116873,
           "687": 0.38732251797531403,
           "688": 0.06616518883444045,
           "689": 0.019155485551252904,
           "69": 0.6760262880525475,
           "690": 0.8268585609727531,
           "691": 0.5247356376614322,
           "692": 0.7752440518349493,
           "693": 0.2344256000115147,
           "694": 0.34508374551323373,
           "695": 0.03010387221131894,
           "696": 0.9614923245741122,
           "697": 0.6678679067008134,
           "698": 0.9332050877593062,
           "699": 0.2654964074290723,
           "7": 0.012156771477386807,
           "70": 0.7066298698787096,
           "700": 0.6114636112256608,
           "701": 0.6784999682926378,
           "702": 0.31754970025758844,
           "703": 0.8481092350156301,
           "704": 0.9471614629002478,
           "705": 0.8848551176960043,
           "706": 0.7390669759393725,
           "707": 0.27746467972495403,
           "708": 0.28161604210563174,
           "709": 0.9633603204460379,
           "71": 0.6100074170794857,
           "710": 0.010284495935692028,
           "711": 0.7160499732421445,
           "712": 0.7062461625552622,
           "713": 0.6226895409497974,
           "714": 0.9901088460868658,
           "715": 0.31187943576372523,
           "716": 0.3399718637932482,
           "717": 0.07893940294655555,
           "718": 0.44279813654373745,
           "719": 0.2610485262348481,
           "72": 0.3129073942136482,
           "720": 0.3433867021776442,
           "721": 0.8345717902556277,
           "722": 0.9354845135274957,
           "723": 0.18573307200518563,
           "724": 0.37250893155346587,
           "725": 0.9286305621153941,
           "726": 0.06180846068922263,
           "727": 0.09236052811137851,
           "728": 0.16279098920622936,
           "729": 0.5952128341268748,
           "73": 0.27109625376406576,
           "730": 0.15047227100599747,
           "731": 0.9680763814507335,
           "732": 0.44671452725852034,
           "733": 0.5015179603501664,
           "734": 0.2466586158054065,
           "735": 0.4709602524347335,
           "736": 0.6619136326370115,
           "737": 0.7511771369540428,
           "738": 0.753868082709913,
           "739": 0.5778911126940883,
           "74": 0.5976682827027031,
           "740": 0.9043597749938572,
           "741": 0.8174078473061094,
           "742": 0.7570481146986254,
           "743": 0.05560552168046062,
           "744": 0.006877962219649314,
           "745": 0.21244727719547296,
           "746": 0.6635235939134523,
           "747": 0.4111974888825458,
           "748": 0.40240625929931173,
           "749": 0.8845868882296137,
           "75": 0.8660956336116915,
           "750": 0.8955628481318387,
           "751": 0.9091752640535857,
           "752": 0.3138780765150273,
           "753": 0.6910558127392618,
           "754": 0.27163318127436964,
           "755": 0.19060983307444979,
           "756": 0.18463245734736922,
           "757": 0.34210762086359403,
           "758": 0.4299576197798217,
           "759": 0.8309491710550684,
           "76": 0.9467337289233956,
           "760": 0.1198910934727121,
           "761": 0.7349258473948942,
           "762": 0.5314549141893053,
           "763": 0.2879453426759925,
           "764": 0.4928195845328246,
           "765": 0.29994206977702265,
           "766": 0.596081955238306,
           "767": 0.4338439228552442,
           "768": 0.16440552907887873,
           "769": 0.11658307455569672,
           "77": 0.10590580440375763,
           "770": 0.5466956820721302,
           "771": 0.9024130332861034,
           "772": 0.34395768655768555,
           "773": 0.7330001072226232,
           "774": 0.658661354939767,
           "775": 0.931554914309481,
           "776": 0.8209810172991409,
           "777": 0.566605258905463,
           "778": 0.6570304982341073,
           "779": 0.8983864665840349,
           "78": 0.15482861259771985,
           "780": 0.3995187845869348,
           "781": 0.32679470585777737,
           "782": 0.010811083635196339,
           "783": 0.8265510741914642,
           "784": 0.8009807004033649,
           "785": 0.10445451810015138,
           "786": 0.5768573811327002,
           "787": 0.4639816981668874,
           "788": 0.11870909550911146,
           "789": 0.9805682270607236,
           "79": 0.9447362587830797,
           "790": 0.21469588746335544,
           "791": 0.06723418009056115,
           "792": 0.5948473795019096,
           "793": 0.7388666771330327,
           "794": 0.03244344604718696,
           "795": 0.6587176387270222,
           "796": 0.5322918759514544,
           "797": 0.10326500887504841,
           "798": 0.17252387694636206,
           "799": 0.5679742973160805,
           "8": 0.6740199190587927,
           "80": 0.7365352283347926,
           "800": 0.2963576135132884,
           "801": 0.9383157286513161,
           "802": 0.8187402294840508,
           "803": 0.983567206513663,
           "804": 0.259670838950414,
           "805": 0.969723632797977,
           "806": 0.43123386979155787,
           "807": 0.3475187953137546,
           "808": 0.05034952696935324,
           "809": 0.05276525785960262,
           "81": 0.8829938248297731,
           "810": 0.6920112559466547,
           "811": 0.4579289944340279,
           "812": 0.2265216260361057,
           "813": 0.6139703063252326,
           "814": 0.2528581182501112,
           "815": 0.5776317543444226,
           "816": 0.35920874698269034,
           "817": 0.823552226611819,
           "818": 0.8206961607667793,
           "819": 0.4773503981224013,
           "82": 0.20263263413534316,
           "820": 0.3508191093350156,
           "821": 0.36255979655909454,
           "822": 0.8057145256682179,
           "823": 0.328179482797612,
           "824": 0.20905937370684602,
           "825": 0.08468834187530683,
           "826": 0.4666931208844084,
           "827": 0.4821320989198419,
           "828": 0.8409087104029072,
           "829": 0.22123869644606398,
           "83": 0.5875858711094019,
           "830": 0.3809912736683999,
           "831": 0.8084057388936909,
           "832": 0.8236236107489735,
           "833": 0.3846110759787682,
           "834": 0.4591240232866809,
           "835": 0.3032858908492829,
           "836": 0.9325548784193121,
           "837": 0.11864376574158031,
           "838": 0.93374942300147,
           "839": 0.6838664518353432,
           "84": 0.7011395944174736,
           "840": 0.5315721526867312,
           "841": 0.032659060784495875,
           "842": 0.4755961918220083,
           "843": 0.4077481050027323,
           "844": 0.16121881197512256,
           "845": 0.6564096035006569,
           "846": 0.9711509073682858,
           "847": 0.5621888110645251,
           "848": 0.7147532764439458,
           "849": 0.06845045256601678,
           "85": 0.6801118854469727,
           "850": 0.41766699581699473,
           "851": 0.11635848516449587,
           "852": 0.6127958355365104,
           "853": 0.9384821582141546,
           "854": 0.6617777324716385,
           "855": 0.07680304831442153,
           "856": 0.35466620498508283,
           "857": 0.5506633794408515,
           "858": 0.4032077561332522,
           "859": 0.8336440104751723,
           "86": 0.4081516908666981,
           "860": 0.8146710047099892,
           "861": 0.6118310201032214,
           "862": 0.37345794513270525,
           "863": 0.25533637376324414,
           "864": 0.10587431821312931,
           "865": 0.35489768348655404,
           "866": 0.4131725172077195,
           "867": 0.6758229251040736,
           "868": 0.6581598242975735,
           "869": 0.07010813964125695,
           "87": 0.015394891691308477,
           "870": 0.3952593154311578,
           "871": 0.18177886721736192,
           "872": 0.1568127053168057,
           "873": 0.8273021497372459,
           "874": 0.04191521671625753,
           "875": 0.41918287590212133,
           "876": 0.1682036557665182,
           "877": 0.879330215678474,
           "878": 0.5570405132750351,
           "879": 0.23138063637684803,
           "88": 0.5829260568042631,
           "880": 0.5024272871663764,
           "881": 0.7314863597031158,
           "882": 0.9581180089194338,
           "883": 0.22044600424541894,
           "884": 0.8861817721293451,
           "885": 0.9343041141674903,
           "886": 0.9164205445320662,
           "887": 0.6354143568619098,
           "888": 0.6298206544347077,
           "889": 0.4032106331838228,
           "89": 0.25310153917960876,
           "890": 0.7523978823037879,
           "891": 0.5312940183509319,
           "892": 0.6774380712282945,
           "893": 0.42845790384879545,
           "894": 0.7314964640431391,
           "895": 0.8244715176045491,
           "896": 0.14643625660281612,
           "897": 0.832929715574228,
           "898": 0.5402965317903072,
           "899": 0.8446659090902243,
           "9": 0.05183579911972902,
           "90": 0.45025424614289034,
           "900": 0.4313017063410146,
           "901": 0.37904048538303503,
           "902": 0.9150607325172224,
           "903": 0.2511692675484013,
           "904": 0.8442123252861431,
           "905": 0.4840205725094041,
           "906": 0.5140954425512597,
           "907": 0.308468281489484,
           "908": 0.5730422006190157,
           "909": 0.3252111962762113,
           "91": 0.9575810150838173,
           "910": 0.03926941424165231,
           "911": 0.27199860534435605,
           "912": 0.006379043406590679,
           "913": 0.9783547870568566,
           "914": 0.9657472098197475,
           "915": 0.39515529747230504,
           "916": 0.728370854339646,
           "917": 0.345806098410425,
           "918": 0.671093157085976,
           "919": 0.8054300430459791,
           "92": 0.3990353176424347,
           "920": 0.9467562446922407,
           "921": 0.400212275849672,
           "922": 0.7832979829560477,
           "923": 0.2659284506321188,
           "924": 0.9903323037936483,
           "925": 0.025769598764351143,
           "926": 0.603528806501121,
           "927": 0.6595059816513271,
           "928": 0.6880455570741288,
           "929": 0.12038757878908901,
           "93": 0.8398016066644267,
           "930": 0.9385297834731304,
           "931": 0.1811832790500828,
           "932": 0.6227534032398411,
           "933": 0.22267607912308496,
           "934": 0.3072164170212709,
           "935": 0.5464585417281244,
           "936": 0.4171934185645765,
           "937": 0.1602256009765063,
           "938": 0.1709364024208483,
           "939": 0.41814478816279965,
           "94": 0.18854060574925113,
           "940": 0.7572829782755007,
           "941": 0.8979646468477885,
           "942": 0.08412766225938284,
           "943": 0.39310390755940106,
           "944": 0.10024556372287663,
           "945": 0.016592480632597884,
           "946": 0.6617186826439566,
           "947": 0.6024494419665878,
           "948": 0.1630191138148862,
           "949": 0.2338128330930641,
           "95": 0.6724604980250288,
           "950": 0.02370775364451838,
           "951": 0.8349472056944037,
           "952": 0.9746905960485515,
           "953": 0.1354595367946908,
           "954": 0.23147521376529812,
           "955": 0.868409523946934,
           "956": 0.9264637979561848,
           "957": 0.41962738280681033,
           "958": 0.050622472269074126,
           "959": 0.0393918336928194,
           "96": 0.9770069544389435,
           "960": 0.5739498660690104,
           "961": 0.392895108893179,
           "962": 0.028652427577654516,
           "963": 0.5832523923125568,
           "964": 0.011302536589022472,
           "965": 0.787371958149273,
           "966": 0.3064328227033716,
           "967": 0.0402580030092321,
           "968": 0.5883522209831533,
           "969": 0.3976844144330547,
           "97": 0.10189310087293679,
           "970": 0.9738004133571495,
           "971": 0.5441986625037022,
           "972": 0.2752391810370083,
           "973": 0.7094388646339748,
           "974": 0.27149200254271133,
           "975": 0.9042432914075651,
           "976": 0.37472197050737643,
           "977": 0.5498685627762052,
           "978": 0.05057310382422886,
           "979": 0.4261212379522308,
           "98": 0.008319942227192012,
           "980": 0.832363539660995,
           "981": 0.8056488053633419,
           "982": 0.22431855885352625,
           "983": 0.22607907101056268,
           "984": 0.8173053122132368,
           "985": 0.9303984201693255,
           "986": 0.09536092127300355,
           "987": 0.45005863942622526,
           "988": 0.33745427896422897,
           "989": 0.8706884554574393,
           "99": 0.43358279263261434,
           "990": 0.08352491468001877,
           "991": 0.2111259425580374,
           "992": 0.7524683375864943,
           "993": 0.051293848981215584,
           "994": 0.49253538071428926,
           "995": 0.44210703467972,
           "996": 0.33440117898874866,
           "997": 0.3945723153189238,
           "998": 0.5299405869302329,
           "999": 0.16136735838838312,
           "bdata": "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",
           "dtype": "f8",
           "shape": "1000"
          },
          "bdata": "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",
          "dtype": "f8"
         },
         "yaxis": "y"
        }
       ],
       "layout": {
        "autosize": true,
        "coloraxis": {
         "colorbar": {
          "title": {
           "text": "risk_cluster"
          }
         },
         "colorscale": [
          [
           0,
           "#000011"
          ],
          [
           0.1111111111111111,
           "#000012"
          ],
          [
           0.2222222222222222,
           "#000013"
          ],
          [
           0.3333333333333333,
           "#000014"
          ],
          [
           0.4444444444444444,
           "#000015"
          ],
          [
           0.5555555555555556,
           "#000016"
          ],
          [
           0.6666666666666666,
           "#000017"
          ],
          [
           0.7777777777777778,
           "#000018"
          ],
          [
           0.8888888888888888,
           "#000019"
          ],
          [
           1,
           "#000020"
          ]
         ]
        },
        "legend": {
         "tracegroupgap": 0
        },
        "template": {
         "data": {
          "candlestick": [
           {
            "decreasing": {
             "line": {
              "color": "#000033"
             }
            },
            "increasing": {
             "line": {
              "color": "#000032"
             }
            },
            "type": "candlestick"
           }
          ],
          "contour": [
           {
            "colorscale": [
             [
              0,
              "#000011"
             ],
             [
              0.1111111111111111,
              "#000012"
             ],
             [
              0.2222222222222222,
              "#000013"
             ],
             [
              0.3333333333333333,
              "#000014"
             ],
             [
              0.4444444444444444,
              "#000015"
             ],
             [
              0.5555555555555556,
              "#000016"
             ],
             [
              0.6666666666666666,
              "#000017"
             ],
             [
              0.7777777777777778,
              "#000018"
             ],
             [
              0.8888888888888888,
              "#000019"
             ],
             [
              1,
              "#000020"
             ]
            ],
            "type": "contour"
           }
          ],
          "contourcarpet": [
           {
            "colorscale": [
             [
              0,
              "#000011"
             ],
             [
              0.1111111111111111,
              "#000012"
             ],
             [
              0.2222222222222222,
              "#000013"
             ],
             [
              0.3333333333333333,
              "#000014"
             ],
             [
              0.4444444444444444,
              "#000015"
             ],
             [
              0.5555555555555556,
              "#000016"
             ],
             [
              0.6666666666666666,
              "#000017"
             ],
             [
              0.7777777777777778,
              "#000018"
             ],
             [
              0.8888888888888888,
              "#000019"
             ],
             [
              1,
              "#000020"
             ]
            ],
            "type": "contourcarpet"
           }
          ],
          "heatmap": [
           {
            "colorscale": [
             [
              0,
              "#000011"
             ],
             [
              0.1111111111111111,
              "#000012"
             ],
             [
              0.2222222222222222,
              "#000013"
             ],
             [
              0.3333333333333333,
              "#000014"
             ],
             [
              0.4444444444444444,
              "#000015"
             ],
             [
              0.5555555555555556,
              "#000016"
             ],
             [
              0.6666666666666666,
              "#000017"
             ],
             [
              0.7777777777777778,
              "#000018"
             ],
             [
              0.8888888888888888,
              "#000019"
             ],
             [
              1,
              "#000020"
             ]
            ],
            "type": "heatmap"
           }
          ],
          "histogram2d": [
           {
            "colorscale": [
             [
              0,
              "#000011"
             ],
             [
              0.1111111111111111,
              "#000012"
             ],
             [
              0.2222222222222222,
              "#000013"
             ],
             [
              0.3333333333333333,
              "#000014"
             ],
             [
              0.4444444444444444,
              "#000015"
             ],
             [
              0.5555555555555556,
              "#000016"
             ],
             [
              0.6666666666666666,
              "#000017"
             ],
             [
              0.7777777777777778,
              "#000018"
             ],
             [
              0.8888888888888888,
              "#000019"
             ],
             [
              1,
              "#000020"
             ]
            ],
            "type": "histogram2d"
           }
          ],
          "icicle": [
           {
            "textfont": {
             "color": "white"
            },
            "type": "icicle"
           }
          ],
          "sankey": [
           {
            "textfont": {
             "color": "#000036"
            },
            "type": "sankey"
           }
          ],
          "scatter": [
           {
            "marker": {
             "line": {
              "width": 0
             }
            },
            "type": "scatter"
           }
          ],
          "table": [
           {
            "cells": {
             "fill": {
              "color": "#000038"
             },
             "font": {
              "color": "#000037"
             },
             "line": {
              "color": "#000039"
             }
            },
            "header": {
             "fill": {
              "color": "#000040"
             },
             "font": {
              "color": "#000036"
             },
             "line": {
              "color": "#000039"
             }
            },
            "type": "table"
           }
          ],
          "waterfall": [
           {
            "connector": {
             "line": {
              "color": "#000036",
              "width": 2
             }
            },
            "decreasing": {
             "marker": {
              "color": "#000033"
             }
            },
            "increasing": {
             "marker": {
              "color": "#000032"
             }
            },
            "totals": {
             "marker": {
              "color": "#000034"
             }
            },
            "type": "waterfall"
           }
          ]
         },
         "layout": {
          "coloraxis": {
           "colorscale": [
            [
             0,
             "#000011"
            ],
            [
             0.1111111111111111,
             "#000012"
            ],
            [
             0.2222222222222222,
             "#000013"
            ],
            [
             0.3333333333333333,
             "#000014"
            ],
            [
             0.4444444444444444,
             "#000015"
            ],
            [
             0.5555555555555556,
             "#000016"
            ],
            [
             0.6666666666666666,
             "#000017"
            ],
            [
             0.7777777777777778,
             "#000018"
            ],
            [
             0.8888888888888888,
             "#000019"
            ],
            [
             1,
             "#000020"
            ]
           ]
          },
          "colorscale": {
           "diverging": [
            [
             0,
             "#000021"
            ],
            [
             0.1,
             "#000022"
            ],
            [
             0.2,
             "#000023"
            ],
            [
             0.3,
             "#000024"
            ],
            [
             0.4,
             "#000025"
            ],
            [
             0.5,
             "#000026"
            ],
            [
             0.6,
             "#000027"
            ],
            [
             0.7,
             "#000028"
            ],
            [
             0.8,
             "#000029"
            ],
            [
             0.9,
             "#000030"
            ],
            [
             1,
             "#000031"
            ]
           ],
           "sequential": [
            [
             0,
             "#000011"
            ],
            [
             0.1111111111111111,
             "#000012"
            ],
            [
             0.2222222222222222,
             "#000013"
            ],
            [
             0.3333333333333333,
             "#000014"
            ],
            [
             0.4444444444444444,
             "#000015"
            ],
            [
             0.5555555555555556,
             "#000016"
            ],
            [
             0.6666666666666666,
             "#000017"
            ],
            [
             0.7777777777777778,
             "#000018"
            ],
            [
             0.8888888888888888,
             "#000019"
            ],
            [
             1,
             "#000020"
            ]
           ],
           "sequentialminus": [
            [
             0,
             "#000011"
            ],
            [
             0.1111111111111111,
             "#000012"
            ],
            [
             0.2222222222222222,
             "#000013"
            ],
            [
             0.3333333333333333,
             "#000014"
            ],
            [
             0.4444444444444444,
             "#000015"
            ],
            [
             0.5555555555555556,
             "#000016"
            ],
            [
             0.6666666666666666,
             "#000017"
            ],
            [
             0.7777777777777778,
             "#000018"
            ],
            [
             0.8888888888888888,
             "#000019"
            ],
            [
             1,
             "#000020"
            ]
           ]
          },
          "colorway": [
           "#000001",
           "#000002",
           "#000003",
           "#000004",
           "#000005",
           "#000006",
           "#000007",
           "#000008",
           "#000009",
           "#000010"
          ]
         }
        },
        "title": {
         "text": "Risk Concentration Clusters"
        },
        "xaxis": {
         "anchor": "y",
         "autorange": true,
         "domain": [
          0,
          1
         ],
         "range": [
          -4483.471304919018,
          1056983.861211117
         ],
         "title": {
          "text": "coverage_amount"
         },
         "type": "linear"
        },
        "yaxis": {
         "anchor": "x",
         "autorange": true,
         "domain": [
          0,
          1
         ],
         "range": [
          -0.08178046026935755,
          1.0819915542810956
         ],
         "title": {
          "text": "risk_score"
         },
         "type": "linear"
        }
       }
      },
      "image/png": "[encoded data removed]"
     },
     "metadata": {},
     "output_type": "display_data"
    },
    {
     "name": "stdout",
     "output_type": "stream",
     "text": [
      "High risk concentration detected: 197,114,377.39 in cluster 0\n"
     ]
    }
   ],
   "source": [
    "def detect_risk_concentrations(df):\n",
    "    features = df[['coverage_amount', 'risk_score']]\n",
    "    scaler = StandardScaler()\n",
    "    scaled_features = scaler.fit_transform(features)\n",
    "    kmeans = KMeans(n_clusters=3, random_state=42)\n",
    "    df['risk_cluster'] = kmeans.fit_predict(scaled_features)\n",
    "    fig = px.scatter(df, x='coverage_amount', y='risk_score', color='risk_cluster',\n",
    "                     hover_data=['policy_id', 'policy_type', 'region'], title='Risk Concentration Clusters')\n",
    "    fig.show()\n",
    "    high_risk = df[df['risk_cluster'] == df['risk_cluster'].value_counts().idxmax()]\n",
    "    alerts = []\n",
    "    if high_risk['coverage_amount'].sum() > df['coverage_amount'].sum() * 0.3:\n",
    "        alerts.append(f\"High risk concentration detected: {high_risk['coverage_amount'].sum():,.2f} in cluster {df['risk_cluster'].value_counts().idxmax()}\")\n",
    "    return df, alerts\n",
    "\n",
    "# Detect concentrations\n",
    "policies, alerts = detect_risk_concentrations(policies)\n",
    "for alert in alerts:\n",
    "    print(alert)"
   ]
  },
  {
   "cell_type": "code",
   "execution_count": null,
   "id": "661fc557-7dfc-48bf-afd6-c80345b3e682",
   "metadata": {},
   "outputs": [],
   "source": [
    "def monte_carlo_simulation(df, n_simulations=1000):\n",
    "    simulated_losses = []\n",
    "    for _ in range(n_simulations):\n",
    "        temp_df = df.copy()\n",
    "        for idx, row in temp_df.iterrows():\n",
    "            claim_probability = row['risk_score'] * 0.1\n",
    "            if np.random.random() < claim_probability:\n",
    "                temp_df.loc[idx, 'claims'] += np.random.uniform(10000, 500000)\n",
    "        simulated_losses.append(temp_df['claims'].sum())\n",
    "    fig = px.histogram(simulated_losses, nbins=50, title='Monte Carlo Simulation: Total Claims Distribution')\n",
    "    fig.show()\n",
    "    return pd.DataFrame(simulated_losses, columns=['total_claims'])\n",
    "\n",
    "# Run simulation\n",
    "simulated_losses = monte_carlo_simulation(policies)"
   ]
  },
  {
   "cell_type": "code",
   "execution_count": 1,
   "id": "c63b725c-a91e-4dcc-acea-1992d88bc6c7",
   "metadata": {},
   "outputs": [
    {
     "name": "stderr",
     "output_type": "stream",
     "text": [
      "2025-07-08 12:56:08.992 WARNING streamlit.runtime.scriptrunner_utils.script_run_context: Thread 'MainThread': missing ScriptRunContext! This warning can be ignored when running in bare mode.\n",
      "2025-07-08 12:56:08.993 WARNING streamlit.runtime.scriptrunner_utils.script_run_context: Thread 'MainThread': missing ScriptRunContext! This warning can be ignored when running in bare mode.\n",
      "2025-07-08 12:56:09.366 \n",
      "  \u001b[33m\u001b[1mWarning:\u001b[0m to view this Streamlit app on a browser, run it with the following\n",
      "  command:\n",
      "\n",
      "    streamlit run C:\\Users\\mvska\\AppData\\Local\\Programs\\Python\\Python311\\Lib\\site-packages\\ipykernel_launcher.py [ARGUMENTS]\n",
      "2025-07-08 12:56:09.367 Thread 'MainThread': missing ScriptRunContext! This warning can be ignored when running in bare mode.\n",
      "2025-07-08 12:56:09.368 No runtime found, using MemoryCacheStorageManager\n",
      "2025-07-08 12:56:09.371 No runtime found, using MemoryCacheStorageManager\n",
      "2025-07-08 12:56:09.373 No runtime found, using MemoryCacheStorageManager\n",
      "2025-07-08 12:56:09.374 Thread 'MainThread': missing ScriptRunContext! This warning can be ignored when running in bare mode.\n",
      "2025-07-08 12:56:09.375 Thread 'MainThread': missing ScriptRunContext! This warning can be ignored when running in bare mode.\n",
      "2025-07-08 12:56:09.378 Thread 'MainThread': missing ScriptRunContext! This warning can be ignored when running in bare mode.\n",
      "2025-07-08 12:56:09.380 Thread 'MainThread': missing ScriptRunContext! This warning can be ignored when running in bare mode.\n",
      "2025-07-08 12:56:09.382 Thread 'MainThread': missing ScriptRunContext! This warning can be ignored when running in bare mode.\n",
      "2025-07-08 12:56:09.383 Thread 'MainThread': missing ScriptRunContext! This warning can be ignored when running in bare mode.\n",
      "2025-07-08 12:56:09.384 Session state does not function when running a script without `streamlit run`\n",
      "2025-07-08 12:56:09.387 Thread 'MainThread': missing ScriptRunContext! This warning can be ignored when running in bare mode.\n",
      "2025-07-08 12:56:09.388 Thread 'MainThread': missing ScriptRunContext! This warning can be ignored when running in bare mode.\n",
      "2025-07-08 12:56:09.389 Thread 'MainThread': missing ScriptRunContext! This warning can be ignored when running in bare mode.\n",
      "2025-07-08 12:56:09.389 Thread 'MainThread': missing ScriptRunContext! This warning can be ignored when running in bare mode.\n",
      "2025-07-08 12:56:09.390 No runtime found, using MemoryCacheStorageManager\n",
      "2025-07-08 12:56:09.392 Thread 'MainThread': missing ScriptRunContext! This warning can be ignored when running in bare mode.\n",
      "2025-07-08 12:56:09.398 Thread 'MainThread': missing ScriptRunContext! This warning can be ignored when running in bare mode.\n",
      "2025-07-08 12:56:09.399 Thread 'MainThread': missing ScriptRunContext! This warning can be ignored when running in bare mode.\n",
      "2025-07-08 12:56:09.401 Thread 'MainThread': missing ScriptRunContext! This warning can be ignored when running in bare mode.\n",
      "2025-07-08 12:56:09.430 Thread 'MainThread': missing ScriptRunContext! This warning can be ignored when running in bare mode.\n",
      "2025-07-08 12:56:09.431 Thread 'MainThread': missing ScriptRunContext! This warning can be ignored when running in bare mode.\n",
      "2025-07-08 12:56:09.434 Thread 'MainThread': missing ScriptRunContext! This warning can be ignored when running in bare mode.\n",
      "2025-07-08 12:56:09.437 Thread 'MainThread': missing ScriptRunContext! This warning can be ignored when running in bare mode.\n",
      "2025-07-08 12:56:09.438 Thread 'MainThread': missing ScriptRunContext! This warning can be ignored when running in bare mode.\n",
      "2025-07-08 12:56:09.441 Thread 'MainThread': missing ScriptRunContext! This warning can be ignored when running in bare mode.\n",
      "2025-07-08 12:56:09.444 Thread 'MainThread': missing ScriptRunContext! This warning can be ignored when running in bare mode.\n",
      "2025-07-08 12:56:09.449 Thread 'MainThread': missing ScriptRunContext! This warning can be ignored when running in bare mode.\n",
      "2025-07-08 12:56:09.454 Thread 'MainThread': missing ScriptRunContext! This warning can be ignored when running in bare mode.\n",
      "2025-07-08 12:56:09.456 No runtime found, using MemoryCacheStorageManager\n",
      "2025-07-08 12:56:09.502 Thread 'MainThread': missing ScriptRunContext! This warning can be ignored when running in bare mode.\n",
      "2025-07-08 12:56:09.503 Thread 'MainThread': missing ScriptRunContext! This warning can be ignored when running in bare mode.\n",
      "2025-07-08 12:56:09.503 Thread 'MainThread': missing ScriptRunContext! This warning can be ignored when running in bare mode.\n",
      "2025-07-08 12:56:09.519 Thread 'MainThread': missing ScriptRunContext! This warning can be ignored when running in bare mode.\n",
      "2025-07-08 12:56:09.520 Thread 'MainThread': missing ScriptRunContext! This warning can be ignored when running in bare mode.\n",
      "2025-07-08 12:56:09.521 Thread 'MainThread': missing ScriptRunContext! This warning can be ignored when running in bare mode.\n",
      "2025-07-08 12:56:09.522 Thread 'MainThread': missing ScriptRunContext! This warning can be ignored when running in bare mode.\n",
      "2025-07-08 12:56:09.522 Thread 'MainThread': missing ScriptRunContext! This warning can be ignored when running in bare mode.\n",
      "2025-07-08 12:56:09.523 Thread 'MainThread': missing ScriptRunContext! This warning can be ignored when running in bare mode.\n",
      "2025-07-08 12:56:09.523 Thread 'MainThread': missing ScriptRunContext! This warning can be ignored when running in bare mode.\n",
      "2025-07-08 12:56:09.703 Thread 'MainThread': missing ScriptRunContext! This warning can be ignored when running in bare mode.\n",
      "2025-07-08 12:56:09.704 Thread 'MainThread': missing ScriptRunContext! This warning can be ignored when running in bare mode.\n",
      "2025-07-08 12:56:09.704 Thread 'MainThread': missing ScriptRunContext! This warning can be ignored when running in bare mode.\n",
      "2025-07-08 12:56:09.704 Thread 'MainThread': missing ScriptRunContext! This warning can be ignored when running in bare mode.\n",
      "2025-07-08 12:56:09.704 Thread 'MainThread': missing ScriptRunContext! This warning can be ignored when running in bare mode.\n",
      "2025-07-08 12:56:09.705 Thread 'MainThread': missing ScriptRunContext! This warning can be ignored when running in bare mode.\n",
      "2025-07-08 12:56:09.744 Thread 'MainThread': missing ScriptRunContext! This warning can be ignored when running in bare mode.\n",
      "2025-07-08 12:56:09.745 Thread 'MainThread': missing ScriptRunContext! This warning can be ignored when running in bare mode.\n",
      "2025-07-08 12:56:09.747 Thread 'MainThread': missing ScriptRunContext! This warning can be ignored when running in bare mode.\n",
      "2025-07-08 12:56:09.750 Thread 'MainThread': missing ScriptRunContext! This warning can be ignored when running in bare mode.\n"
     ]
    }
   ],
   "source": [
    "import streamlit as st\n",
    "import pandas as pd\n",
    "import numpy as np\n",
    "from sklearn.preprocessing import StandardScaler\n",
    "from sklearn.cluster import KMeans\n",
    "import plotly.express as px\n",
    "import time\n",
    "import uuid\n",
    "\n",
    "# Page config must be first\n",
    "st.set_page_config(page_title='Insurance Risk Management Dashboard', layout='wide')\n",
    "\n",
    "# Custom CSS\n",
    "st.markdown('''\n",
    "    <style>\n",
    "        body { font-family: Arial, sans-serif; background-color: #f5f5f5; color: #333; }\n",
    "        .sidebar .sidebar-content { background-color: #fff; padding: 20px; }\n",
    "        .main { margin-left: 270px; }\n",
    "        .header { background-color: #007bff; color: white; padding: 10px; text-align: center; }\n",
    "        .content { padding: 20px; }\n",
    "        .stButton>button { background-color: #007bff; color: white; }\n",
    "    </style>\n",
    "''', unsafe_allow_html=True)\n",
    "\n",
    "# Data functions\n",
    "@st.cache_data\n",
    "def get_policies():\n",
    "    if 'policies' not in st.session_state:\n",
    "        np.random.seed(42)\n",
    "        n_policies = 1000\n",
    "        policies = pd.DataFrame({\n",
    "            'policy_id': [str(uuid.uuid4()) for _ in range(n_policies)],\n",
    "            'policy_type': np.random.choice(['Auto', 'Home', 'Health', 'Commercial'], n_policies),\n",
    "            'region': np.random.choice(['North', 'South', 'East', 'West'], n_policies),\n",
    "            'coverage_amount': np.random.uniform(50000, 1000000, n_policies),\n",
    "            'premium': np.random.uniform(1000, 10000, n_policies),\n",
    "            'risk_score': np.random.uniform(0, 1, n_policies),\n",
    "            'claims': np.zeros(n_policies),\n",
    "            'last_updated': [time.time()] * n_policies\n",
    "        })\n",
    "        policies.to_csv('streamlit_insurance_policies.csv', index=False)\n",
    "        st.session_state.policies = policies\n",
    "        st.session_state.claims = pd.DataFrame({\n",
    "            'policy_id': pd.Series(dtype='str'),\n",
    "            'claim_amount': pd.Series(dtype='float64'),\n",
    "            'claim_time': pd.Series(dtype='float64')\n",
    "        })\n",
    "    return st.session_state.policies\n",
    "\n",
    "def simulate_real_time_claims():\n",
    "    policies = st.session_state.policies\n",
    "    new_claims = pd.DataFrame({\n",
    "        'policy_id': np.random.choice(policies['policy_id'], size=5),\n",
    "        'claim_amount': np.random.uniform(10000, 200000, 5),\n",
    "        'claim_time': [time.time()] * 5\n",
    "    })\n",
    "    st.session_state.claims = pd.concat([st.session_state.claims, new_claims], ignore_index=True)\n",
    "    for policy_id, claim_amount in zip(new_claims['policy_id'], new_claims['claim_amount']):\n",
    "        policies.loc[policies['policy_id'] == policy_id, 'claims'] += claim_amount\n",
    "    policies.to_csv('streamlit_insurance_policies.csv', index=False)\n",
    "    return new_claims\n",
    "\n",
    "@st.cache_data\n",
    "def aggregate_risk(df):\n",
    "    type_agg = df.groupby('policy_type').agg({\n",
    "        'coverage_amount': 'sum', 'premium': 'sum', 'risk_score': 'mean', 'claims': 'sum'\n",
    "    }).reset_index()\n",
    "    type_agg['exposure_ratio'] = type_agg['coverage_amount'] / type_agg['premium']\n",
    "    region_agg = df.groupby('region').agg({\n",
    "        'coverage_amount': 'sum', 'premium': 'sum', 'risk_score': 'mean', 'claims': 'sum'\n",
    "    }).reset_index()\n",
    "    region_agg['exposure_ratio'] = region_agg['coverage_amount'] / region_agg['premium']\n",
    "    return type_agg, region_agg\n",
    "\n",
    "def correlation_analysis(df):\n",
    "    pivot = df.pivot_table(values='coverage_amount', index='policy_type', columns='region', aggfunc='sum').fillna(0)\n",
    "    corr_matrix = pivot.corr()\n",
    "    return px.imshow(corr_matrix, color_continuous_scale='RdBu', zmin=-1, zmax=1, title='Correlation of Coverage Amount by Region'), corr_matrix\n",
    "\n",
    "@st.cache_data\n",
    "def detect_risk_concentrations(df):\n",
    "    features = df[['coverage_amount', 'risk_score']]\n",
    "    scaler = StandardScaler()\n",
    "    scaled_features = scaler.fit_transform(features)\n",
    "    kmeans = KMeans(n_clusters=3, random_state=42)\n",
    "    df['risk_cluster'] = kmeans.fit_predict(scaled_features)\n",
    "    high_risk = df[df['risk_cluster'] == df['risk_cluster'].value_counts().idxmax()]\n",
    "    alerts = []\n",
    "    if high_risk['coverage_amount'].sum() > df['coverage_amount'].sum() * 0.3:\n",
    "        alerts.append(f\"High risk concentration detected: {high_risk['coverage_amount'].sum():,.2f} in cluster {df['risk_cluster'].value_counts().idxmax()}\")\n",
    "    return df, alerts\n",
    "\n",
    "def monte_carlo_simulation(df, n_simulations=1000):\n",
    "    simulated_losses = []\n",
    "    for _ in range(n_simulations):\n",
    "        temp_df = df.copy()\n",
    "        for idx, row in temp_df.iterrows():\n",
    "            claim_probability = row['risk_score'] * 0.1\n",
    "            if np.random.random() < claim_probability:\n",
    "                temp_df.loc[idx, 'claims'] += np.random.uniform(10000, 500000)\n",
    "        simulated_losses.append(temp_df['claims'].sum())\n",
    "    return pd.DataFrame(simulated_losses, columns=['total_claims'])\n",
    "\n",
    "# Sidebar Navigation\n",
    "st.sidebar.header('Navigation')\n",
    "page = st.sidebar.radio('Select Page', ['Overview', 'Risk Analysis', 'Stress Testing', 'Real-Time Dashboard'])\n",
    "\n",
    "# Main Dashboard\n",
    "st.markdown('<div class=\"header\">Insurance Portfolio Risk Management Dashboard</div>', unsafe_allow_html=True)\n",
    "policies = get_policies()\n",
    "\n",
    "if page == 'Overview':\n",
    "    st.header('Portfolio Overview')\n",
    "    type_agg, region_agg = aggregate_risk(policies)\n",
    "    col1, col2 = st.columns(2)\n",
    "    with col1:\n",
    "        st.subheader('Exposure by Policy Type')\n",
    "        fig_type = px.bar(type_agg, x='policy_type', y='coverage_amount', title='Exposure by Policy Type', text_auto='.2s')\n",
    "        st.plotly_chart(fig_type, use_container_width=True)\n",
    "    with col2:\n",
    "        st.subheader('Exposure by Region')\n",
    "        fig_region = px.bar(region_agg, x='region', y='coverage_amount', title='Exposure by Region', text_auto='.2s')\n",
    "        st.plotly_chart(fig_region, use_container_width=True)\n",
    "\n",
    "elif page == 'Risk Analysis':\n",
    "    st.header('Risk Analysis')\n",
    "    fig_corr, corr_matrix = correlation_analysis(policies)\n",
    "    st.plotly_chart(fig_corr, use_container_width=True)\n",
    "    st.subheader('Risk Concentrations')\n",
    "    policies, alerts = detect_risk_concentrations(policies)\n",
    "    st.plotly_chart(px.scatter(policies, x='coverage_amount', y='risk_score', color='risk_cluster',\n",
    "                              hover_data=['policy_id', 'policy_type', 'region'], title='Risk Concentration Clusters'),\n",
    "                    use_container_width=True)\n",
    "    for alert in alerts:\n",
    "        st.error(alert)\n",
    "\n",
    "elif page == 'Stress Testing':\n",
    "    st.header('Stress Testing')\n",
    "    st.subheader('Monte Carlo Simulation')\n",
    "    n_simulations = st.slider('Number of Simulations', 100, 2000, 1000)\n",
    "    simulated_losses = monte_carlo_simulation(policies, n_simulations)\n",
    "    st.plotly_chart(px.histogram(simulated_losses, x='total_claims', nbins=50, title='Total Claims Distribution'),\n",
    "                    use_container_width=True)\n",
    "\n",
    "elif page == 'Real-Time Dashboard':\n",
    "    st.header('Real-Time Dashboard')\n",
    "    placeholder = st.empty()\n",
    "    while True:\n",
    "        with placeholder.container():\n",
    "            policies = get_policies()\n",
    "            new_claims = simulate_real_time_claims()\n",
    "            col1, col2 = st.columns([3, 1])\n",
    "            with col1:\n",
    "                st.subheader('Live Claims Updates')\n",
    "                st.dataframe(new_claims.tail(10), column_config={\n",
    "                    'claim_amount': st.column_config.NumberColumn('Claim Amount', format='$%.2f'),\n",
    "                    'claim_time': st.column_config.DatColumn('Claim Time', format='%Y-%m-%d %H:%M:%S')\n",
    "                }, use_container_width=True)\n",
    "            with col2:\n",
    "                st.subheader('Latest Policies')\n",
    "                st.dataframe(policies.tail(10), use_container_width=True)\n",
    "        time.sleep(5)\n",
    "        st.rerun()\n"
   ]
  },
  {
   "cell_type": "code",
   "execution_count": null,
   "id": "4c3d1133-21d9-418b-9da0-460cead66d48",
   "metadata": {},
   "outputs": [],
   "source": []
  }
 ],
 "metadata": {
  "kernelspec": {
   "display_name": "Python 3 (ipykernel)",
   "language": "python",
   "name": "python3"
  },
  "language_info": {
   "codemirror_mode": {
    "name": "ipython",
    "version": 3
   },
   "file_extension": ".py",
   "mimetype": "text/x-python",
   "name": "python",
   "nbconvert_exporter": "python",
   "pygments_lexer": "ipython3",
   "version": "3.11.3"
  }
 },
 "nbformat": 4,
 "nbformat_minor": 5
}
